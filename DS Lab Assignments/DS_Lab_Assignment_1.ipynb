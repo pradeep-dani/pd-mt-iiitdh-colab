{
  "cells": [
    {
      "cell_type": "code",
      "execution_count": 1,
      "metadata": {
        "colab": {
          "base_uri": "https://localhost:8080/"
        },
        "id": "NooIv1YtkzFa",
        "outputId": "ed0e826b-1aaa-410d-a097-a1792357dbfa"
      },
      "outputs": [
        {
          "name": "stdout",
          "output_type": "stream",
          "text": [
            "\n",
            "GST to be paid ( 18.0 %): ₹82.08\n",
            "Total bill amount: ₹538.08\n"
          ]
        }
      ],
      "source": [
        "# Prompt the user to enter the price of the meal\n",
        "meal_price = input(\"Enter the price of the meal (in ₹): \")\n",
        "meal_price = float(meal_price)\n",
        "\n",
        "# Define GST rate\n",
        "gst_rate = 0.18  # 18%\n",
        "\n",
        "# Calculate GST amount\n",
        "gst_amount = meal_price * gst_rate\n",
        "\n",
        "# Calculate total bill\n",
        "total_bill = meal_price + gst_amount\n",
        "\n",
        "# Display the results\n",
        "print(f\"\\nGST to be paid ( {gst_rate * 100} %): ₹{gst_amount}\")\n",
        "print(f\"Total bill amount: ₹{total_bill}\")"
      ]
    },
    {
      "cell_type": "code",
      "execution_count": 2,
      "metadata": {
        "colab": {
          "base_uri": "https://localhost:8080/",
          "height": 104
        },
        "id": "kS1rng8KlZJA",
        "outputId": "a5db99e7-be55-4004-ecc4-0340939619d7"
      },
      "outputs": [
        {
          "name": "stdout",
          "output_type": "stream",
          "text": [
            "Two complex roots: -0.9347826086956522 + 1569.6391983949675i and -0.9347826086956522 - 1569.6391983949675i\n"
          ]
        },
        {
          "data": {
            "text/plain": [
              "'import math\\n\\nnumber = 0;\\nsqnum = math.sqrt(0);\\nprint(f\"sqrt is {sqnum}\");'"
            ]
          },
          "execution_count": 2,
          "metadata": {},
          "output_type": "execute_result"
        }
      ],
      "source": [
        "import math\n",
        "\n",
        "# Prompt user for coefficients\n",
        "a = float(input(\"Enter coefficient a: \"))\n",
        "b = float(input(\"Enter coefficient b: \"))\n",
        "c = float(input(\"Enter coefficient c: \"))\n",
        "\n",
        "# Calculate the discriminant\n",
        "discriminant = b**2 - 4*a*c\n",
        "\n",
        "# Evaluate based on the discriminant\n",
        "if discriminant >= 0:\n",
        "    root1 = (-b + math.sqrt(discriminant)) / (2*a)\n",
        "    root2 = (-b - math.sqrt(discriminant)) / (2*a)\n",
        "    print(f\"Two real and distinct roots: {root1} and {root2}\")\n",
        "else:\n",
        "    real_part = -b / (2*a)\n",
        "    imag_part = math.sqrt(-discriminant) / (2*a)\n",
        "    print(f\"Two complex roots: {real_part} + {imag_part}i and {real_part} - {imag_part}i\")\n",
        "\n",
        "\"\"\"import math\n",
        "\n",
        "number = 0;\n",
        "sqnum = math.sqrt(0);\n",
        "print(f\"sqrt is {sqnum}\");\"\"\""
      ]
    },
    {
      "cell_type": "code",
      "execution_count": 3,
      "metadata": {},
      "outputs": [
        {
          "data": {
            "text/plain": [
              "'\\nThis is another way to write\\nmulti-line comments using triple double quotes.\\n'"
            ]
          },
          "execution_count": 3,
          "metadata": {},
          "output_type": "execute_result"
        }
      ],
      "source": [
        "'''\n",
        "This is a multi-line comment\n",
        "using triple single quotes.\n",
        "It won't be executed unless assigned.\n",
        "'''\n",
        "\n",
        "\"\"\"\n",
        "This is another way to write\n",
        "multi-line comments using triple double quotes.\n",
        "\"\"\""
      ]
    },
    {
      "cell_type": "code",
      "execution_count": 28,
      "metadata": {
        "colab": {
          "base_uri": "https://localhost:8080/"
        },
        "id": "Cq8Qm1HOmjFt",
        "outputId": "934f6d12-bec1-4c65-a96b-ce2d25ca1f3c"
      },
      "outputs": [
        {
          "name": "stdout",
          "output_type": "stream",
          "text": [
            "99 bottles of beer on the wall, 99 bottles of beer.\n",
            "Take one down and pass it around, 98 bottles of beer on the wall.\n",
            "\n",
            "98 bottles of beer on the wall, 98 bottles of beer.\n",
            "Take one down and pass it around, 97 bottles of beer on the wall.\n",
            "\n",
            "97 bottles of beer on the wall, 97 bottles of beer.\n",
            "Take one down and pass it around, 96 bottles of beer on the wall.\n",
            "\n",
            "96 bottles of beer on the wall, 96 bottles of beer.\n",
            "Take one down and pass it around, 95 bottles of beer on the wall.\n",
            "\n",
            "95 bottles of beer on the wall, 95 bottles of beer.\n",
            "Take one down and pass it around, 94 bottles of beer on the wall.\n",
            "\n",
            "94 bottles of beer on the wall, 94 bottles of beer.\n",
            "Take one down and pass it around, 93 bottles of beer on the wall.\n",
            "\n",
            "93 bottles of beer on the wall, 93 bottles of beer.\n",
            "Take one down and pass it around, 92 bottles of beer on the wall.\n",
            "\n",
            "92 bottles of beer on the wall, 92 bottles of beer.\n",
            "Take one down and pass it around, 91 bottles of beer on the wall.\n",
            "\n",
            "91 bottles of beer on the wall, 91 bottles of beer.\n",
            "Take one down and pass it around, 90 bottles of beer on the wall.\n",
            "\n",
            "90 bottles of beer on the wall, 90 bottles of beer.\n",
            "Take one down and pass it around, 89 bottles of beer on the wall.\n",
            "\n",
            "89 bottles of beer on the wall, 89 bottles of beer.\n",
            "Take one down and pass it around, 88 bottles of beer on the wall.\n",
            "\n",
            "88 bottles of beer on the wall, 88 bottles of beer.\n",
            "Take one down and pass it around, 87 bottles of beer on the wall.\n",
            "\n",
            "87 bottles of beer on the wall, 87 bottles of beer.\n",
            "Take one down and pass it around, 86 bottles of beer on the wall.\n",
            "\n",
            "86 bottles of beer on the wall, 86 bottles of beer.\n",
            "Take one down and pass it around, 85 bottles of beer on the wall.\n",
            "\n",
            "85 bottles of beer on the wall, 85 bottles of beer.\n",
            "Take one down and pass it around, 84 bottles of beer on the wall.\n",
            "\n",
            "84 bottles of beer on the wall, 84 bottles of beer.\n",
            "Take one down and pass it around, 83 bottles of beer on the wall.\n",
            "\n",
            "83 bottles of beer on the wall, 83 bottles of beer.\n",
            "Take one down and pass it around, 82 bottles of beer on the wall.\n",
            "\n",
            "82 bottles of beer on the wall, 82 bottles of beer.\n",
            "Take one down and pass it around, 81 bottles of beer on the wall.\n",
            "\n",
            "81 bottles of beer on the wall, 81 bottles of beer.\n",
            "Take one down and pass it around, 80 bottles of beer on the wall.\n",
            "\n",
            "80 bottles of beer on the wall, 80 bottles of beer.\n",
            "Take one down and pass it around, 79 bottles of beer on the wall.\n",
            "\n",
            "79 bottles of beer on the wall, 79 bottles of beer.\n",
            "Take one down and pass it around, 78 bottles of beer on the wall.\n",
            "\n",
            "78 bottles of beer on the wall, 78 bottles of beer.\n",
            "Take one down and pass it around, 77 bottles of beer on the wall.\n",
            "\n",
            "77 bottles of beer on the wall, 77 bottles of beer.\n",
            "Take one down and pass it around, 76 bottles of beer on the wall.\n",
            "\n",
            "76 bottles of beer on the wall, 76 bottles of beer.\n",
            "Take one down and pass it around, 75 bottles of beer on the wall.\n",
            "\n",
            "75 bottles of beer on the wall, 75 bottles of beer.\n",
            "Take one down and pass it around, 74 bottles of beer on the wall.\n",
            "\n",
            "74 bottles of beer on the wall, 74 bottles of beer.\n",
            "Take one down and pass it around, 73 bottles of beer on the wall.\n",
            "\n",
            "73 bottles of beer on the wall, 73 bottles of beer.\n",
            "Take one down and pass it around, 72 bottles of beer on the wall.\n",
            "\n",
            "72 bottles of beer on the wall, 72 bottles of beer.\n",
            "Take one down and pass it around, 71 bottles of beer on the wall.\n",
            "\n",
            "71 bottles of beer on the wall, 71 bottles of beer.\n",
            "Take one down and pass it around, 70 bottles of beer on the wall.\n",
            "\n",
            "70 bottles of beer on the wall, 70 bottles of beer.\n",
            "Take one down and pass it around, 69 bottles of beer on the wall.\n",
            "\n",
            "69 bottles of beer on the wall, 69 bottles of beer.\n",
            "Take one down and pass it around, 68 bottles of beer on the wall.\n",
            "\n",
            "68 bottles of beer on the wall, 68 bottles of beer.\n",
            "Take one down and pass it around, 67 bottles of beer on the wall.\n",
            "\n",
            "67 bottles of beer on the wall, 67 bottles of beer.\n",
            "Take one down and pass it around, 66 bottles of beer on the wall.\n",
            "\n",
            "66 bottles of beer on the wall, 66 bottles of beer.\n",
            "Take one down and pass it around, 65 bottles of beer on the wall.\n",
            "\n",
            "65 bottles of beer on the wall, 65 bottles of beer.\n",
            "Take one down and pass it around, 64 bottles of beer on the wall.\n",
            "\n",
            "64 bottles of beer on the wall, 64 bottles of beer.\n",
            "Take one down and pass it around, 63 bottles of beer on the wall.\n",
            "\n",
            "63 bottles of beer on the wall, 63 bottles of beer.\n",
            "Take one down and pass it around, 62 bottles of beer on the wall.\n",
            "\n",
            "62 bottles of beer on the wall, 62 bottles of beer.\n",
            "Take one down and pass it around, 61 bottles of beer on the wall.\n",
            "\n",
            "61 bottles of beer on the wall, 61 bottles of beer.\n",
            "Take one down and pass it around, 60 bottles of beer on the wall.\n",
            "\n",
            "60 bottles of beer on the wall, 60 bottles of beer.\n",
            "Take one down and pass it around, 59 bottles of beer on the wall.\n",
            "\n",
            "59 bottles of beer on the wall, 59 bottles of beer.\n",
            "Take one down and pass it around, 58 bottles of beer on the wall.\n",
            "\n",
            "58 bottles of beer on the wall, 58 bottles of beer.\n",
            "Take one down and pass it around, 57 bottles of beer on the wall.\n",
            "\n",
            "57 bottles of beer on the wall, 57 bottles of beer.\n",
            "Take one down and pass it around, 56 bottles of beer on the wall.\n",
            "\n",
            "56 bottles of beer on the wall, 56 bottles of beer.\n",
            "Take one down and pass it around, 55 bottles of beer on the wall.\n",
            "\n",
            "55 bottles of beer on the wall, 55 bottles of beer.\n",
            "Take one down and pass it around, 54 bottles of beer on the wall.\n",
            "\n",
            "54 bottles of beer on the wall, 54 bottles of beer.\n",
            "Take one down and pass it around, 53 bottles of beer on the wall.\n",
            "\n",
            "53 bottles of beer on the wall, 53 bottles of beer.\n",
            "Take one down and pass it around, 52 bottles of beer on the wall.\n",
            "\n",
            "52 bottles of beer on the wall, 52 bottles of beer.\n",
            "Take one down and pass it around, 51 bottles of beer on the wall.\n",
            "\n",
            "51 bottles of beer on the wall, 51 bottles of beer.\n",
            "Take one down and pass it around, 50 bottles of beer on the wall.\n",
            "\n",
            "50 bottles of beer on the wall, 50 bottles of beer.\n",
            "Take one down and pass it around, 49 bottles of beer on the wall.\n",
            "\n",
            "49 bottles of beer on the wall, 49 bottles of beer.\n",
            "Take one down and pass it around, 48 bottles of beer on the wall.\n",
            "\n",
            "48 bottles of beer on the wall, 48 bottles of beer.\n",
            "Take one down and pass it around, 47 bottles of beer on the wall.\n",
            "\n",
            "47 bottles of beer on the wall, 47 bottles of beer.\n",
            "Take one down and pass it around, 46 bottles of beer on the wall.\n",
            "\n",
            "46 bottles of beer on the wall, 46 bottles of beer.\n",
            "Take one down and pass it around, 45 bottles of beer on the wall.\n",
            "\n",
            "45 bottles of beer on the wall, 45 bottles of beer.\n",
            "Take one down and pass it around, 44 bottles of beer on the wall.\n",
            "\n",
            "44 bottles of beer on the wall, 44 bottles of beer.\n",
            "Take one down and pass it around, 43 bottles of beer on the wall.\n",
            "\n",
            "43 bottles of beer on the wall, 43 bottles of beer.\n",
            "Take one down and pass it around, 42 bottles of beer on the wall.\n",
            "\n",
            "42 bottles of beer on the wall, 42 bottles of beer.\n",
            "Take one down and pass it around, 41 bottles of beer on the wall.\n",
            "\n",
            "41 bottles of beer on the wall, 41 bottles of beer.\n",
            "Take one down and pass it around, 40 bottles of beer on the wall.\n",
            "\n",
            "40 bottles of beer on the wall, 40 bottles of beer.\n",
            "Take one down and pass it around, 39 bottles of beer on the wall.\n",
            "\n",
            "39 bottles of beer on the wall, 39 bottles of beer.\n",
            "Take one down and pass it around, 38 bottles of beer on the wall.\n",
            "\n",
            "38 bottles of beer on the wall, 38 bottles of beer.\n",
            "Take one down and pass it around, 37 bottles of beer on the wall.\n",
            "\n",
            "37 bottles of beer on the wall, 37 bottles of beer.\n",
            "Take one down and pass it around, 36 bottles of beer on the wall.\n",
            "\n",
            "36 bottles of beer on the wall, 36 bottles of beer.\n",
            "Take one down and pass it around, 35 bottles of beer on the wall.\n",
            "\n",
            "35 bottles of beer on the wall, 35 bottles of beer.\n",
            "Take one down and pass it around, 34 bottles of beer on the wall.\n",
            "\n",
            "34 bottles of beer on the wall, 34 bottles of beer.\n",
            "Take one down and pass it around, 33 bottles of beer on the wall.\n",
            "\n",
            "33 bottles of beer on the wall, 33 bottles of beer.\n",
            "Take one down and pass it around, 32 bottles of beer on the wall.\n",
            "\n",
            "32 bottles of beer on the wall, 32 bottles of beer.\n",
            "Take one down and pass it around, 31 bottles of beer on the wall.\n",
            "\n",
            "31 bottles of beer on the wall, 31 bottles of beer.\n",
            "Take one down and pass it around, 30 bottles of beer on the wall.\n",
            "\n",
            "30 bottles of beer on the wall, 30 bottles of beer.\n",
            "Take one down and pass it around, 29 bottles of beer on the wall.\n",
            "\n",
            "29 bottles of beer on the wall, 29 bottles of beer.\n",
            "Take one down and pass it around, 28 bottles of beer on the wall.\n",
            "\n",
            "28 bottles of beer on the wall, 28 bottles of beer.\n",
            "Take one down and pass it around, 27 bottles of beer on the wall.\n",
            "\n",
            "27 bottles of beer on the wall, 27 bottles of beer.\n",
            "Take one down and pass it around, 26 bottles of beer on the wall.\n",
            "\n",
            "26 bottles of beer on the wall, 26 bottles of beer.\n",
            "Take one down and pass it around, 25 bottles of beer on the wall.\n",
            "\n",
            "25 bottles of beer on the wall, 25 bottles of beer.\n",
            "Take one down and pass it around, 24 bottles of beer on the wall.\n",
            "\n",
            "24 bottles of beer on the wall, 24 bottles of beer.\n",
            "Take one down and pass it around, 23 bottles of beer on the wall.\n",
            "\n",
            "23 bottles of beer on the wall, 23 bottles of beer.\n",
            "Take one down and pass it around, 22 bottles of beer on the wall.\n",
            "\n",
            "22 bottles of beer on the wall, 22 bottles of beer.\n",
            "Take one down and pass it around, 21 bottles of beer on the wall.\n",
            "\n",
            "21 bottles of beer on the wall, 21 bottles of beer.\n",
            "Take one down and pass it around, 20 bottles of beer on the wall.\n",
            "\n",
            "20 bottles of beer on the wall, 20 bottles of beer.\n",
            "Take one down and pass it around, 19 bottles of beer on the wall.\n",
            "\n",
            "19 bottles of beer on the wall, 19 bottles of beer.\n",
            "Take one down and pass it around, 18 bottles of beer on the wall.\n",
            "\n",
            "18 bottles of beer on the wall, 18 bottles of beer.\n",
            "Take one down and pass it around, 17 bottles of beer on the wall.\n",
            "\n",
            "17 bottles of beer on the wall, 17 bottles of beer.\n",
            "Take one down and pass it around, 16 bottles of beer on the wall.\n",
            "\n",
            "16 bottles of beer on the wall, 16 bottles of beer.\n",
            "Take one down and pass it around, 15 bottles of beer on the wall.\n",
            "\n",
            "15 bottles of beer on the wall, 15 bottles of beer.\n",
            "Take one down and pass it around, 14 bottles of beer on the wall.\n",
            "\n",
            "14 bottles of beer on the wall, 14 bottles of beer.\n",
            "Take one down and pass it around, 13 bottles of beer on the wall.\n",
            "\n",
            "13 bottles of beer on the wall, 13 bottles of beer.\n",
            "Take one down and pass it around, 12 bottles of beer on the wall.\n",
            "\n",
            "12 bottles of beer on the wall, 12 bottles of beer.\n",
            "Take one down and pass it around, 11 bottles of beer on the wall.\n",
            "\n",
            "11 bottles of beer on the wall, 11 bottles of beer.\n",
            "Take one down and pass it around, 10 bottles of beer on the wall.\n",
            "\n",
            "10 bottles of beer on the wall, 10 bottles of beer.\n",
            "Take one down and pass it around, 9 bottles of beer on the wall.\n",
            "\n",
            "9 bottles of beer on the wall, 9 bottles of beer.\n",
            "Take one down and pass it around, 8 bottles of beer on the wall.\n",
            "\n",
            "8 bottles of beer on the wall, 8 bottles of beer.\n",
            "Take one down and pass it around, 7 bottles of beer on the wall.\n",
            "\n",
            "7 bottles of beer on the wall, 7 bottles of beer.\n",
            "Take one down and pass it around, 6 bottles of beer on the wall.\n",
            "\n",
            "6 bottles of beer on the wall, 6 bottles of beer.\n",
            "Take one down and pass it around, 5 bottles of beer on the wall.\n",
            "\n",
            "5 bottles of beer on the wall, 5 bottles of beer.\n",
            "Take one down and pass it around, 4 bottles of beer on the wall.\n",
            "\n",
            "4 bottles of beer on the wall, 4 bottles of beer.\n",
            "Take one down and pass it around, 3 bottles of beer on the wall.\n",
            "\n",
            "3 bottles of beer on the wall, 3 bottles of beer.\n",
            "Take one down and pass it around, 2 bottles of beer on the wall.\n",
            "\n",
            "2 bottles of beer on the wall, 2 bottles of beer.\n",
            "Take one down and pass it around, 1 bottle of beer on the wall.\n",
            "\n",
            "1 bottle of beer on the wall, 1 bottle of beer.\n",
            "Take one down and pass it around, no more bottles of beer on the wall.\n",
            "\n",
            "No more bottles of beer on the wall, no more bottles of beer.\n",
            "Go to the store and buy some more, 99 bottles of beer on the wall.\n"
          ]
        }
      ],
      "source": [
        "# Print the \"99 Bottles of Beer\" song\n",
        "for bottles in range(99, 0, -1):\n",
        "    print(f\"{bottles} bottle{'s' if bottles != 1 else ''} of beer on the wall, {bottles} bottle{'s' if bottles != 1 else ''} of beer.\")\n",
        "    next_bottles = bottles - 1\n",
        "    if next_bottles > 0:\n",
        "        print(f\"Take one down and pass it around, {next_bottles} bottle{'s' if next_bottles != 1 else ''} of beer on the wall.\\n\")\n",
        "    else:\n",
        "        print(\"Take one down and pass it around, no more bottles of beer on the wall.\\n\")\n",
        "\n",
        "# Final verse\n",
        "print(\"No more bottles of beer on the wall, no more bottles of beer.\")\n",
        "print(\"Go to the store and buy some more, 99 bottles of beer on the wall.\")"
      ]
    },
    {
      "cell_type": "code",
      "execution_count": 4,
      "metadata": {
        "colab": {
          "base_uri": "https://localhost:8080/"
        },
        "id": "IFhvIQm2mtSS",
        "outputId": "56ac7bd3-d576-4171-fb44-30e32dc24770"
      },
      "outputs": [
        {
          "name": "stdout",
          "output_type": "stream",
          "text": [
            "Enter a non-negative integer: 10\n",
            "The factorial of 10 is 3628800\n"
          ]
        }
      ],
      "source": [
        "# Prompt the user for an integer\n",
        "num = int(input(\"Enter a non-negative integer: \"))\n",
        "\n",
        "# Check for valid input\n",
        "if num < 0:\n",
        "    print(\"Factorial is not defined for negative numbers.\")\n",
        "else:\n",
        "    factorial = 1\n",
        "    for i in range(1, num + 1):\n",
        "        factorial *= i\n",
        "    print(f\"The factorial of {num} is {factorial}\")"
      ]
    },
    {
      "cell_type": "code",
      "execution_count": null,
      "metadata": {
        "colab": {
          "base_uri": "https://localhost:8080/"
        },
        "id": "j9YZDYVvnDHh",
        "outputId": "baad3f24-73ec-4ee8-c081-9b02d61f721e"
      },
      "outputs": [
        {
          "name": "stdout",
          "output_type": "stream",
          "text": [
            ">>> 1\n",
            ">>> 2\n",
            ">>> 3\n",
            ">>> 4\n",
            ">>> 5\n",
            ">>> 6\n",
            ">>> 7\n",
            ">>> 8\n",
            ">>> 9\n",
            ">>> 10\n",
            ">>> 11\n",
            ">>> 12\n",
            ">>> 13\n",
            ">>> 14\n",
            ">>> 15\n",
            ">>> 16\n",
            ">>> 17\n",
            ">>> 18\n",
            ">>> 19\n",
            ">>> 20\n",
            "\n",
            "Factors of 20 are: [1, 2, 4, 5, 10, 20]\n",
            "Total number of factors: 6\n"
          ]
        }
      ],
      "source": [
        "# Prompt the user for a number\n",
        "num = int(input(\"Enter a positive integer: \"))\n",
        "\n",
        "# Initialize a list to store factors\n",
        "factors = []\n",
        "\n",
        "# Find factors\n",
        "for i in range(1, num + 1):\n",
        "    print('>>>',i)\n",
        "    if num % i == 0:\n",
        "        factors.append(i)\n",
        "\n",
        "\n",
        "\n",
        "# Display the factors\n",
        "print(f\"\\nFactors of {num} are: {factors}\")\n",
        "print(f\"Total number of factors: {len(factors)}\")"
      ]
    },
    {
      "cell_type": "code",
      "execution_count": 11,
      "metadata": {},
      "outputs": [
        {
          "name": "stdout",
          "output_type": "stream",
          "text": [
            "test >>> 30\n",
            "test >>> 40\n",
            "test >>> 50\n",
            "test >>> 60\n",
            "test >>> 70\n",
            "test >>> 80\n",
            "test >>> 90\n"
          ]
        }
      ],
      "source": [
        "fruite = ['test1', 'test2', 'test3', 'test4'];\n",
        "'''for f in fruite:\n",
        "    print('test');\n",
        "    \n",
        "for i in range(100):\n",
        "    print(f'test {i}'); \n",
        "    \n",
        "for i in range(30, 100):\n",
        "    print(f'test --- {i}');'''\n",
        "    \n",
        "for i in range(30, 100, 10):\n",
        "    print(f'test >>> {i}')"
      ]
    },
    {
      "cell_type": "code",
      "execution_count": 12,
      "metadata": {},
      "outputs": [
        {
          "name": "stdout",
          "output_type": "stream",
          "text": [
            "cher \"p\"\n",
            "cher \"r\"\n",
            "cher \"a\"\n",
            "cher \"d\"\n",
            "cher \"e\"\n",
            "cher \"e\"\n",
            "cher \"p\"\n"
          ]
        }
      ],
      "source": [
        "for c in 'pradeep':\n",
        "    print(f'cher \"{c}\"')"
      ]
    },
    {
      "cell_type": "code",
      "execution_count": null,
      "metadata": {},
      "outputs": [
        {
          "name": "stdout",
          "output_type": "stream",
          "text": [
            "0 test1\n",
            "1 test2\n",
            "2 test3\n",
            "3 test4\n"
          ]
        }
      ],
      "source": [
        "colors = ['test1', 'test2', 'test3', 'test4'];\n",
        "\n",
        "for a,b in enumerate(colors):\n",
        "    print(a,b);\n"
      ]
    },
    {
      "cell_type": "code",
      "execution_count": 29,
      "metadata": {},
      "outputs": [
        {
          "name": "stdout",
          "output_type": "stream",
          "text": [
            "pradeep\n",
            "{}\n"
          ]
        }
      ],
      "source": [
        "p = {'name': 'pradeep', 'role' : 'pradeep'}\n",
        "print(p.get('name'));\n",
        "p.pop('name');\n",
        "p.popitem();\n",
        "print(p);"
      ]
    }
  ],
  "metadata": {
    "colab": {
      "provenance": []
    },
    "kernelspec": {
      "display_name": "pd-env-py-v3-13",
      "language": "python",
      "name": "python3"
    },
    "language_info": {
      "codemirror_mode": {
        "name": "ipython",
        "version": 3
      },
      "file_extension": ".py",
      "mimetype": "text/x-python",
      "name": "python",
      "nbconvert_exporter": "python",
      "pygments_lexer": "ipython3",
      "version": "3.13.7"
    }
  },
  "nbformat": 4,
  "nbformat_minor": 0
}
