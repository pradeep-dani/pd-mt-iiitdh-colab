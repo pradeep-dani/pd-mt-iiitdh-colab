{
  "nbformat": 4,
  "nbformat_minor": 0,
  "metadata": {
    "colab": {
      "provenance": [],
      "authorship_tag": "ABX9TyNvpu5zHK+78rrCd//m1nxe",
      "include_colab_link": true
    },
    "kernelspec": {
      "name": "python3",
      "display_name": "Python 3"
    },
    "language_info": {
      "name": "python"
    }
  },
  "cells": [
    {
      "cell_type": "markdown",
      "metadata": {
        "id": "view-in-github",
        "colab_type": "text"
      },
      "source": [
        "<a href=\"https://colab.research.google.com/github/pradeep-dani/pd-mt-iiitdh-colab/blob/main/DS%20Lab%20Assignments/DS_Lab_Assignment_2_25_10_2025.ipynb\" target=\"_parent\"><img src=\"https://colab.research.google.com/assets/colab-badge.svg\" alt=\"Open In Colab\"/></a>"
      ]
    },
    {
      "cell_type": "code",
      "execution_count": 14,
      "metadata": {
        "colab": {
          "base_uri": "https://localhost:8080/"
        },
        "id": "K2vZbnMLsT7b",
        "outputId": "78966b61-6459-4280-aa40-4de2c48ae213"
      },
      "outputs": [
        {
          "output_type": "stream",
          "name": "stdout",
          "text": [
            "Second Col as Array [ 4 10 16]\n",
            "Third Col as Array [ 6 12 18]\n",
            "\n",
            "\n",
            "Given Array A \n",
            " [[ 2  4  6]\n",
            " [ 8 10 12]\n",
            " [14 16 18]]\n",
            "Given Array B \n",
            " [1 2 3]\n",
            "\n",
            "Broadcasted Array (A+B) \n",
            " [[ 3  6  9]\n",
            " [ 9 12 15]\n",
            " [15 18 21]]\n"
          ]
        }
      ],
      "source": [
        "#Question 1 — Broadcasting and Indexing\n",
        "\n",
        "#Given\n",
        "import numpy as np\n",
        "arr = np.array([[2, 4, 6],\n",
        "                [8, 10, 12],\n",
        "                [14, 16, 18]])\n",
        "\n",
        "#ask 1: Use slicing to extract the second and third columns.\n",
        "arr_secondCol = arr[:,1];\n",
        "arr_thirdCol = arr[:,2];\n",
        "print(\"Second Col as Array\", arr_secondCol);\n",
        "print(\"Third Col as Array\", arr_thirdCol);\n",
        "print(\"\\n\");\n",
        "#ask 2: Use braodcasting and add the given array [1, 2, 3]\n",
        "arr_toBeAdded = np.array([1,2,3])\n",
        "\n",
        "print(\"Given Array A \\n\", arr)\n",
        "print(\"Given Array B \\n\", arr_toBeAdded)\n",
        "arr_broadcasted = arr + arr_toBeAdded;\n",
        "print(\"\\nBroadcasted Array (A+B) \\n\", arr_broadcasted);\n",
        "\n",
        "#ask 3: Explain the broad casting\n",
        "# When M X N matrix is given,\n",
        "# addition will be possible if the array is of size 1 X N or M X 1\n",
        "\n",
        "# A is matrix such as Aij (i index of row, j index of column)\n",
        "# B is matrix such as Bij (i index of row, j index of column\n",
        "\n",
        "# Adition can be done with following\n",
        "# such that a11 + b11, a12 + b12 , a13 + b13\n",
        "#           a21 + b21, a22 + b22 , a23 + b23\n",
        "#           a31 + b31, a32 + b32 , a33 + b33\n"
      ]
    },
    {
      "cell_type": "code",
      "source": [
        "#Question 2 — Random and Statistical Functions\n",
        "\n",
        "#Create a 4×4 array of random integers between 10 and 50 (inclusive).\n",
        "arr_4x4 = np.random.randint(10, 51, size=(4, 4))\n",
        "print(\"Create a 4×4 array of random integers between 10 and 50 (inclusive)\")\n",
        "print(arr_4x4)\n",
        "\n",
        "\n",
        "#Find the mean, standard deviation, and maximum of the array.\n",
        "print(\"\\nFind the mean, standard deviation, and maximum of the array.\");\n",
        "arr_4x4_mean = np.mean(arr_4x4)\n",
        "arr_4x4_std = np.std(arr_4x4)\n",
        "arr_4x4_max = np.max(arr_4x4)\n",
        "print(\"1. mean =\", arr_4x4_mean);\n",
        "print(\"2. standard deviation =\", arr_4x4_std);\n",
        "print(\"3. maximum of the array =\", arr_4x4_max);\n",
        "\n",
        "#Replace all elements greater than the mean with 0.\n",
        "print(\"\\nReplace all elements greater than the mean with 0.\")\n",
        "print(\"Given Array\\n\", arr_4x4);\n",
        "arr_4x4[arr_4x4 > arr_4x4_mean] = 0\n",
        "print(\"Result Array\\n\", arr_4x4);\n",
        "\n",
        "\n",
        "#\n"
      ],
      "metadata": {
        "colab": {
          "base_uri": "https://localhost:8080/"
        },
        "id": "UZQAqKobwKJE",
        "outputId": "0c19de18-bfc9-40a7-8c58-7862b1d85861"
      },
      "execution_count": 33,
      "outputs": [
        {
          "output_type": "stream",
          "name": "stdout",
          "text": [
            "Create a 4×4 array of random integers between 10 and 50 (inclusive)\n",
            "[[49 14 46 33]\n",
            " [31 15 44 24]\n",
            " [15 14 16 50]\n",
            " [41 11 10 11]]\n",
            "\n",
            "Find the mean, standard deviation, and maximum of the array.\n",
            "1. mean = 26.5\n",
            "2. standard deviation = 14.713938969562161\n",
            "3. maximum of the array = 50\n",
            "\n",
            "Replace all elements greater than the mean with 0.\n",
            "Given Array\n",
            " [[49 14 46 33]\n",
            " [31 15 44 24]\n",
            " [15 14 16 50]\n",
            " [41 11 10 11]]\n",
            "Result Array\n",
            " [[ 0 14  0  0]\n",
            " [ 0 15  0 24]\n",
            " [15 14 16  0]\n",
            " [ 0 11 10 11]]\n"
          ]
        }
      ]
    },
    {
      "cell_type": "code",
      "source": [
        "#Question 3 — Matrix Operations , Given the matrix:\n",
        "A = np.array([[4, 2], [3, 5]])\n",
        "\n",
        "# Compute the transpose and inverse of A.\n",
        "print(\"Transpose of A\\n\", np.transpose(A));\n",
        "print(\"Inverse of A\\n\", np.linalg.inv(A));\n",
        "\n",
        "# Verify that the product of A and its inverse gives an identity matrix (within rounding error).\n",
        "A_dot = np.dot(A, np.linalg.inv(A));\n",
        "A_dot = np.round(A_dot, 2)\n",
        "print(\"Product of A and its inverse is indeed identity matrix\\n\", A_dot);\n",
        "\n",
        "#Explain why np.dot() is preferred over the * operator for matrix multiplication.\n",
        "#lets do * operator and see whther it satisfy the formula A . A^-1 = I\n",
        "\n",
        "A_cross = A * np.linalg.inv(A);\n",
        "A_cross = np.round(A_cross, 2)\n",
        "print(\"Product of A and its inverse is provides different matrix\\n\", A_cross);\n",
        "\n",
        "\n",
        "# matrix multiplication is simple multiplying each element index (i,j) from matrix A to matrix B.\n",
        "# (a11 * b11)  (a12 * b21)\n",
        "# (a21 * b11)  (a22 * b21)\n",
        "\n",
        "# Where as dot product is goes as follows , A(i,j) & B (i,j) of size mXn\n",
        "# (a11*b11 + a12+b21) (a11*b12 + a12+b22)\n",
        "# (a21*b11 + a22+b21) (a21*b12 + a22+b22"
      ],
      "metadata": {
        "colab": {
          "base_uri": "https://localhost:8080/"
        },
        "id": "TaHPfcafyUZ_",
        "outputId": "9ae94f62-51c0-4cfb-d449-d88cb87d0d7e"
      },
      "execution_count": 40,
      "outputs": [
        {
          "output_type": "stream",
          "name": "stdout",
          "text": [
            "Transpose of A\n",
            " [[4 3]\n",
            " [2 5]]\n",
            "Inverse of A\n",
            " [[ 0.35714286 -0.14285714]\n",
            " [-0.21428571  0.28571429]]\n",
            "Product of A and its inverse is indeed identity matrix\n",
            " [[1. 0.]\n",
            " [0. 1.]]\n",
            "Product of A and its inverse is provides different matrix\n",
            " [[ 1.43 -0.29]\n",
            " [-0.64  1.43]]\n"
          ]
        }
      ]
    },
    {
      "cell_type": "code",
      "source": [
        "# Question 4 — linspace, reshape, and Slicing\n",
        "# Create an array of 15 evenly spaced values between 0 and 30 using np.linspace().\n",
        "print(\"Array of 15 evenly spaced values between 0 and 30 using np.linspace(). \")\n",
        "arr_15 = np.linspace(0, 30, 15)\n",
        "print(arr_15)\n",
        "\n",
        "arr_15_reshape = arr_15.reshape(3,5)\n",
        "print(\"\\nReshape the array into a 3x5 matrix. \")\n",
        "print(arr_15_reshape)\n",
        "\n",
        "#-Extract the last two rows and the first three columns from the reshaped array.\n",
        "print(\"\\nExtract the last two rows and the first three columns from the reshaped array. \")\n",
        "arr_15_reshape_extract = arr_15_reshape[1:, :3]\n",
        "print(arr_15_reshape_extract)\n",
        "\n",
        "#Compute the column-wise mean of this subarray.\n",
        "print(\"\\nCompute the column-wise mean of this subarray. \")\n",
        "print(np.mean(arr_15_reshape_extract, axis=0))\n",
        "\n"
      ],
      "metadata": {
        "colab": {
          "base_uri": "https://localhost:8080/"
        },
        "id": "N4odsPG88H4x",
        "outputId": "6bb315a5-8066-4280-90b4-2d1e30e327fc"
      },
      "execution_count": 46,
      "outputs": [
        {
          "output_type": "stream",
          "name": "stdout",
          "text": [
            "Array of 15 evenly spaced values between 0 and 30 using np.linspace(). \n",
            "[ 0.          2.14285714  4.28571429  6.42857143  8.57142857 10.71428571\n",
            " 12.85714286 15.         17.14285714 19.28571429 21.42857143 23.57142857\n",
            " 25.71428571 27.85714286 30.        ]\n",
            "\n",
            "Reshape the array into a 3x5 matrix. \n",
            "[[ 0.          2.14285714  4.28571429  6.42857143  8.57142857]\n",
            " [10.71428571 12.85714286 15.         17.14285714 19.28571429]\n",
            " [21.42857143 23.57142857 25.71428571 27.85714286 30.        ]]\n",
            "\n",
            "Extract the last two rows and the first three columns from the reshaped array. \n",
            "[[10.71428571 12.85714286 15.        ]\n",
            " [21.42857143 23.57142857 25.71428571]]\n",
            "\n",
            "Compute the column-wise mean of this subarray. \n",
            "[16.07142857 18.21428571 20.35714286]\n"
          ]
        }
      ]
    },
    {
      "cell_type": "code",
      "source": [],
      "metadata": {
        "id": "XSSWUDgHzrkB"
      },
      "execution_count": null,
      "outputs": []
    }
  ]
}