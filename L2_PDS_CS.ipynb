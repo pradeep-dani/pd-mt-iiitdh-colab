{
  "nbformat": 4,
  "nbformat_minor": 0,
  "metadata": {
    "colab": {
      "provenance": [],
      "include_colab_link": true
    },
    "kernelspec": {
      "name": "python3",
      "display_name": "Python 3"
    },
    "language_info": {
      "name": "python"
    }
  },
  "cells": [
    {
      "cell_type": "markdown",
      "metadata": {
        "id": "view-in-github",
        "colab_type": "text"
      },
      "source": [
        "<a href=\"https://colab.research.google.com/github/pradeep-dani/pd-mt-iiitdh-colab/blob/main/L2_PDS_CS.ipynb\" target=\"_parent\"><img src=\"https://colab.research.google.com/assets/colab-badge.svg\" alt=\"Open In Colab\"/></a>"
      ]
    },
    {
      "cell_type": "markdown",
      "source": [
        "**Course: Python for Data Science**\n",
        "**Lecture 2: Control Structures, Data Structures, Fnuctions in Python**"
      ],
      "metadata": {
        "id": "FiiULYVdWXK1"
      }
    },
    {
      "cell_type": "code",
      "source": [
        "# if statement, example 1\n",
        "num = 1\n",
        "if num == 1:\n",
        "  print(\"one\")"
      ],
      "metadata": {
        "colab": {
          "base_uri": "https://localhost:8080/"
        },
        "id": "kJwBcOr_WuAy",
        "outputId": "d75a4cdc-0b93-4c09-fea4-7468da7b856f"
      },
      "execution_count": null,
      "outputs": [
        {
          "output_type": "stream",
          "name": "stdout",
          "text": [
            "one\n"
          ]
        }
      ]
    },
    {
      "cell_type": "code",
      "source": [
        "# if statement, example 2\n",
        "i=int(input(\"Enter the number:\"))\n",
        "if (i<=10):\n",
        "\tprint(\" condition is true\")\n",
        "else:\n",
        "\tprint(\" condition is false\")"
      ],
      "metadata": {
        "colab": {
          "base_uri": "https://localhost:8080/"
        },
        "id": "zboEoOeEXKC9",
        "outputId": "7cac0729-35fb-423f-8299-739aa9bc3766"
      },
      "execution_count": null,
      "outputs": [
        {
          "output_type": "stream",
          "name": "stdout",
          "text": [
            "Enter the number:15\n",
            " condition is false\n"
          ]
        }
      ]
    },
    {
      "cell_type": "code",
      "source": [
        "# if-else statement, example 1\n",
        "x=int(input(\"enter the value \"))\n",
        "if x%2==0:\n",
        "\tprint(\"even\")\n",
        "else:\n",
        "\tprint(\"odd\")"
      ],
      "metadata": {
        "colab": {
          "base_uri": "https://localhost:8080/"
        },
        "id": "2huS-zQxXsY9",
        "outputId": "1fe5e06a-d021-435c-cc2d-191f5114b894"
      },
      "execution_count": null,
      "outputs": [
        {
          "output_type": "stream",
          "name": "stdout",
          "text": [
            "enter the value 5\n",
            "odd\n"
          ]
        }
      ]
    },
    {
      "cell_type": "code",
      "source": [
        "# elif statement, example 1\n",
        "num=0\n",
        "if num==0:\n",
        "\tprint(\"zero value\")\n",
        "elif num<0:\n",
        "\tprint(\"negative\")\n",
        "else:\n",
        "\tprint(\"positive\")"
      ],
      "metadata": {
        "colab": {
          "base_uri": "https://localhost:8080/"
        },
        "id": "chsJ6veHYKAo",
        "outputId": "74f9e9c0-6b2a-42c1-c504-e4bddb8ced1d"
      },
      "execution_count": null,
      "outputs": [
        {
          "output_type": "stream",
          "name": "stdout",
          "text": [
            "zero value\n"
          ]
        }
      ]
    },
    {
      "cell_type": "code",
      "source": [
        "# elif statement, example 2\n",
        "a = int(input(\"Enter 1st number:\"))\n",
        "b= int(input(\"Enter 2nd number:\"))\n",
        "c= int(input(\"Enter 3rd number:\"))\n",
        "if (a > b) and (a > c):\n",
        "\tprint(\"a is greater\")\n",
        "elif (b > a) and (b > c):\n",
        "\tprint(\"b is greater\")\n",
        "else:\n",
        "\tprint(\"c is greater\")"
      ],
      "metadata": {
        "colab": {
          "base_uri": "https://localhost:8080/"
        },
        "id": "zX-T7Tf6Z-4E",
        "outputId": "fbe10455-e78d-48ee-e9e6-992e23940dfb"
      },
      "execution_count": null,
      "outputs": [
        {
          "output_type": "stream",
          "name": "stdout",
          "text": [
            "Enter 1st number:10\n",
            "Enter 2nd number:300\n",
            "Enter 3rd number:150\n",
            "c is greater\n"
          ]
        }
      ]
    },
    {
      "cell_type": "code",
      "source": [
        "# example of nested if statement\n",
        "n = int(input(\"Enter  number: \"))\n",
        "if (n<=15):\n",
        "\tif (n == 10):\n",
        "\t\tprint(\"play cricket\")\n",
        "\telse:\n",
        "\t\tprint(\"play kabadi\")\n",
        "else:\n",
        "\tprint(\"Don’t play game\")"
      ],
      "metadata": {
        "colab": {
          "base_uri": "https://localhost:8080/"
        },
        "id": "mQCqC0gwaWBC",
        "outputId": "4e4e82b5-80fd-47bc-ed3b-078e6462bf58"
      },
      "execution_count": null,
      "outputs": [
        {
          "output_type": "stream",
          "name": "stdout",
          "text": [
            "Enter  number: 10\n",
            "play cricket\n"
          ]
        }
      ]
    },
    {
      "cell_type": "code",
      "source": [
        "# while loop, example 1, printing numbers from 1 to 10\n",
        "x=1\n",
        "while x<=10:\n",
        "\tprint(\"x = \",x)\n",
        "\tx+=1"
      ],
      "metadata": {
        "colab": {
          "base_uri": "https://localhost:8080/"
        },
        "id": "Vok2B9eXhx5o",
        "outputId": "6cf55f9f-69da-425f-d517-7e4b04c9e0be"
      },
      "execution_count": null,
      "outputs": [
        {
          "output_type": "stream",
          "name": "stdout",
          "text": [
            "x =  1\n",
            "x =  2\n",
            "x =  3\n",
            "x =  4\n",
            "x =  5\n",
            "x =  6\n",
            "x =  7\n",
            "x =  8\n",
            "x =  9\n",
            "x =  10\n"
          ]
        }
      ]
    },
    {
      "cell_type": "code",
      "source": [
        "# while loop, example 2: sum of numbers\n",
        "num = int(input(\"Enter a number: \"))\n",
        "sum = 0\n",
        "while(num > 0):\n",
        "  sum = sum+num\n",
        "  num = num-1\n",
        "print(\"The sum is \",sum)"
      ],
      "metadata": {
        "colab": {
          "base_uri": "https://localhost:8080/"
        },
        "id": "r2TGGRNYinJk",
        "outputId": "98a1c70c-1a7f-4024-815a-a6e9165659f6"
      },
      "execution_count": null,
      "outputs": [
        {
          "output_type": "stream",
          "name": "stdout",
          "text": [
            "Enter a number: 10\n",
            "The sum is  55\n"
          ]
        }
      ]
    },
    {
      "cell_type": "code",
      "source": [
        "# for loop, example 1\n",
        "str=\"hello\"\n",
        "for ch in str:\n",
        "\tprint(ch)"
      ],
      "metadata": {
        "colab": {
          "base_uri": "https://localhost:8080/"
        },
        "id": "ladF0ybhi2Ny",
        "outputId": "d0493e88-e103-495c-a315-c2a9b6ffff36"
      },
      "execution_count": null,
      "outputs": [
        {
          "output_type": "stream",
          "name": "stdout",
          "text": [
            "h\n",
            "e\n",
            "l\n",
            "l\n",
            "o\n"
          ]
        }
      ]
    },
    {
      "cell_type": "code",
      "source": [
        "# for loop, example 2, printing sum of numbers in an array\n",
        "numbers = [6, 5, 3, 8, 4, 2, 5, 4]\n",
        "sum1 = 0\n",
        "for val in numbers:\n",
        "\tsum1 = sum1+val\n",
        "print(\"The sum is \", sum1)"
      ],
      "metadata": {
        "colab": {
          "base_uri": "https://localhost:8080/"
        },
        "id": "x8DkHlXljbiF",
        "outputId": "5b49b290-d0e3-4e3a-9a63-3b736b672cf6"
      },
      "execution_count": null,
      "outputs": [
        {
          "output_type": "stream",
          "name": "stdout",
          "text": [
            "The sum is  37\n"
          ]
        }
      ]
    },
    {
      "cell_type": "markdown",
      "source": [
        "**range() function examples of usage**"
      ],
      "metadata": {
        "id": "2RdrB5rHl74_"
      }
    },
    {
      "cell_type": "code",
      "source": [
        "#output range(0,10)\n",
        "print(range(10))"
      ],
      "metadata": {
        "colab": {
          "base_uri": "https://localhost:8080/"
        },
        "id": "UbUn7DxyjrvX",
        "outputId": "efb3cc7e-d91f-4df8-b314-99d6a24ead58"
      },
      "execution_count": null,
      "outputs": [
        {
          "output_type": "stream",
          "name": "stdout",
          "text": [
            "range(0, 10)\n"
          ]
        }
      ]
    },
    {
      "cell_type": "code",
      "source": [
        "#output [0, 1, 2, 3, 4, 5, 6, 7, 8, 9]\n",
        "print(list(range(10)))"
      ],
      "metadata": {
        "colab": {
          "base_uri": "https://localhost:8080/"
        },
        "id": "ZJ4EfEIlmH2l",
        "outputId": "57a60e06-eb1b-44d5-dc97-43fd380c09d1"
      },
      "execution_count": null,
      "outputs": [
        {
          "output_type": "stream",
          "name": "stdout",
          "text": [
            "[0, 1, 2, 3, 4, 5, 6, 7, 8, 9]\n"
          ]
        }
      ]
    },
    {
      "cell_type": "code",
      "source": [
        "#output [2, 3, 4, 5, 6, 7]\n",
        "print(list(range(2,8)))"
      ],
      "metadata": {
        "colab": {
          "base_uri": "https://localhost:8080/"
        },
        "id": "PGiWQJYDmPi_",
        "outputId": "17d8e337-7035-4d8b-9f2b-5467425629e4"
      },
      "execution_count": null,
      "outputs": [
        {
          "output_type": "stream",
          "name": "stdout",
          "text": [
            "[2, 3, 4, 5, 6, 7]\n"
          ]
        }
      ]
    },
    {
      "cell_type": "code",
      "source": [
        "#output [2, 5, 8, 11, 14, 17]\n",
        "print(list(range(5,51,5)))"
      ],
      "metadata": {
        "colab": {
          "base_uri": "https://localhost:8080/"
        },
        "id": "v7owoPXombiv",
        "outputId": "da40c5c6-456b-4291-aa3e-3a383e5f2b7d"
      },
      "execution_count": null,
      "outputs": [
        {
          "output_type": "stream",
          "name": "stdout",
          "text": [
            "[5, 10, 15, 20, 25, 30, 35, 40, 45, 50]\n"
          ]
        }
      ]
    },
    {
      "cell_type": "markdown",
      "source": [
        "**Data Structures in Python**"
      ],
      "metadata": {
        "id": "ECoQHB4Yn03o"
      }
    },
    {
      "cell_type": "markdown",
      "source": [
        "**1. Lists: Mutable sequences that allow modification of elements.**"
      ],
      "metadata": {
        "id": "_F9av0Vun5MG"
      }
    },
    {
      "cell_type": "code",
      "source": [
        "fruits = [\"apple\", \"banana\", \"cherry\"]\n",
        "numbers = [1, 2, 3, 4, 5]\n",
        "print(fruits)\n",
        "print(fruits[0])"
      ],
      "metadata": {
        "colab": {
          "base_uri": "https://localhost:8080/"
        },
        "id": "Tel18KG0mhWF",
        "outputId": "51266e3e-8c4e-4829-93d8-ac1e96617cae"
      },
      "execution_count": null,
      "outputs": [
        {
          "output_type": "stream",
          "name": "stdout",
          "text": [
            "['apple', 'banana', 'cherry']\n",
            "apple\n"
          ]
        }
      ]
    },
    {
      "cell_type": "code",
      "source": [
        "# List of integers\n",
        "numbers = [1, 2, 3, 4, 5]\n",
        "\n",
        "# List of strings\n",
        "fruits = [\"apple\", \"banana\", \"cherry\"]\n",
        "\n",
        "# Mixed data types\n",
        "mixed = [10, \"hello\", 3.14, True]\n",
        "\n",
        "# Empty list\n",
        "empty = []"
      ],
      "metadata": {
        "id": "48V9sknQqsGw"
      },
      "execution_count": null,
      "outputs": []
    },
    {
      "cell_type": "code",
      "source": [
        "# Nested Lists (List inside another List)\n",
        "matrix = [[1, 2, 3],\n",
        "          [4, 5, 6],\n",
        "          [7, 8, 9]]"
      ],
      "metadata": {
        "id": "Mbz-vIkLqwNb"
      },
      "execution_count": null,
      "outputs": []
    },
    {
      "cell_type": "code",
      "source": [
        "# List with Repeated Elements\n",
        "repeat = [\"python\", \"python\", \"python\"]"
      ],
      "metadata": {
        "id": "BAVFrkZNq3w3"
      },
      "execution_count": null,
      "outputs": []
    },
    {
      "cell_type": "code",
      "source": [
        "#Using list() Constructor\n",
        "letters = list(\"HELLO\")   # ['H', 'E', 'L', 'L', 'O']"
      ],
      "metadata": {
        "id": "b_UegNV0rA9h"
      },
      "execution_count": null,
      "outputs": []
    },
    {
      "cell_type": "code",
      "source": [
        "# Accessing List Elements\n",
        "fruits = [\"apple\", \"banana\", \"cherry\"]\n",
        "\n",
        "print(fruits[0])   # apple  (first element)\n",
        "print(fruits[-1])  # cherry (last element)"
      ],
      "metadata": {
        "colab": {
          "base_uri": "https://localhost:8080/"
        },
        "id": "YWOAssmbrESo",
        "outputId": "ecac840d-9505-4072-f586-8fdb3ad42bba"
      },
      "execution_count": null,
      "outputs": [
        {
          "output_type": "stream",
          "name": "stdout",
          "text": [
            "apple\n",
            "cherry\n"
          ]
        }
      ]
    },
    {
      "cell_type": "markdown",
      "source": [
        "**2. Tuples: Immutable sequences that prevent modification after creation.**"
      ],
      "metadata": {
        "id": "8v_w6Lb0oKLg"
      }
    },
    {
      "cell_type": "code",
      "source": [
        "fruits = (\"apple\", \"banana\", \"cherry\")\n",
        "numbers = (1, 2, 3, 4, 5)\n",
        "print(fruits)\n",
        "print(fruits[0])"
      ],
      "metadata": {
        "colab": {
          "base_uri": "https://localhost:8080/"
        },
        "id": "Mkgs5aL0oHvE",
        "outputId": "1c280dae-15b1-495f-d1ff-f66a8375b330"
      },
      "execution_count": null,
      "outputs": [
        {
          "output_type": "stream",
          "name": "stdout",
          "text": [
            "('apple', 'banana', 'cherry')\n",
            "apple\n"
          ]
        }
      ]
    },
    {
      "cell_type": "code",
      "source": [
        "# Basic Examples of Tuples\n",
        "# Tuple of integers\n",
        "numbers = (1, 2, 3, 4, 5)\n",
        "\n",
        "# Tuple of strings\n",
        "fruits = (\"apple\", \"banana\", \"cherry\")\n",
        "\n",
        "# Mixed data types\n",
        "mixed = (10, \"hello\", 3.14, True)\n",
        "\n",
        "# Empty tuple\n",
        "empty = ()"
      ],
      "metadata": {
        "id": "hIjnFZ5psFG_"
      },
      "execution_count": null,
      "outputs": []
    },
    {
      "cell_type": "markdown",
      "source": [
        "**3. Dictionaries store data as key-value pairs, useful for mapping relationships.**"
      ],
      "metadata": {
        "id": "qNOzeIbwoWno"
      }
    },
    {
      "cell_type": "code",
      "source": [
        "students = {\"name\": \"Shankar\", \"age\": 24, \"course\": \"PDS\"}\n",
        "print(students)"
      ],
      "metadata": {
        "colab": {
          "base_uri": "https://localhost:8080/"
        },
        "id": "Yg92Hx2DoUp4",
        "outputId": "d720b511-5bd3-48fc-8a87-79f4db25aaab"
      },
      "execution_count": null,
      "outputs": [
        {
          "output_type": "stream",
          "name": "stdout",
          "text": [
            "{'name': 'Shankar', 'age': 24, 'course': 'PDS'}\n"
          ]
        }
      ]
    },
    {
      "cell_type": "code",
      "source": [
        "# Basic Examples of Dictionaries\n",
        "# Empty dictionary\n",
        "empty_dict = {}\n",
        "\n",
        "# Simple dictionary\n",
        "student = {\n",
        "    \"name\": \"Shankar\",\n",
        "    \"age\": 24,\n",
        "    \"grade\": \"A\"\n",
        "}\n",
        "\n",
        "# Mixed key types\n",
        "mixed_keys = {\n",
        "    1: \"one\",\n",
        "    \"pi\": 3.14,\n",
        "    (2, 3): \"tuple as key\"\n",
        "}"
      ],
      "metadata": {
        "id": "hkXMXlcQtOyP"
      },
      "execution_count": null,
      "outputs": []
    },
    {
      "cell_type": "markdown",
      "source": [],
      "metadata": {
        "id": "bOJeEPFppwT-"
      }
    },
    {
      "cell_type": "code",
      "source": [
        "# Accessing Dictionary Values\n",
        "student = {\"name\": \"Shankar\", \"age\": 24, \"grade\": \"A\"}\n",
        "\n",
        "print(student[\"name\"])      # Shankar\n",
        "print(student.get(\"age\"))   # 24"
      ],
      "metadata": {
        "colab": {
          "base_uri": "https://localhost:8080/"
        },
        "id": "kTfV0U0LtXw5",
        "outputId": "d53ed7a8-ed02-4add-fc6e-64498caecb21"
      },
      "execution_count": null,
      "outputs": [
        {
          "output_type": "stream",
          "name": "stdout",
          "text": [
            "Shankar\n",
            "24\n"
          ]
        }
      ]
    },
    {
      "cell_type": "code",
      "source": [
        "# Adding & Updating Elements\n",
        "student[\"course\"] = \"Python for Data Science\"   # Add new key-value pair\n",
        "student[\"grade\"] = \"A+\"              # Update existing key"
      ],
      "metadata": {
        "id": "xngPEDZXtgT-"
      },
      "execution_count": null,
      "outputs": []
    },
    {
      "cell_type": "code",
      "source": [
        "# Removing Elements\n",
        "student.pop(\"age\")       # Removes \"age\" key\n",
        "student.popitem()        # Removes last inserted item\n",
        "del student[\"grade\"]     # Removes \"grade\""
      ],
      "metadata": {
        "id": "3WL2PWDXtoha"
      },
      "execution_count": null,
      "outputs": []
    },
    {
      "cell_type": "code",
      "source": [
        "# Nested Dictionary\n",
        "university = {\n",
        "    \"student1\": {\"name\": \"Alice\", \"age\": 22},\n",
        "    \"student2\": {\"name\": \"Bob\", \"age\": 24}\n",
        "}"
      ],
      "metadata": {
        "id": "3B4LI08Pts_t"
      },
      "execution_count": null,
      "outputs": []
    },
    {
      "cell_type": "code",
      "source": [
        "# Iterating Over a Dictionary\n",
        "for key, value in student.items():\n",
        "    print(key, \":\", value)"
      ],
      "metadata": {
        "colab": {
          "base_uri": "https://localhost:8080/"
        },
        "id": "0GmzDXNhtw_j",
        "outputId": "ba39aa4a-1be2-4cbb-9f71-f16dc68f3233"
      },
      "execution_count": null,
      "outputs": [
        {
          "output_type": "stream",
          "name": "stdout",
          "text": [
            "name : Shankar\n"
          ]
        }
      ]
    },
    {
      "cell_type": "code",
      "source": [
        "# Dictionary Comprehension\n",
        "squares = {x: x**2 for x in range(1, 6)}\n",
        "print(squares)   # {1: 1, 2: 4, 3: 9, 4: 16, 5: 25}"
      ],
      "metadata": {
        "colab": {
          "base_uri": "https://localhost:8080/"
        },
        "id": "7t08PE8zt2PP",
        "outputId": "2a4a8a2c-d153-43ef-fdb6-17c449088ba6"
      },
      "execution_count": null,
      "outputs": [
        {
          "output_type": "stream",
          "name": "stdout",
          "text": [
            "{1: 1, 2: 4, 3: 9, 4: 16, 5: 25}\n"
          ]
        }
      ]
    },
    {
      "cell_type": "markdown",
      "source": [
        "**4. Sets contain unique, unordered elements used for mathematical operations like union and intersection.**"
      ],
      "metadata": {
        "id": "1wWKRiQuuW6j"
      }
    },
    {
      "cell_type": "code",
      "source": [
        "fruits = {\"apple\", \"banana\", \"cherry\", \"banana\"}  # Duplicates are ignored\n",
        "numbers = {1, 2, 3, 4, 5}\n",
        "\n",
        "fruits.add(\"grape\")                 # Add element\n",
        "fruits.remove(\"banana\")             # Remove element\n",
        "fruits.update([\"mango\", \"orange\"])  # Add multiple elements\n",
        "print(fruits)"
      ],
      "metadata": {
        "colab": {
          "base_uri": "https://localhost:8080/"
        },
        "id": "RWWxeigXppXJ",
        "outputId": "f694e730-1d2c-4613-af61-628c4fed00ae"
      },
      "execution_count": null,
      "outputs": [
        {
          "output_type": "stream",
          "name": "stdout",
          "text": [
            "{'mango', 'grape', 'orange', 'cherry', 'apple'}\n"
          ]
        }
      ]
    },
    {
      "cell_type": "code",
      "source": [
        "# Basic Examples of Sets\n",
        "# Empty set (must use set(), not {})\n",
        "empty_set = set()\n",
        "\n",
        "# Set of integers\n",
        "numbers = {1, 2, 3, 4, 5}\n",
        "\n",
        "# Set of strings\n",
        "fruits = {\"apple\", \"banana\", \"cherry\"}\n",
        "\n",
        "# Mixed data types\n",
        "mixed = {10, \"hello\", 3.14, True}"
      ],
      "metadata": {
        "id": "cjotKlJvp7-Q"
      },
      "execution_count": null,
      "outputs": []
    },
    {
      "cell_type": "code",
      "source": [
        "# Removing Duplicates\n",
        "duplicates = {1, 2, 2, 3, 4, 4, 5}\n",
        "print(duplicates)   # {1, 2, 3, 4, 5}"
      ],
      "metadata": {
        "colab": {
          "base_uri": "https://localhost:8080/"
        },
        "id": "wbFn9Wb6ugde",
        "outputId": "bd5bf839-ada3-43fb-a6ff-d0e0aee33529"
      },
      "execution_count": null,
      "outputs": [
        {
          "output_type": "stream",
          "name": "stdout",
          "text": [
            "{1, 2, 3, 4, 5}\n"
          ]
        }
      ]
    },
    {
      "cell_type": "code",
      "source": [
        "# Adding and Removing Elements\n",
        "fruits = {\"apple\", \"banana\"}\n",
        "\n",
        "fruits.add(\"cherry\")       # Add new element\n",
        "fruits.remove(\"banana\")    # Remove element (KeyError if not present)\n",
        "fruits.discard(\"pear\")     # Remove safely (no error if not present)"
      ],
      "metadata": {
        "id": "CD1d-3EgulFM"
      },
      "execution_count": null,
      "outputs": []
    },
    {
      "cell_type": "code",
      "source": [
        "# Set Operations (like in Mathematics)\n",
        "A = {1, 2, 3, 4}\n",
        "B = {3, 4, 5, 6}\n",
        "\n",
        "print(A.union(B))        # {1, 2, 3, 4, 5, 6}\n",
        "print(A.intersection(B)) # {3, 4}\n",
        "print(A.difference(B))   # {1, 2}\n",
        "print(B.difference(A))   # {5, 6}\n",
        "print(A.symmetric_difference(B)) # {1, 2, 5, 6}"
      ],
      "metadata": {
        "colab": {
          "base_uri": "https://localhost:8080/"
        },
        "id": "419waSCRuoQQ",
        "outputId": "c2aa6900-7c12-40da-9c42-30e1529e8acb"
      },
      "execution_count": null,
      "outputs": [
        {
          "output_type": "stream",
          "name": "stdout",
          "text": [
            "{1, 2, 3, 4, 5, 6}\n",
            "{3, 4}\n",
            "{1, 2}\n",
            "{5, 6}\n",
            "{1, 2, 5, 6}\n"
          ]
        }
      ]
    },
    {
      "cell_type": "code",
      "source": [
        "# Membership Test\n",
        "fruits = {\"apple\", \"banana\", \"cherry\"}\n",
        "print(\"apple\" in fruits)   # True\n",
        "print(\"grape\" not in fruits)  # True"
      ],
      "metadata": {
        "colab": {
          "base_uri": "https://localhost:8080/"
        },
        "id": "TdWkX4kiur5b",
        "outputId": "21d20d06-ed83-48d1-9ce6-48892da18637"
      },
      "execution_count": null,
      "outputs": [
        {
          "output_type": "stream",
          "name": "stdout",
          "text": [
            "True\n",
            "True\n"
          ]
        }
      ]
    },
    {
      "cell_type": "markdown",
      "source": [
        "**Functions in Python**"
      ],
      "metadata": {
        "id": "YgL7-1BTEjEf"
      }
    },
    {
      "cell_type": "code",
      "source": [
        "# Function definition1\n",
        "def greet():\n",
        "\tprint(\"Hello\")"
      ],
      "metadata": {
        "id": "urte3O31uy8m"
      },
      "execution_count": null,
      "outputs": []
    },
    {
      "cell_type": "code",
      "source": [
        "# Function calling\n",
        "greet()"
      ],
      "metadata": {
        "colab": {
          "base_uri": "https://localhost:8080/"
        },
        "id": "zxQ53nAaEsqN",
        "outputId": "c966fd95-1dc7-478a-f6c0-7b5f78f66656"
      },
      "execution_count": null,
      "outputs": [
        {
          "output_type": "stream",
          "name": "stdout",
          "text": [
            "Hello\n"
          ]
        }
      ]
    },
    {
      "cell_type": "code",
      "source": [
        "# Local variable\n",
        "def fun():\n",
        "\ts = \"I love India!\"\n",
        "\tprint(s)"
      ],
      "metadata": {
        "id": "vq1_VwL3Ey_W"
      },
      "execution_count": null,
      "outputs": []
    },
    {
      "cell_type": "code",
      "source": [
        "s = \"I love World!\"\n",
        "fun()\n",
        "print(s)"
      ],
      "metadata": {
        "colab": {
          "base_uri": "https://localhost:8080/"
        },
        "id": "ap9RVRlVFV12",
        "outputId": "11cd1c18-e941-44e9-e7d3-1c7058f7a27f"
      },
      "execution_count": null,
      "outputs": [
        {
          "output_type": "stream",
          "name": "stdout",
          "text": [
            "I love India!\n",
            "I love World!\n"
          ]
        }
      ]
    },
    {
      "cell_type": "code",
      "source": [
        "# Define a global variable\n",
        "s = \"I love India!\""
      ],
      "metadata": {
        "id": "m_LxZoYFFX8r"
      },
      "execution_count": null,
      "outputs": []
    },
    {
      "cell_type": "code",
      "source": [
        "def fun():\n",
        "    global s   # tells Python we are using the global variable 's'\n",
        "    print(s)"
      ],
      "metadata": {
        "id": "Kxxfbx6XGJXE"
      },
      "execution_count": null,
      "outputs": []
    },
    {
      "cell_type": "code",
      "source": [
        "# Function call before re-assigning\n",
        "fun()"
      ],
      "metadata": {
        "colab": {
          "base_uri": "https://localhost:8080/"
        },
        "id": "J8N52DxqGtuD",
        "outputId": "f30f4c25-3329-458a-c772-78b7a7fe4750"
      },
      "execution_count": null,
      "outputs": [
        {
          "output_type": "stream",
          "name": "stdout",
          "text": [
            "I love India!\n"
          ]
        }
      ]
    },
    {
      "cell_type": "code",
      "source": [
        "# Update the global variable\n",
        "s = \"I love world!\"\n",
        "\n",
        "# Function call again to see the updated value\n",
        "fun()"
      ],
      "metadata": {
        "colab": {
          "base_uri": "https://localhost:8080/"
        },
        "id": "QA_uqTTJGwH8",
        "outputId": "53154abe-a61c-465e-f76b-9cdbca9a3c88"
      },
      "execution_count": null,
      "outputs": [
        {
          "output_type": "stream",
          "name": "stdout",
          "text": [
            "I love world!\n"
          ]
        }
      ]
    },
    {
      "cell_type": "code",
      "source": [
        "# what is the output of this program fragment?\n",
        "def fun(x, y):\n",
        "    global a, b, xg, yg\n",
        "    a = 10\n",
        "    x, y = y, x\n",
        "    b = 30\n",
        "    c = 30\n",
        "    print(a, b, x, y)   # inside function\n",
        "    a, b, xg, yg = 1, 2, 3, 4   # assign globals\n",
        "\n",
        "fun(50, 100)\n",
        "print(a, b, xg, yg)     # outside function"
      ],
      "metadata": {
        "colab": {
          "base_uri": "https://localhost:8080/"
        },
        "id": "FUhDqLAiGw63",
        "outputId": "3ecc6dc7-f660-42e3-d461-93681abc8cd5"
      },
      "execution_count": null,
      "outputs": [
        {
          "output_type": "stream",
          "name": "stdout",
          "text": [
            "10 30 100 50\n",
            "1 2 3 4\n"
          ]
        }
      ]
    },
    {
      "cell_type": "code",
      "source": [
        "#Find the output of below program\n",
        "def fun(x, y):\n",
        "  global a\n",
        "  a = 10\n",
        "  x,y = y,x\n",
        "  b = 20\n",
        "  b = 30\n",
        "  c = 30\n",
        "  print(a,b,x,y)"
      ],
      "metadata": {
        "id": "teyHKaO5nRo9"
      },
      "execution_count": null,
      "outputs": []
    },
    {
      "cell_type": "code",
      "source": [
        "  a, b, x, y = 1, 2, 3,4\n",
        "  fun(50, 100)\n",
        "  print(a, b, x, y)"
      ],
      "metadata": {
        "colab": {
          "base_uri": "https://localhost:8080/"
        },
        "id": "NEOTdD1KoFqq",
        "outputId": "d298bfbf-8109-421a-fa92-82a5311080ea"
      },
      "execution_count": null,
      "outputs": [
        {
          "output_type": "stream",
          "name": "stdout",
          "text": [
            "10 30 100 50\n",
            "10 2 3 4\n"
          ]
        }
      ]
    },
    {
      "cell_type": "code",
      "source": [
        "def fun1():\n",
        "    x = 100\n",
        "    def fun2():\n",
        "        global x\n",
        "        x = 200\n",
        "    print(\"Before calling fun2: \" + str(x))\n",
        "    print(\"Calling fun2 now:\")\n",
        "    fun2()\n",
        "    print(\"After calling fun2: \" + str(x))\n",
        "\n",
        "fun1()\n",
        "print(\"x in main: \" + str(x))\n"
      ],
      "metadata": {
        "colab": {
          "base_uri": "https://localhost:8080/"
        },
        "id": "slfXlKRloU6U",
        "outputId": "cc40cddb-c7ea-4af1-e208-4dd0e7195608"
      },
      "execution_count": null,
      "outputs": [
        {
          "output_type": "stream",
          "name": "stdout",
          "text": [
            "Before calling fun2: 100\n",
            "Calling fun2 now:\n",
            "After calling fun2: 100\n",
            "x in main: 200\n"
          ]
        }
      ]
    },
    {
      "cell_type": "code",
      "source": [
        "#x, y are formal arguments\n",
        "def sum(x,y):\n",
        "  z=x+y\n",
        "  return z #return the result\n",
        "\n",
        "x,y=4,5\n",
        "r=sum(x,y) #x, y are actual arguments\n",
        "print(r)"
      ],
      "metadata": {
        "colab": {
          "base_uri": "https://localhost:8080/"
        },
        "id": "fVz2hg2PozM6",
        "outputId": "29047584-2969-402c-a0a9-58523ed34a94"
      },
      "execution_count": null,
      "outputs": [
        {
          "output_type": "stream",
          "name": "stdout",
          "text": [
            "9\n"
          ]
        }
      ]
    },
    {
      "cell_type": "code",
      "source": [
        "import math\n",
        "r=math.sqrt(4)\n",
        "print(r)"
      ],
      "metadata": {
        "colab": {
          "base_uri": "https://localhost:8080/"
        },
        "id": "Bht85VkVpfVe",
        "outputId": "2738ce3a-ca47-497c-ad0e-fb7caa0db929"
      },
      "execution_count": null,
      "outputs": [
        {
          "output_type": "stream",
          "name": "stdout",
          "text": [
            "2.0\n"
          ]
        }
      ]
    },
    {
      "cell_type": "code",
      "source": [
        "s=\"i love programming\"\n",
        "r=s.capitalize()\n",
        "print(r)"
      ],
      "metadata": {
        "colab": {
          "base_uri": "https://localhost:8080/"
        },
        "id": "jO95qnM5p4_G",
        "outputId": "c763d14f-c82c-4937-ef2b-0a8f97f4a27a"
      },
      "execution_count": null,
      "outputs": [
        {
          "output_type": "stream",
          "name": "stdout",
          "text": [
            "I love programming\n"
          ]
        }
      ]
    },
    {
      "cell_type": "code",
      "source": [
        "x=int(input(\"enter the value greater than 0=\"))\n",
        "assert x>0, \"wrong input entered\"\n",
        "print(\"you entered: \" ,x)\n"
      ],
      "metadata": {
        "colab": {
          "base_uri": "https://localhost:8080/"
        },
        "id": "kBPb9eVGrS7O",
        "outputId": "f199d9a9-9e48-4412-c3ec-142f81e04461"
      },
      "execution_count": null,
      "outputs": [
        {
          "output_type": "stream",
          "name": "stdout",
          "text": [
            "enter the value greater than 0=10\n",
            "you entered:  10\n"
          ]
        }
      ]
    },
    {
      "cell_type": "code",
      "source": [],
      "metadata": {
        "id": "ENsq4UyeredC"
      },
      "execution_count": null,
      "outputs": []
    }
  ]
}