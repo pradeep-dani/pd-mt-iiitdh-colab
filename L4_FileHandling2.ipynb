{
  "nbformat": 4,
  "nbformat_minor": 0,
  "metadata": {
    "colab": {
      "provenance": [],
      "include_colab_link": true
    },
    "kernelspec": {
      "name": "python3",
      "display_name": "Python 3"
    },
    "language_info": {
      "name": "python"
    }
  },
  "cells": [
    {
      "cell_type": "markdown",
      "metadata": {
        "id": "view-in-github",
        "colab_type": "text"
      },
      "source": [
        "<a href=\"https://colab.research.google.com/github/pradeep-dani/pd-mt-iiitdh-colab/blob/main/L4_FileHandling2.ipynb\" target=\"_parent\"><img src=\"https://colab.research.google.com/assets/colab-badge.svg\" alt=\"Open In Colab\"/></a>"
      ]
    },
    {
      "cell_type": "markdown",
      "source": [
        "## **Working with JSON files**"
      ],
      "metadata": {
        "id": "dwzhqiQFbdwR"
      }
    },
    {
      "cell_type": "code",
      "execution_count": null,
      "metadata": {
        "colab": {
          "base_uri": "https://localhost:8080/"
        },
        "id": "oFhyP8ZXbQL2",
        "outputId": "82f30233-6c65-4b8c-c746-23527686316a"
      },
      "outputs": [
        {
          "output_type": "stream",
          "name": "stdout",
          "text": [
            "{\"name\": \"Rakesh\", \"age\": 22}\n"
          ]
        }
      ],
      "source": [
        "# handling json - open, close etc.\n",
        "import json\n",
        "\n",
        "data = {\"name\": \"Rakesh\", \"age\": 22}\n",
        "json_str = json.dumps(data)  # Dict → JSON\n",
        "print(json_str)"
      ]
    },
    {
      "cell_type": "code",
      "source": [
        "# load and display data from json\n",
        "parsed = json.loads(json_str)  # JSON → Dict\n",
        "print(parsed[\"name\"])  # Rakesh"
      ],
      "metadata": {
        "colab": {
          "base_uri": "https://localhost:8080/"
        },
        "id": "MleLHSKdbx7-",
        "outputId": "0c6bc5fb-50c2-4881-9f61-8f23b7543a72"
      },
      "execution_count": null,
      "outputs": [
        {
          "output_type": "stream",
          "name": "stdout",
          "text": [
            "Rakesh\n"
          ]
        }
      ]
    },
    {
      "cell_type": "code",
      "source": [
        "# open json files in write/read modes\n",
        "with open(\"data.json\", \"w\") as f:\n",
        "    json.dump(data, f)\n",
        "\n",
        "with open(\"data.json\", \"r\") as f:\n",
        "    loaded = json.load(f)\n",
        "\n",
        "print(loaded)"
      ],
      "metadata": {
        "colab": {
          "base_uri": "https://localhost:8080/"
        },
        "id": "YmZhsE-gb2eN",
        "outputId": "187fcb96-8abc-468e-d61e-a38b4c95092f"
      },
      "execution_count": null,
      "outputs": [
        {
          "output_type": "stream",
          "name": "stdout",
          "text": [
            "{'name': 'Rakesh', 'age': 22}\n"
          ]
        }
      ]
    },
    {
      "cell_type": "code",
      "source": [
        "# Text parsing example\n",
        "text = \"My roll no is 123 and age is 22 my friend age is 21\"\n",
        "import re\n",
        "numbers = re.findall(r\"\\d+\", text)\n",
        "print(numbers)  # ['123', '22', '21']"
      ],
      "metadata": {
        "colab": {
          "base_uri": "https://localhost:8080/"
        },
        "id": "c7ZZ20kocCae",
        "outputId": "3452ea84-aa72-4ba4-ed1e-34a185110a4e"
      },
      "execution_count": null,
      "outputs": [
        {
          "output_type": "stream",
          "name": "stdout",
          "text": [
            "['123', '22', '21']\n"
          ]
        }
      ]
    },
    {
      "cell_type": "code",
      "source": [
        "import requests\n",
        "from bs4 import BeautifulSoup\n",
        "\n",
        "r = requests.get(\"https://online.iiitdwd.ac.in/\")\n",
        "soup = BeautifulSoup(r.text, \"html.parser\")\n",
        "print(soup.title.text)"
      ],
      "metadata": {
        "colab": {
          "base_uri": "https://localhost:8080/"
        },
        "id": "XazWvxuycMEZ",
        "outputId": "015e9127-79a8-45e7-d00b-a32b23686b7a"
      },
      "execution_count": null,
      "outputs": [
        {
          "output_type": "stream",
          "name": "stdout",
          "text": [
            "IIIT Dharwad\n"
          ]
        }
      ]
    },
    {
      "cell_type": "code",
      "source": [],
      "metadata": {
        "id": "ljipJzjmcXoy"
      },
      "execution_count": null,
      "outputs": []
    }
  ]
}