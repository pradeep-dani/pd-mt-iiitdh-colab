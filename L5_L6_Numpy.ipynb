{
  "nbformat": 4,
  "nbformat_minor": 0,
  "metadata": {
    "colab": {
      "provenance": [],
      "include_colab_link": true
    },
    "kernelspec": {
      "name": "python3",
      "display_name": "Python 3"
    },
    "language_info": {
      "name": "python"
    }
  },
  "cells": [
    {
      "cell_type": "markdown",
      "metadata": {
        "id": "view-in-github",
        "colab_type": "text"
      },
      "source": [
        "<a href=\"https://colab.research.google.com/github/pradeep-dani/pd-mt-iiitdh-colab/blob/main/L5_L6_Numpy.ipynb\" target=\"_parent\"><img src=\"https://colab.research.google.com/assets/colab-badge.svg\" alt=\"Open In Colab\"/></a>"
      ]
    },
    {
      "cell_type": "markdown",
      "source": [
        "**Working with Numpy Arrays**"
      ],
      "metadata": {
        "id": "-gjO7K9EIpjx"
      }
    },
    {
      "cell_type": "code",
      "source": [
        "#Creating a single dimension ndarray object\n",
        "import numpy as np\n",
        "a = np.array\n",
        "print(a)"
      ],
      "metadata": {
        "colab": {
          "base_uri": "https://localhost:8080/"
        },
        "id": "kIiMsAXAIuNP",
        "outputId": "823a34ed-28cc-4a05-a8e9-2a95396e3923"
      },
      "execution_count": null,
      "outputs": [
        {
          "output_type": "stream",
          "name": "stdout",
          "text": [
            "<built-in function array>\n"
          ]
        }
      ]
    },
    {
      "cell_type": "code",
      "source": [
        "#Creating a two dimension ndarray object\n",
        "import numpy as np\n",
        "a = np.array([[1, 2, 3], [4, 5, 6]])\n",
        "print(a.ndim)"
      ],
      "metadata": {
        "colab": {
          "base_uri": "https://localhost:8080/"
        },
        "id": "J_pNFZUMI0zS",
        "outputId": "4e792f9e-9033-4863-faf1-3c866d4e0ae0"
      },
      "execution_count": null,
      "outputs": [
        {
          "output_type": "stream",
          "name": "stdout",
          "text": [
            "2\n"
          ]
        }
      ]
    },
    {
      "cell_type": "code",
      "source": [
        "# Printing data type of array object\n",
        "import numpy as np\n",
        "a = np.array([[1,2,3]])\n",
        "print(\"Each item is of the type\",a.dtype)"
      ],
      "metadata": {
        "colab": {
          "base_uri": "https://localhost:8080/"
        },
        "id": "eK1aq8j0I48k",
        "outputId": "8e55615e-e7f2-4908-87e5-a4e1e5fc03bc"
      },
      "execution_count": null,
      "outputs": [
        {
          "output_type": "stream",
          "name": "stdout",
          "text": [
            "Each item is of the type int64\n"
          ]
        }
      ]
    },
    {
      "cell_type": "code",
      "source": [
        "\n",
        "import numpy as np\n",
        "a=np.array([[1,2],[3,4],[5,6]])\n",
        "print(\"printing the original array..\")\n",
        "print(a)\n",
        "a=a.reshape(2,3)\n",
        "print(\"printing the reshaped array..\")\n",
        "print(a)"
      ],
      "metadata": {
        "colab": {
          "base_uri": "https://localhost:8080/"
        },
        "id": "DE3pb5i_QaP3",
        "outputId": "a8bba763-c92f-4f6e-e055-4374345ed782"
      },
      "execution_count": null,
      "outputs": [
        {
          "output_type": "stream",
          "name": "stdout",
          "text": [
            "printing the original array..\n",
            "[[1 2]\n",
            " [3 4]\n",
            " [5 6]]\n",
            "printing the reshaped array..\n",
            "[[1 2 3]\n",
            " [4 5 6]]\n"
          ]
        }
      ]
    },
    {
      "cell_type": "code",
      "source": [
        "# Printing Attributes of ndarray object - dimensions, size, shape, data type and size\n",
        "import numpy as np\n",
        "a = np.array([[1,2,3],[4,5,6]])\n",
        "print(\"Array axes (dimensions): \",a.ndim)\n",
        "print(\"Array Size:\",a.size)\n",
        "print(\"Shape:\",a.shape)\n",
        "print(\"Data type of array elements:\",a.dtype)\n",
        "print(\"Size (in bytes) of each element: \",a.itemsize)"
      ],
      "metadata": {
        "colab": {
          "base_uri": "https://localhost:8080/"
        },
        "id": "hX9B-3WwQUnM",
        "outputId": "2dd97d58-d4ff-4a5c-b747-e39b53aa183f"
      },
      "execution_count": null,
      "outputs": [
        {
          "output_type": "stream",
          "name": "stdout",
          "text": [
            "Array axes (dimensions):  2\n",
            "Array Size: 6\n",
            "Shape: (2, 3)\n",
            "Data type of array elements: int64\n",
            "Size (in bytes) of each element:  8\n"
          ]
        }
      ]
    },
    {
      "cell_type": "code",
      "source": [
        "# Reshaping the array objects\n",
        "import numpy as np\n",
        "a=np.array([[1,2],[3,4],[5,6]])\n",
        "print(\"printing the original array..\")\n",
        "print(a)\n",
        "a=a.reshape(2,3)\n",
        "print(\"printing the reshaped array..\")\n",
        "print(a)"
      ],
      "metadata": {
        "colab": {
          "base_uri": "https://localhost:8080/"
        },
        "id": "P_mS-AplSgFq",
        "outputId": "753ff5c0-81c0-497a-8fe2-3963338e4857"
      },
      "execution_count": null,
      "outputs": [
        {
          "output_type": "stream",
          "name": "stdout",
          "text": [
            "printing the original array..\n",
            "[[1 2]\n",
            " [3 4]\n",
            " [5 6]]\n",
            "printing the reshaped array..\n",
            "[[1 2 3]\n",
            " [4 5 6]]\n"
          ]
        }
      ]
    },
    {
      "cell_type": "code",
      "source": [
        "# Slicing in the Array\n",
        "import numpy as np\n",
        "a = np.array([[1,2],[3,4],[5,6]])\n",
        "print(a[0,1])\n",
        "print(a[2,0])"
      ],
      "metadata": {
        "colab": {
          "base_uri": "https://localhost:8080/"
        },
        "id": "b7IFIFNLQd3y",
        "outputId": "2b94d9cd-35c3-4350-be7c-199f3ab0b93f"
      },
      "execution_count": null,
      "outputs": [
        {
          "output_type": "stream",
          "name": "stdout",
          "text": [
            "2\n",
            "5\n"
          ]
        }
      ]
    },
    {
      "cell_type": "code",
      "source": [
        "# The linspace() function returns the evenly spaced values over the given interval.\n",
        "# The following example returns the 10 evenly separated values over the given interval 5-15\n",
        "import numpy as np\n",
        "a=np.linspace(50,100,10)\n",
        "print(a)"
      ],
      "metadata": {
        "colab": {
          "base_uri": "https://localhost:8080/"
        },
        "id": "i0UVkBC1QniE",
        "outputId": "ff52098b-9e4c-4530-ec94-d523f390b388"
      },
      "execution_count": null,
      "outputs": [
        {
          "output_type": "stream",
          "name": "stdout",
          "text": [
            "[ 50.          55.55555556  61.11111111  66.66666667  72.22222222\n",
            "  77.77777778  83.33333333  88.88888889  94.44444444 100.        ]\n"
          ]
        }
      ]
    },
    {
      "cell_type": "code",
      "source": [
        "# Finding the maximum, minimum, and sum of the array elements\n",
        "import numpy as np\n",
        "a=np.array([10,20,30,100,150,400])\n",
        "print(\"The array:\",a)\n",
        "print(\"The maximum element:\",a.max())\n",
        "print(\"The minimum element:\",a.min())\n",
        "print(\"The sum of the elements:\",a.sum())"
      ],
      "metadata": {
        "colab": {
          "base_uri": "https://localhost:8080/"
        },
        "id": "XdNfEAogQrAt",
        "outputId": "3e444dba-9c18-43b3-c2da-771dee84297e"
      },
      "execution_count": null,
      "outputs": [
        {
          "output_type": "stream",
          "name": "stdout",
          "text": [
            "The array: [ 10  20  30 100 150 400]\n",
            "The maximum element: 400\n",
            "The minimum element: 10\n",
            "The sum of the elements: 710\n"
          ]
        }
      ]
    },
    {
      "cell_type": "code",
      "source": [
        "# NumPy Array Axis\n",
        "import numpy as np\n",
        "a = np.array([[10,20,30],[40,50,60]])\n",
        "print(\"The array:\\n\",a)\n",
        "print(\"The maximum elements of rows:\",a.max(axis = 1))\n",
        "print(\"The minimum element of rows\",a.min(axis = 1))\n",
        "print(\"The sum of all rows\",a.sum(axis = 1))"
      ],
      "metadata": {
        "colab": {
          "base_uri": "https://localhost:8080/"
        },
        "id": "zIeUbrAyQupU",
        "outputId": "cbb42df6-69ac-4302-ceab-cabf0c8eaf6b"
      },
      "execution_count": null,
      "outputs": [
        {
          "output_type": "stream",
          "name": "stdout",
          "text": [
            "The array:\n",
            " [[10 20 30]\n",
            " [40 50 60]]\n",
            "The maximum elements of rows: [30 60]\n",
            "The minimum element of rows [10 40]\n",
            "The sum of all rows [ 60 150]\n"
          ]
        }
      ]
    },
    {
      "cell_type": "code",
      "source": [
        "# Finding square root and standard Deviation\n",
        "import numpy as np\n",
        "a = np.array([[1,2,30],[10,15,4]])\n",
        "print(np.sqrt(a))\n",
        "print(np.std(a))"
      ],
      "metadata": {
        "colab": {
          "base_uri": "https://localhost:8080/"
        },
        "id": "LsXYtbtuQ3wv",
        "outputId": "9817b858-0494-4d0b-e22c-5ba68b8f25b9"
      },
      "execution_count": null,
      "outputs": [
        {
          "output_type": "stream",
          "name": "stdout",
          "text": [
            "[[1.         1.41421356 5.47722558]\n",
            " [3.16227766 3.87298335 2.        ]]\n",
            "10.044346115546242\n"
          ]
        }
      ]
    },
    {
      "cell_type": "code",
      "source": [
        "# Arithmetic operations on the array\n",
        "import numpy as np\n",
        "a = np.array([[1,2,30],[10,15,4]])\n",
        "b = np.array([[1,2,3],[12, 19, 29]])\n",
        "print(\"Sum of array a and b\\n\",a+b)\n",
        "print(\"Product of array a and b\\n\",a*b)\n",
        "print(\"Division of array a and b\\n\",a/b)"
      ],
      "metadata": {
        "colab": {
          "base_uri": "https://localhost:8080/"
        },
        "id": "zzL4gsqKQ7hl",
        "outputId": "688c9b38-fdbd-4385-922f-c114da580afd"
      },
      "execution_count": null,
      "outputs": [
        {
          "output_type": "stream",
          "name": "stdout",
          "text": [
            "Sum of array a and b\n",
            " [[ 2  4 33]\n",
            " [22 34 33]]\n",
            "Product of array a and b\n",
            " [[  1   4  90]\n",
            " [120 285 116]]\n",
            "Division of array a and b\n",
            " [[ 1.          1.         10.        ]\n",
            " [ 0.83333333  0.78947368  0.13793103]]\n"
          ]
        }
      ]
    },
    {
      "cell_type": "code",
      "source": [
        "# Array Concatenation - vertical stacking and horizontal stacking\n",
        "import numpy as np\n",
        "a = np.array([[1,2,30],[10,15,4]])\n",
        "b = np.array([[1,2,3],[12, 19, 29]])\n",
        "print(\"Arrays vertically concatenated\\n\",np.vstack((a,b)));\n",
        "print(\"Arrays horizontally concatenated\\n\",np.hstack((a,b)))"
      ],
      "metadata": {
        "colab": {
          "base_uri": "https://localhost:8080/"
        },
        "id": "v4zip3W8RBnW",
        "outputId": "49815335-2bcc-431e-a948-98e1d424dabb"
      },
      "execution_count": null,
      "outputs": [
        {
          "output_type": "stream",
          "name": "stdout",
          "text": [
            "Arrays vertically concatenated\n",
            " [[ 1  2 30]\n",
            " [10 15  4]\n",
            " [ 1  2  3]\n",
            " [12 19 29]]\n",
            "Arrays horizontally concatenated\n",
            " [[ 1  2 30  1  2  3]\n",
            " [10 15  4 12 19 29]]\n"
          ]
        }
      ]
    },
    {
      "cell_type": "code",
      "source": [
        "# Creating an array with unspecified contents\n",
        "import numpy as np\n",
        "arr = np.empty((3,2), dtype = int)\n",
        "print(arr)"
      ],
      "metadata": {
        "colab": {
          "base_uri": "https://localhost:8080/"
        },
        "id": "X9zfHPr_RFAq",
        "outputId": "dea42fc1-b26b-4817-e60e-13d95d8578de"
      },
      "execution_count": null,
      "outputs": [
        {
          "output_type": "stream",
          "name": "stdout",
          "text": [
            "[[4607182418800017408 4607182418800017408]\n",
            " [4621819117588971520 4605681218924227243]\n",
            " [4605286166325335094 4594137509534530454]]\n"
          ]
        }
      ]
    },
    {
      "cell_type": "code",
      "source": [
        "# Creating an array with all zero elements\n",
        "import numpy as np\n",
        "arr = np.zeros((3,2), dtype = int)\n",
        "print(arr)"
      ],
      "metadata": {
        "colab": {
          "base_uri": "https://localhost:8080/"
        },
        "id": "c5tUUdOlRJsc",
        "outputId": "7bf1fef6-2ceb-4f08-ec5a-2d52b8649722"
      },
      "execution_count": null,
      "outputs": [
        {
          "output_type": "stream",
          "name": "stdout",
          "text": [
            "[[0 0]\n",
            " [0 0]\n",
            " [0 0]]\n"
          ]
        }
      ]
    },
    {
      "cell_type": "code",
      "source": [
        "# Creating an array with all elements as ones\n",
        "import numpy as np\n",
        "arr = np.ones((3,2), dtype = int)\n",
        "print(arr)"
      ],
      "metadata": {
        "colab": {
          "base_uri": "https://localhost:8080/"
        },
        "id": "PVG4NsHRROE-",
        "outputId": "166ac067-c144-41f2-9660-40adbbe458e9"
      },
      "execution_count": null,
      "outputs": [
        {
          "output_type": "stream",
          "name": "stdout",
          "text": [
            "[[1 1]\n",
            " [1 1]\n",
            " [1 1]]\n"
          ]
        }
      ]
    },
    {
      "cell_type": "code",
      "source": [
        "# creating Numpy Array from Existing Data - list\n",
        "#Creating numpy array using the list\n",
        "import numpy as np\n",
        "l=[1,2,3,4,5,6,7]\n",
        "a = np.asarray(l);\n",
        "print(a)"
      ],
      "metadata": {
        "colab": {
          "base_uri": "https://localhost:8080/"
        },
        "id": "-SwpP_9oRROB",
        "outputId": "a41eb12e-87e8-4390-f6ce-5133babeba59"
      },
      "execution_count": null,
      "outputs": [
        {
          "output_type": "stream",
          "name": "stdout",
          "text": [
            "[1 2 3 4 5 6 7]\n"
          ]
        }
      ]
    },
    {
      "cell_type": "code",
      "source": [
        "# creating Numpy Array from Existing Data - tuple\n",
        "#Creating a numpy array using Tuple\n",
        "import numpy as np\n",
        "l=(1,2,3,4,5,6,7)\n",
        "a = np.asarray(l)\n",
        "print(a)"
      ],
      "metadata": {
        "colab": {
          "base_uri": "https://localhost:8080/"
        },
        "id": "YafF2AazRV58",
        "outputId": "2d5444d2-05a6-4c19-f810-980a6c604c8f"
      },
      "execution_count": null,
      "outputs": [
        {
          "output_type": "stream",
          "name": "stdout",
          "text": [
            "[1 2 3 4 5 6 7]\n"
          ]
        }
      ]
    },
    {
      "cell_type": "code",
      "source": [
        "# creating Numpy Arrays within the numerical range\n",
        "# Numpy.arrange\n",
        "# numpy.arrange(start, stop, step, dtype)\n",
        "import numpy as np\n",
        "arr = np.arange(0,10,2,float)\n",
        "print(arr)"
      ],
      "metadata": {
        "colab": {
          "base_uri": "https://localhost:8080/"
        },
        "id": "lqRARA-8RnoN",
        "outputId": "e2c0a766-f911-4f8b-d1fc-347378ce20ee"
      },
      "execution_count": null,
      "outputs": [
        {
          "output_type": "stream",
          "name": "stdout",
          "text": [
            "[0. 2. 4. 6. 8.]\n"
          ]
        }
      ]
    },
    {
      "cell_type": "code",
      "source": [
        "# NumPy Broadcasting - perform operations where the array of different shapes are involved.\n",
        "# For example, if we consider the matrix multiplication operation,\n",
        "# if the shape of the two matrices is the same then this operation will be easily performed\n",
        "import numpy as np\n",
        "a = np.array([1,2,3,4,5,6,7])\n",
        "b = np.array([2,4,6,8,10,12,14])\n",
        "c = a*b;\n",
        "print(c)"
      ],
      "metadata": {
        "colab": {
          "base_uri": "https://localhost:8080/"
        },
        "id": "TauK1VsgUodu",
        "outputId": "5bd37acf-1b90-487b-a458-ae881109ed26"
      },
      "execution_count": null,
      "outputs": [
        {
          "output_type": "stream",
          "name": "stdout",
          "text": [
            "[ 2  8 18 32 50 72 98]\n"
          ]
        }
      ]
    },
    {
      "cell_type": "code",
      "source": [
        "# If we consider arrays of different shapes, we will get the errors as shown below.\n",
        "# the first array has 7 elements and second array has 8 elements\n",
        "import numpy as np\n",
        "a = np.array([1,2,3,4,5,6,7])\n",
        "b = np.array([2,4,6,8,10,12,14,19])\n",
        "c = a*b;\n",
        "print(c)"
      ],
      "metadata": {
        "colab": {
          "base_uri": "https://localhost:8080/",
          "height": 193
        },
        "id": "f2Kgjsn2VGzv",
        "outputId": "42c761b5-fb02-4396-d500-0bb673788cd6"
      },
      "execution_count": null,
      "outputs": [
        {
          "output_type": "error",
          "ename": "ValueError",
          "evalue": "operands could not be broadcast together with shapes (7,) (8,) ",
          "traceback": [
            "\u001b[0;31m---------------------------------------------------------------------------\u001b[0m",
            "\u001b[0;31mValueError\u001b[0m                                Traceback (most recent call last)",
            "\u001b[0;32m/tmp/ipython-input-3629811255.py\u001b[0m in \u001b[0;36m<cell line: 0>\u001b[0;34m()\u001b[0m\n\u001b[1;32m      3\u001b[0m \u001b[0ma\u001b[0m \u001b[0;34m=\u001b[0m \u001b[0mnp\u001b[0m\u001b[0;34m.\u001b[0m\u001b[0marray\u001b[0m\u001b[0;34m(\u001b[0m\u001b[0;34m[\u001b[0m\u001b[0;36m1\u001b[0m\u001b[0;34m,\u001b[0m\u001b[0;36m2\u001b[0m\u001b[0;34m,\u001b[0m\u001b[0;36m3\u001b[0m\u001b[0;34m,\u001b[0m\u001b[0;36m4\u001b[0m\u001b[0;34m,\u001b[0m\u001b[0;36m5\u001b[0m\u001b[0;34m,\u001b[0m\u001b[0;36m6\u001b[0m\u001b[0;34m,\u001b[0m\u001b[0;36m7\u001b[0m\u001b[0;34m]\u001b[0m\u001b[0;34m)\u001b[0m\u001b[0;34m\u001b[0m\u001b[0;34m\u001b[0m\u001b[0m\n\u001b[1;32m      4\u001b[0m \u001b[0mb\u001b[0m \u001b[0;34m=\u001b[0m \u001b[0mnp\u001b[0m\u001b[0;34m.\u001b[0m\u001b[0marray\u001b[0m\u001b[0;34m(\u001b[0m\u001b[0;34m[\u001b[0m\u001b[0;36m2\u001b[0m\u001b[0;34m,\u001b[0m\u001b[0;36m4\u001b[0m\u001b[0;34m,\u001b[0m\u001b[0;36m6\u001b[0m\u001b[0;34m,\u001b[0m\u001b[0;36m8\u001b[0m\u001b[0;34m,\u001b[0m\u001b[0;36m10\u001b[0m\u001b[0;34m,\u001b[0m\u001b[0;36m12\u001b[0m\u001b[0;34m,\u001b[0m\u001b[0;36m14\u001b[0m\u001b[0;34m,\u001b[0m\u001b[0;36m19\u001b[0m\u001b[0;34m]\u001b[0m\u001b[0;34m)\u001b[0m\u001b[0;34m\u001b[0m\u001b[0;34m\u001b[0m\u001b[0m\n\u001b[0;32m----> 5\u001b[0;31m \u001b[0mc\u001b[0m \u001b[0;34m=\u001b[0m \u001b[0ma\u001b[0m\u001b[0;34m*\u001b[0m\u001b[0mb\u001b[0m\u001b[0;34m;\u001b[0m\u001b[0;34m\u001b[0m\u001b[0;34m\u001b[0m\u001b[0m\n\u001b[0m\u001b[1;32m      6\u001b[0m \u001b[0mprint\u001b[0m\u001b[0;34m(\u001b[0m\u001b[0mc\u001b[0m\u001b[0;34m)\u001b[0m\u001b[0;34m\u001b[0m\u001b[0;34m\u001b[0m\u001b[0m\n",
            "\u001b[0;31mValueError\u001b[0m: operands could not be broadcast together with shapes (7,) (8,) "
          ]
        }
      ]
    },
    {
      "cell_type": "code",
      "source": [
        "# perform addition of arrays of different sizes\n",
        "import numpy as np\n",
        "a = np.array([[1,2,3,4],[2,4,5,6],[10,20,39,3]])\n",
        "b = np.array([2,4,6,8])\n",
        "print(\"\\nprinting array a..\")\n",
        "print(a)\n",
        "print(\"\\nprinting array b..\")\n",
        "print(b)\n",
        "print(\"\\nAdding arrays a and b ..\")\n",
        "c = a + b;\n",
        "print(c)"
      ],
      "metadata": {
        "colab": {
          "base_uri": "https://localhost:8080/"
        },
        "id": "6WRzeG7dVZKZ",
        "outputId": "438b7658-a53f-4fc2-efbf-9756c6d15d81"
      },
      "execution_count": null,
      "outputs": [
        {
          "output_type": "stream",
          "name": "stdout",
          "text": [
            "\n",
            "printing array a..\n",
            "[[ 1  2  3  4]\n",
            " [ 2  4  5  6]\n",
            " [10 20 39  3]]\n",
            "\n",
            "printing array b..\n",
            "[2 4 6 8]\n",
            "\n",
            "Adding arrays a and b ..\n",
            "[[ 3  6  9 12]\n",
            " [ 4  8 11 14]\n",
            " [12 24 45 11]]\n"
          ]
        }
      ]
    },
    {
      "cell_type": "code",
      "source": [
        "# Numpy String functions - numpy.char.add() method example\n",
        "import numpy as np\n",
        "print(\"Concatenating two string arrays:\")\n",
        "print(np.char.add(['welcome','Hi,'], [' to IIIT Dharwad', ' Practice'] ))"
      ],
      "metadata": {
        "colab": {
          "base_uri": "https://localhost:8080/"
        },
        "id": "a_J3OD7_VrQu",
        "outputId": "6588dddd-5807-4ce0-a202-1db15809de5e"
      },
      "execution_count": null,
      "outputs": [
        {
          "output_type": "stream",
          "name": "stdout",
          "text": [
            "Concatenating two string arrays:\n",
            "['welcome to IIIT Dharwad' 'Hi, Practice']\n"
          ]
        }
      ]
    },
    {
      "cell_type": "code",
      "source": [
        "# Numpy String functions - numpy.char.multiply() method example\n",
        "import numpy as np\n",
        "print(\"Printing a string multiple times:\")\n",
        "print(np.char.multiply(\"iiitdh \",3))"
      ],
      "metadata": {
        "colab": {
          "base_uri": "https://localhost:8080/"
        },
        "id": "8b5u3q_jV-Hm",
        "outputId": "8e3dc51b-cb23-441c-c0c9-244f4c140fa4"
      },
      "execution_count": null,
      "outputs": [
        {
          "output_type": "stream",
          "name": "stdout",
          "text": [
            "Printing a string multiple times:\n",
            "iiitdh iiitdh iiitdh \n"
          ]
        }
      ]
    },
    {
      "cell_type": "markdown",
      "source": [
        "Here's a step-by-step explanation:\n",
        "\n",
        "Import numpy: Imports the numpy library.\n",
        "Print descriptive text: Prints a message indicating what the code is about to do.\n",
        "Capitalize the string: Uses np.char.capitalize(\"welcome to iiit dharwad\") to take the input string \"welcome to iiit dharwad\" and return a new string with the first letter capitalized (\"Welcome to iiit dharwad\").\n",
        "Print the result: Displays the capitalized string.**bold text** **bold text**"
      ],
      "metadata": {
        "id": "Xooq90zOiN7n"
      }
    },
    {
      "cell_type": "code",
      "source": [
        "# Numpy String functions - numpy.char.capitalize() method example\n",
        "import numpy as np\n",
        "print(\"Capitalizing the string using capitalize()...\")\n",
        "print(np.char.capitalize(\"welcome to iiit dharwad\"))"
      ],
      "metadata": {
        "colab": {
          "base_uri": "https://localhost:8080/"
        },
        "id": "l5byXmBJWPxb",
        "outputId": "463457f2-1e27-4359-c54a-a8566e4c8656"
      },
      "execution_count": null,
      "outputs": [
        {
          "output_type": "stream",
          "name": "stdout",
          "text": [
            "Capitalizing the string using capitalize()...\n",
            "Welcome to iiit dharwad\n"
          ]
        }
      ]
    },
    {
      "cell_type": "code",
      "source": [
        "# Numpy String functions - numpy.char.split() method example\n",
        "import numpy as np\n",
        "print(\"Splitting the String word by word..\")\n",
        "print(np.char.split(\"Welcome to IIIT Dharwad\"),sep = \" \")"
      ],
      "metadata": {
        "colab": {
          "base_uri": "https://localhost:8080/"
        },
        "id": "nmP8Wo4wWaWz",
        "outputId": "4f92b22a-fa78-418d-f693-f26d63eef63e"
      },
      "execution_count": null,
      "outputs": [
        {
          "output_type": "stream",
          "name": "stdout",
          "text": [
            "Splitting the String word by word..\n",
            "['Welcome', 'to', 'IIIT', 'Dharwad']\n"
          ]
        }
      ]
    },
    {
      "cell_type": "code",
      "source": [
        "# Numpy Statistical Functions - to perform statistical analysis\n",
        "import numpy as np\n",
        "a = np.array([[1,2,3],[4,5,6],[7,8,9]])\n",
        "print(\"Array:\\n\",a)\n",
        "print(\"\\nMedian of array along axis 0:\",np.median(a,0))\n",
        "print(\"Mean of array along axis 0:\",np.mean(a,0))\n",
        "print(\"Average of array along axis 1:\",np.average(a,1))"
      ],
      "metadata": {
        "colab": {
          "base_uri": "https://localhost:8080/"
        },
        "id": "w0qiXTCAWkth",
        "outputId": "19dedf63-4e8a-4609-a8dd-2abb5f263a16"
      },
      "execution_count": null,
      "outputs": [
        {
          "output_type": "stream",
          "name": "stdout",
          "text": [
            "Array:\n",
            " [[1 2 3]\n",
            " [4 5 6]\n",
            " [7 8 9]]\n",
            "\n",
            "Median of array along axis 0: [4. 5. 6.]\n",
            "Mean of array along axis 0: [4. 5. 6.]\n",
            "Average of array along axis 1: [2. 5. 8.]\n"
          ]
        }
      ]
    },
    {
      "cell_type": "code",
      "source": [
        "# NumPy Sorting and Searching\n",
        "import numpy as np\n",
        "a = np.array([[10,2,3],[4,5,6],[7,8,9]])\n",
        "print(\"The given array\")\n",
        "print(a)\n",
        "print(\"Sorting along the columns:\")\n",
        "print(np.sort(a))\n",
        "print(\"Sorting along the columns:\")\n",
        "print(np.sort(a, 0))\n",
        "data_type = np.dtype([('name', 'S15'),('marks',int)])\n",
        "arr = np.array([('Rakesh',89),('Mary',95)],dtype = data_type)\n",
        "print(\"Sorting data ordered by name\")\n",
        "print(np.sort(arr,order = 'name'))\n",
        "print(\"Sorting data ordered by marks\")\n",
        "print(np.sort(arr,order = 'marks'))"
      ],
      "metadata": {
        "colab": {
          "base_uri": "https://localhost:8080/"
        },
        "id": "W8ogz9ryWw5A",
        "outputId": "57697b06-f2ec-4a1a-cc85-6b812ca59888"
      },
      "execution_count": null,
      "outputs": [
        {
          "output_type": "stream",
          "name": "stdout",
          "text": [
            "The given array\n",
            "[[10  2  3]\n",
            " [ 4  5  6]\n",
            " [ 7  8  9]]\n",
            "Sorting along the columns:\n",
            "[[ 2  3 10]\n",
            " [ 4  5  6]\n",
            " [ 7  8  9]]\n",
            "Sorting along the columns:\n",
            "[[ 4  2  3]\n",
            " [ 7  5  6]\n",
            " [10  8  9]]\n",
            "Sorting data ordered by name\n",
            "[(b'Mary', 95) (b'Rakesh', 89)]\n",
            "Sorting data ordered by marks\n",
            "[(b'Rakesh', 89) (b'Mary', 95)]\n"
          ]
        }
      ]
    },
    {
      "cell_type": "code",
      "source": [
        "#Example: Aggregation\n",
        "import numpy as np\n",
        "data = np.array([[1, 2, 3],\n",
        "                 [4, 5, 6]])\n",
        "\n",
        "print(data.sum())       # total\n",
        "print(data.sum(axis=0)) # column sums\n",
        "print(data.mean(axis=1))# row means"
      ],
      "metadata": {
        "id": "p2DrlbCSW6Nj",
        "colab": {
          "base_uri": "https://localhost:8080/"
        },
        "outputId": "ed0105b3-6daa-46bb-9b76-39af18c32673"
      },
      "execution_count": null,
      "outputs": [
        {
          "output_type": "stream",
          "name": "stdout",
          "text": [
            "21\n",
            "[5 7 9]\n",
            "[2. 5.]\n"
          ]
        }
      ]
    },
    {
      "cell_type": "code",
      "source": [
        "#Broadcasting - Allows operations on arrays of different shapes\n",
        "# Useful in data transformations and simulations\n",
        "a = np.array([1, 2, 3])\n",
        "b = 2\n",
        "print(a * b)   # [2 4 6]"
      ],
      "metadata": {
        "colab": {
          "base_uri": "https://localhost:8080/"
        },
        "id": "ByJrAcfdzh1W",
        "outputId": "0f7f666e-3071-492f-bf10-66c9af81689c"
      },
      "execution_count": null,
      "outputs": [
        {
          "output_type": "stream",
          "name": "stdout",
          "text": [
            "[2 4 6]\n"
          ]
        }
      ]
    },
    {
      "cell_type": "code",
      "source": [
        "# Monte Carlo Simulations\n",
        "# Example: π Estimation\n",
        "import numpy as np\n",
        "N = 1_000_000\n",
        "rng = np.random.default_rng(42)\n",
        "\n",
        "x, y = rng.random(N), rng.random(N)\n",
        "inside = (x**2 + y**2) <= 1\n",
        "\n",
        "pi_est = 4 * inside.mean()\n",
        "print(\"π ≈\", pi_est)"
      ],
      "metadata": {
        "colab": {
          "base_uri": "https://localhost:8080/"
        },
        "id": "yWGxifNzztuT",
        "outputId": "9c638041-fd79-4480-8168-59bb11508fee"
      },
      "execution_count": null,
      "outputs": [
        {
          "output_type": "stream",
          "name": "stdout",
          "text": [
            "π ≈ 3.142436\n"
          ]
        }
      ]
    },
    {
      "cell_type": "code",
      "source": [
        "# Monte Carlo Simulations\n",
        "# Example: Random Walk\n",
        "steps = rng.integers(0, 2, size=1000) * 2 - 1\n",
        "position = np.cumsum(steps)\n",
        "\n",
        "print(\"Final position:\", position[-1])"
      ],
      "metadata": {
        "colab": {
          "base_uri": "https://localhost:8080/"
        },
        "id": "Zphxh1i22XaL",
        "outputId": "43761372-ba11-4a6d-8638-d3fac95960be"
      },
      "execution_count": null,
      "outputs": [
        {
          "output_type": "stream",
          "name": "stdout",
          "text": [
            "Final position: -4\n"
          ]
        }
      ]
    },
    {
      "cell_type": "code",
      "source": [
        "# Hands-on Activities"
      ],
      "metadata": {
        "id": "7VrOJqJb2nHu"
      },
      "execution_count": null,
      "outputs": []
    },
    {
      "cell_type": "code",
      "source": [
        "# 1. Compute row/column means for a random 5×5 matrix\n",
        "import numpy as np\n",
        "\n",
        "# Create a random 5x5 matrix (values between 0 and 1)\n",
        "rng = np.random.default_rng(42)  # reproducible results\n",
        "matrix = rng.random((5, 5))\n",
        "\n",
        "print(\"Matrix:\\n\", matrix)\n",
        "\n",
        "# Row means (axis=1 → across columns)\n",
        "row_means = matrix.mean(axis=1)\n",
        "\n",
        "# Column means (axis=0 → across rows)\n",
        "col_means = matrix.mean(axis=0)\n",
        "\n",
        "print(\"\\nRow means:\", row_means)\n",
        "print(\"Column means:\", col_means)"
      ],
      "metadata": {
        "colab": {
          "base_uri": "https://localhost:8080/"
        },
        "id": "Qnc8HO0J3Rje",
        "outputId": "7723b25f-32c4-428b-8e45-0817cde356e5"
      },
      "execution_count": null,
      "outputs": [
        {
          "output_type": "stream",
          "name": "stdout",
          "text": [
            "Matrix:\n",
            " [[0.77395605 0.43887844 0.85859792 0.69736803 0.09417735]\n",
            " [0.97562235 0.7611397  0.78606431 0.12811363 0.45038594]\n",
            " [0.37079802 0.92676499 0.64386512 0.82276161 0.4434142 ]\n",
            " [0.22723872 0.55458479 0.06381726 0.82763117 0.6316644 ]\n",
            " [0.75808774 0.35452597 0.97069802 0.89312112 0.7783835 ]]\n",
            "\n",
            "Row means: [0.57259556 0.62026519 0.64152079 0.46098727 0.75096327]\n",
            "Column means: [0.62114058 0.60717878 0.66460853 0.67379911 0.47960508]\n"
          ]
        }
      ]
    },
    {
      "cell_type": "code",
      "source": [
        "# 2. Simulate 10,000 coin flips → fraction of heads\n",
        "# Simulate 10,000 coin flips (0 = Tails, 1 = Heads)\n",
        "flips = rng.integers(0, 2, size=10_000)\n",
        "\n",
        "# Compute fraction of heads\n",
        "fraction_heads = flips.mean()\n",
        "\n",
        "print(\"Fraction of Heads:\", fraction_heads)"
      ],
      "metadata": {
        "colab": {
          "base_uri": "https://localhost:8080/"
        },
        "id": "4527bfxx3Vcl",
        "outputId": "752986f8-10b1-4f19-e3fa-a06c1eb0d7d3"
      },
      "execution_count": null,
      "outputs": [
        {
          "output_type": "stream",
          "name": "stdout",
          "text": [
            "Fraction of Heads: 0.5024\n"
          ]
        }
      ]
    },
    {
      "cell_type": "code",
      "source": [
        "# 3. Run a random walk and plot positions\n",
        "import matplotlib.pyplot as plt\n",
        "\n",
        "# Number of steps in the walk\n",
        "n_steps = 1000\n",
        "\n",
        "# Steps are ±1 with equal probability\n",
        "steps = rng.integers(0, 2, size=n_steps) * 2 - 1\n",
        "\n",
        "# Position is the cumulative sum of steps\n",
        "position = np.cumsum(steps)\n",
        "\n",
        "# Plot the random walk\n",
        "plt.figure(figsize=(8,4))\n",
        "plt.plot(position, lw=1)\n",
        "plt.title(\"1D Random Walk\")\n",
        "plt.xlabel(\"Step\")\n",
        "plt.ylabel(\"Position\")\n",
        "plt.grid(True)\n",
        "plt.show()"
      ],
      "metadata": {
        "colab": {
          "base_uri": "https://localhost:8080/",
          "height": 410
        },
        "id": "k9M9I51j3yp7",
        "outputId": "3dca242e-5122-4a4b-e269-34efea2c5f97"
      },
      "execution_count": null,
      "outputs": [
        {
          "output_type": "display_data",
          "data": {
            "text/plain": [
              "<Figure size 800x400 with 1 Axes>"
            ],
            "image/png": "[encoded data removed]"
          },
          "metadata": {}
        }
      ]
    },
    {
      "cell_type": "code",
      "source": [],
      "metadata": {
        "id": "Em0QSQzN32Py"
      },
      "execution_count": null,
      "outputs": []
    }
  ]
}