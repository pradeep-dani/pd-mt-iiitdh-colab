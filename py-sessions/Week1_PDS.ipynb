{
  "cells": [
    {
      "cell_type": "markdown",
      "metadata": {
        "colab_type": "text",
        "id": "view-in-github"
      },
      "source": [
        "<a href=\"https://colab.research.google.com/github/pradeep-dani/pd-mt-iiitdh-colab/blob/main/Week1_PDS.ipynb\" target=\"_parent\"><img src=\"https://colab.research.google.com/assets/colab-badge.svg\" alt=\"Open In Colab\"/></a>"
      ]
    },
    {
      "cell_type": "markdown",
      "metadata": {
        "id": "yCSoGaj0iHq4"
      },
      "source": [
        "**Course: Python for Data Science, IIIT Dharwad - Week 1 Class Demo**"
      ]
    },
    {
      "cell_type": "code",
      "execution_count": 2,
      "metadata": {
        "colab": {
          "base_uri": "https://localhost:8080/"
        },
        "id": "z212OUhNiWWo",
        "outputId": "3b7fcfb3-4480-427b-8621-422b4b9a79a8"
      },
      "outputs": [
        {
          "name": "stdout",
          "output_type": "stream",
          "text": [
            "Hello world1!\n"
          ]
        }
      ],
      "source": [
        "print(\"Hello world1!\")"
      ]
    },
    {
      "cell_type": "code",
      "execution_count": 3,
      "metadata": {
        "id": "FM2Nvu2fizRp"
      },
      "outputs": [],
      "source": [
        "# This is Comment"
      ]
    },
    {
      "cell_type": "code",
      "execution_count": 4,
      "metadata": {
        "colab": {
          "base_uri": "https://localhost:8080/",
          "height": 35
        },
        "id": "o2m01LG2i7Aw",
        "outputId": "01cf7cbf-aaed-459e-c35a-6b0b4003e3bf"
      },
      "outputs": [
        {
          "data": {
            "text/plain": [
              "'This would be a multiline comment\\nin Python that\\nspans several lines,\\nyes\\n'"
            ]
          },
          "execution_count": 4,
          "metadata": {},
          "output_type": "execute_result"
        }
      ],
      "source": [
        "\"\"\"This would be a multiline comment\n",
        "in Python that\n",
        "spans several lines,\n",
        "yes\n",
        "\"\"\""
      ]
    },
    {
      "cell_type": "code",
      "execution_count": 5,
      "metadata": {
        "colab": {
          "base_uri": "https://localhost:8080/"
        },
        "id": "wNbSFY8_jBvq",
        "outputId": "5a1644db-8fa8-46b6-e614-08833a91ff6e"
      },
      "outputs": [
        {
          "name": "stdout",
          "output_type": "stream",
          "text": [
            "Hello\n"
          ]
        }
      ],
      "source": [
        "print(\"Hello\")"
      ]
    },
    {
      "cell_type": "code",
      "execution_count": 6,
      "metadata": {
        "colab": {
          "base_uri": "https://localhost:8080/"
        },
        "id": "NCAKqzIljYJQ",
        "outputId": "c2b2bdb7-d228-4003-e1c8-48b870ea3c51"
      },
      "outputs": [
        {
          "name": "stdout",
          "output_type": "stream",
          "text": [
            "Hello\n"
          ]
        }
      ],
      "source": [
        "print('Hello')"
      ]
    },
    {
      "cell_type": "code",
      "execution_count": 7,
      "metadata": {
        "colab": {
          "base_uri": "https://localhost:8080/"
        },
        "id": "K5sRTgR4jaQz",
        "outputId": "5de5811c-74e1-427c-e76c-957567d0bdfd"
      },
      "outputs": [
        {
          "name": "stdout",
          "output_type": "stream",
          "text": [
            "0\n"
          ]
        }
      ],
      "source": [
        "# define variable count\n",
        "count = 0\n",
        "print(count)"
      ]
    },
    {
      "cell_type": "code",
      "execution_count": 8,
      "metadata": {
        "colab": {
          "base_uri": "https://localhost:8080/"
        },
        "id": "Yl9_p29tjhv1",
        "outputId": "c17e0a8e-a3bb-4892-cb65-8051c7b8540a"
      },
      "outputs": [
        {
          "name": "stdout",
          "output_type": "stream",
          "text": [
            "2\n"
          ]
        }
      ],
      "source": [
        "# redefine variable count\n",
        "count = 2\n",
        "print(count)"
      ]
    },
    {
      "cell_type": "code",
      "execution_count": 9,
      "metadata": {
        "colab": {
          "base_uri": "https://localhost:8080/"
        },
        "id": "NC-itrTGjjtz",
        "outputId": "08c074d3-7e43-46b5-98ec-80a64683fe0c"
      },
      "outputs": [
        {
          "name": "stdout",
          "output_type": "stream",
          "text": [
            "45\n",
            "1456.8\n",
            "Subhash\n"
          ]
        }
      ],
      "source": [
        "# An integer assignment\n",
        "age = 45\n",
        "\n",
        "# A floating point\n",
        "salary = 1456.8\n",
        "\n",
        "# A string\n",
        "name = \"Subhash\"\n",
        "\n",
        "print(age)\n",
        "print(salary)\n",
        "print(name)\n"
      ]
    },
    {
      "cell_type": "code",
      "execution_count": 10,
      "metadata": {
        "colab": {
          "base_uri": "https://localhost:8080/"
        },
        "id": "-kTAhncrjo8v",
        "outputId": "3e7d2c66-835e-47d0-cbfb-d7c3f361040d"
      },
      "outputs": [
        {
          "name": "stdout",
          "output_type": "stream",
          "text": [
            "Addition = 13\n",
            "Subtraction =  5\n",
            "Multiplication =  36\n",
            "Division =  2.25\n",
            "Floor division =  2\n",
            "Modulo =  1\n",
            "Exponent =  6561\n"
          ]
        }
      ],
      "source": [
        "# Examples of Arithmetic Operator\n",
        "a = 9\n",
        "b = 4\n",
        "\n",
        "# Addition of numbers\n",
        "add = a + b\n",
        "# Subtraction of numbers\n",
        "sub = a - b\n",
        "# Multiplication of number\n",
        "mul = a * b\n",
        "# Division(float) of number\n",
        "div1 = a / b\n",
        "# Division(floor) of number\n",
        "div2 = a // b\n",
        "# Modulus (remainder)\n",
        "mod = a % b\n",
        "# Exponent (power)\n",
        "pwr = a ** b\n",
        "\n",
        "print(\"Addition =\",add)\n",
        "print(\"Subtraction = \",sub)\n",
        "print(\"Multiplication = \",mul)\n",
        "print(\"Division = \",div1)\n",
        "print(\"Floor division = \",div2)\n",
        "print(\"Modulo = \",mod)\n",
        "print(\"Exponent = \",pwr)"
      ]
    },
    {
      "cell_type": "code",
      "execution_count": null,
      "metadata": {
        "colab": {
          "base_uri": "https://localhost:8080/"
        },
        "id": "Kn6xr5_FkGSP",
        "outputId": "3efe980f-5547-42e4-a018-ae4114372a20"
      },
      "outputs": [
        {
          "name": "stdout",
          "output_type": "stream",
          "text": [
            "False\n",
            "True\n",
            "False\n",
            "True\n",
            "False\n",
            "True\n"
          ]
        }
      ],
      "source": [
        "# Examples of Relational Operators\n",
        "a = 13\n",
        "b = 33\n",
        "\n",
        "# a > b is False\n",
        "print(a > b)\n",
        "\n",
        "# a < b is True\n",
        "print(a < b)\n",
        "\n",
        "# a == b is False\n",
        "print(a == b)\n",
        "\n",
        "# a != b is True\n",
        "print(a != b)\n",
        "\n",
        "# a >= b is False\n",
        "print(a >= b)\n",
        "\n",
        "# a <= b is True\n",
        "print(a <= b)"
      ]
    },
    {
      "cell_type": "code",
      "execution_count": null,
      "metadata": {
        "colab": {
          "base_uri": "https://localhost:8080/"
        },
        "id": "OfEPEfj-kpYy",
        "outputId": "d3b78f26-5c3c-4e4d-e79b-916afc6a042d"
      },
      "outputs": [
        {
          "name": "stdout",
          "output_type": "stream",
          "text": [
            "False\n",
            "True\n",
            "False\n"
          ]
        }
      ],
      "source": [
        "# Examples of Logical Operator\n",
        "a = True\n",
        "b = False\n",
        "\n",
        "# Print a and b is False\n",
        "print(a and b)\n",
        "\n",
        "# Print a or b is True\n",
        "print(a or b)\n",
        "\n",
        "# Print not a is False\n",
        "print(not a)"
      ]
    },
    {
      "cell_type": "code",
      "execution_count": null,
      "metadata": {
        "colab": {
          "base_uri": "https://localhost:8080/"
        },
        "id": "qkBneg81kxQa",
        "outputId": "e0c89766-fa04-4c27-a3d5-2a2a2ac8f7fd"
      },
      "outputs": [
        {
          "name": "stdout",
          "output_type": "stream",
          "text": [
            "75\n"
          ]
        }
      ],
      "source": [
        "print(15 + 20 * 3)"
      ]
    },
    {
      "cell_type": "code",
      "execution_count": null,
      "metadata": {
        "colab": {
          "base_uri": "https://localhost:8080/"
        },
        "id": "7MIECsnqk439",
        "outputId": "719a17fd-8679-4a6d-96f1-4c5fc5ad43fe"
      },
      "outputs": [
        {
          "name": "stdout",
          "output_type": "stream",
          "text": [
            "9\n"
          ]
        }
      ],
      "source": [
        "print(13 // 2 + 3)"
      ]
    },
    {
      "cell_type": "code",
      "execution_count": null,
      "metadata": {
        "colab": {
          "base_uri": "https://localhost:8080/"
        },
        "id": "O2p20-eRk-4e",
        "outputId": "8c0a46d6-e23b-4ea0-c24c-6d232cb96fc4"
      },
      "outputs": [
        {
          "name": "stdout",
          "output_type": "stream",
          "text": [
            "34\n"
          ]
        }
      ],
      "source": [
        "print(31 + 10 // 3)"
      ]
    },
    {
      "cell_type": "code",
      "execution_count": null,
      "metadata": {
        "colab": {
          "base_uri": "https://localhost:8080/"
        },
        "id": "pFszhPVElEF4",
        "outputId": "a5612282-77bb-46aa-e27f-2ec5e74182a5"
      },
      "outputs": [
        {
          "name": "stdout",
          "output_type": "stream",
          "text": [
            "2\n"
          ]
        }
      ],
      "source": [
        "print(20 % 7 // 3)"
      ]
    },
    {
      "cell_type": "code",
      "execution_count": 11,
      "metadata": {
        "colab": {
          "base_uri": "https://localhost:8080/"
        },
        "id": "KFGe8AxzlHQO",
        "outputId": "9de23d98-9ec6-470c-b90a-67d8666bb96e"
      },
      "outputs": [
        {
          "name": "stdout",
          "output_type": "stream",
          "text": [
            "Hello Pradeep\n"
          ]
        }
      ],
      "source": [
        "# input() example\n",
        "name = \"ravi\"\n",
        "name = input(\"Enter your name:\")\n",
        "print(\"Hello\",name)"
      ]
    },
    {
      "cell_type": "code",
      "execution_count": null,
      "metadata": {
        "colab": {
          "base_uri": "https://localhost:8080/"
        },
        "id": "LqbRv5MElghS",
        "outputId": "6a45213d-26de-4333-af82-c633b092127b"
      },
      "outputs": [
        {
          "name": "stdout",
          "output_type": "stream",
          "text": [
            "All set !\n"
          ]
        }
      ],
      "source": [
        "# Python program showing\n",
        "# indentation\n",
        "\n",
        "institute = 'IIITD'\n",
        "\n",
        "if institute == 'IIITD':\n",
        "   ('Hi, IIITD student!')\n",
        "else:\n",
        "  print('The university is not IIITD')\n",
        "print('All set !')"
      ]
    },
    {
      "cell_type": "code",
      "execution_count": null,
      "metadata": {
        "id": "VE5IkV6tmf7J"
      },
      "outputs": [],
      "source": []
    }
  ],
  "metadata": {
    "colab": {
      "include_colab_link": true,
      "provenance": []
    },
    "kernelspec": {
      "display_name": "pd-env-py-v3-13",
      "language": "python",
      "name": "python3"
    },
    "language_info": {
      "codemirror_mode": {
        "name": "ipython",
        "version": 3
      },
      "file_extension": ".py",
      "mimetype": "text/x-python",
      "name": "python",
      "nbconvert_exporter": "python",
      "pygments_lexer": "ipython3",
      "version": "3.13.7"
    }
  },
  "nbformat": 4,
  "nbformat_minor": 0
}
