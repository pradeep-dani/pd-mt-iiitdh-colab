{
  "nbformat": 4,
  "nbformat_minor": 0,
  "metadata": {
    "colab": {
      "provenance": [],
      "include_colab_link": true
    },
    "kernelspec": {
      "name": "python3",
      "display_name": "Python 3"
    },
    "language_info": {
      "name": "python"
    }
  },
  "cells": [
    {
      "cell_type": "markdown",
      "metadata": {
        "id": "view-in-github",
        "colab_type": "text"
      },
      "source": [
        "<a href=\"https://colab.research.google.com/github/pradeep-dani/pd-mt-iiitdh-colab/blob/main/L8_Pandas2.ipynb\" target=\"_parent\"><img src=\"https://colab.research.google.com/assets/colab-badge.svg\" alt=\"Open In Colab\"/></a>"
      ]
    },
    {
      "cell_type": "markdown",
      "source": [
        "# **Removing Missing Data**"
      ],
      "metadata": {
        "id": "spgB1vhJhx4t"
      }
    },
    {
      "cell_type": "code",
      "source": [
        "import pandas as pd"
      ],
      "metadata": {
        "id": "a5YD--Qmh6aE"
      },
      "execution_count": null,
      "outputs": []
    },
    {
      "cell_type": "code",
      "source": [
        "# Drop Rows with Any Missing Values:\n",
        "# Create data with any missing values\n",
        "data_with_missing = pd.DataFrame({\n",
        "    'Name': ['Aarav', 'Priya', 'None', 'Ananya'],\n",
        "    'Age': [22, None, 21, 24],\n",
        "    'Score': [95, 87, 92, None]\n",
        "})\n",
        "print(data_with_missing)\n",
        "clean_data = data_with_missing.dropna()\n",
        "print(\"After removing rows with ANY missing values\")\n",
        "print(clean_data)"
      ],
      "metadata": {
        "colab": {
          "base_uri": "https://localhost:8080/"
        },
        "id": "KXMO0EJthzqt",
        "outputId": "31a01804-f089-4fb1-ed26-b900a2a3428b"
      },
      "execution_count": null,
      "outputs": [
        {
          "output_type": "stream",
          "name": "stdout",
          "text": [
            "     Name   Age  Score\n",
            "0   Aarav  22.0   95.0\n",
            "1   Priya   NaN   87.0\n",
            "2    None  21.0   92.0\n",
            "3  Ananya  24.0    NaN\n",
            "After removing rows with ANY missing values\n",
            "    Name   Age  Score\n",
            "0  Aarav  22.0   95.0\n",
            "2   None  21.0   92.0\n"
          ]
        }
      ]
    },
    {
      "cell_type": "code",
      "source": [
        "# Drop Rows with All Missing Values:\n",
        "# Create data with missing values\n",
        "data_with_missing = pd.DataFrame({\n",
        "    'Name': ['Aarav', 'Priya', 'None', 'Ananya'],\n",
        "    'Age': [22, None, 21, 24],\n",
        "    'Score': [95, 87, 92, None]\n",
        "})\n",
        "print(data_with_missing)\n",
        "clean_data = data_with_missing.dropna(how='all')\n",
        "print(\"After removing rows with ALL missing values\")\n",
        "print(clean_data)"
      ],
      "metadata": {
        "colab": {
          "base_uri": "https://localhost:8080/"
        },
        "id": "xMriTAfqh_3T",
        "outputId": "0e859eb0-0333-4c0b-fa9f-f18bafbb7361"
      },
      "execution_count": null,
      "outputs": [
        {
          "output_type": "stream",
          "name": "stdout",
          "text": [
            "     Name   Age  Score\n",
            "0   Aarav  22.0   95.0\n",
            "1   Priya   NaN   87.0\n",
            "2    None  21.0   92.0\n",
            "3  Ananya  24.0    NaN\n",
            "After removing rows with ALL missing values\n",
            "     Name   Age  Score\n",
            "0   Aarav  22.0   95.0\n",
            "1   Priya   NaN   87.0\n",
            "2    None  21.0   92.0\n",
            "3  Ananya  24.0    NaN\n"
          ]
        }
      ]
    },
    {
      "cell_type": "code",
      "source": [
        "# Drop Columns with Missing Values:\n",
        "# Create data with missing values\n",
        "data_with_missing = pd.DataFrame({\n",
        "    'Name': ['Aarav', 'Priya', 'None', 'Ananya'],\n",
        "    'Age': [22, None, 21, 24],\n",
        "    'Score': [95, 87, 92, None]\n",
        "})\n",
        "print(data_with_missing)\n",
        "clean_data = data_with_missing.dropna(axis=1)\n",
        "print(\"After removing all columns with missing values\")\n",
        "print(clean_data)"
      ],
      "metadata": {
        "colab": {
          "base_uri": "https://localhost:8080/"
        },
        "id": "2mnWHHt6iAaO",
        "outputId": "0dda4f57-6aec-4a88-fad3-931f08891f8c"
      },
      "execution_count": null,
      "outputs": [
        {
          "output_type": "stream",
          "name": "stdout",
          "text": [
            "     Name   Age  Score\n",
            "0   Aarav  22.0   95.0\n",
            "1   Priya   NaN   87.0\n",
            "2    None  21.0   92.0\n",
            "3  Ananya  24.0    NaN\n",
            "After removing all columns with missing values\n",
            "     Name\n",
            "0   Aarav\n",
            "1   Priya\n",
            "2    None\n",
            "3  Ananya\n"
          ]
        }
      ]
    },
    {
      "cell_type": "code",
      "source": [
        "# Drop Based on Specific Columns:\n",
        "# Create data with missing values\n",
        "data_with_missing = pd.DataFrame({\n",
        "    'Name': ['Aarav', 'Priya', 'None', 'Ananya'],\n",
        "    'Age': [22, None, 21, 24],\n",
        "    'Score': [95, 87, 92, None]\n",
        "})\n",
        "print(data_with_missing)\n",
        "clean_data = data_with_missing.dropna(subset=['Age'])\n",
        "print(\"After removing missing values from column 'Age'\")\n",
        "print(clean_data)"
      ],
      "metadata": {
        "colab": {
          "base_uri": "https://localhost:8080/"
        },
        "id": "mc0hsYXLiCjr",
        "outputId": "8496a0af-b7c7-41b8-c093-b806b39aeb5f"
      },
      "execution_count": null,
      "outputs": [
        {
          "output_type": "stream",
          "name": "stdout",
          "text": [
            "     Name   Age  Score\n",
            "0   Aarav  22.0   95.0\n",
            "1   Priya   NaN   87.0\n",
            "2    None  21.0   92.0\n",
            "3  Ananya  24.0    NaN\n",
            "After removing missing values from column 'Age'\n",
            "     Name   Age  Score\n",
            "0   Aarav  22.0   95.0\n",
            "2    None  21.0   92.0\n",
            "3  Ananya  24.0    NaN\n"
          ]
        }
      ]
    },
    {
      "cell_type": "markdown",
      "source": [
        "# **Fill Missing Values**"
      ],
      "metadata": {
        "id": "jA7gAckYiM4E"
      }
    },
    {
      "cell_type": "code",
      "source": [
        "import pandas as pd\n",
        "# Fill with Fill with Constant Values:\n",
        "# Create data with missing values\n",
        "data_with_missing = pd.DataFrame({\n",
        "    'Name': ['Aarav', 'Priya', 'None', 'Ananya'],\n",
        "    'Age': [22, None, 21, 24],\n",
        "    'Score': [95, 87, 92, None]\n",
        "})\n",
        "print(data_with_missing)\n",
        "# Fill missing values with constant values\n",
        "data_with_missing = data_with_missing.fillna(0)  # Fill with 0\n",
        "data_with_missing = data_with_missing.fillna('Unknown')  # Fill with string\n",
        "print(data_with_missing)"
      ],
      "metadata": {
        "colab": {
          "base_uri": "https://localhost:8080/"
        },
        "id": "lPYiMOZ1iO5p",
        "outputId": "3880ffb4-6316-41c4-edf8-31b6aeb27ac1"
      },
      "execution_count": null,
      "outputs": [
        {
          "output_type": "stream",
          "name": "stdout",
          "text": [
            "     Name   Age  Score\n",
            "0   Aarav  22.0   95.0\n",
            "1   Priya   NaN   87.0\n",
            "2    None  21.0   92.0\n",
            "3  Ananya  24.0    NaN\n",
            "     Name   Age  Score\n",
            "0   Aarav  22.0   95.0\n",
            "1   Priya   0.0   87.0\n",
            "2    None  21.0   92.0\n",
            "3  Ananya  24.0    0.0\n"
          ]
        }
      ]
    },
    {
      "cell_type": "code",
      "source": [
        "import pandas as pd\n",
        "# Fill with median:\n",
        "# Create data with missing values\n",
        "data_with_missing = pd.DataFrame({\n",
        "    'Name': ['Aarav', 'Priya', None, 'Ananya'],\n",
        "    'Age': [22, None, 21, 24],\n",
        "    'Grade': ['A', 'B', 'A', None],\n",
        "    'Score': [95, 87, 92, 91]\n",
        "})\n",
        "print(\"Original DataFrame:\\n\", data_with_missing)\n",
        "\n",
        "# Fill missing values in 'Age' with mean (avoid chained assignment warning)\n",
        "data_with_missing['Age'] = data_with_missing['Age'].fillna(data_with_missing['Age'].mean())\n",
        "print(\"\\nAfter filling missing Age values:\\n\", data_with_missing)\n",
        "\n",
        "# Similarly fill missing values in 'Score' with median (avoid chained assignment warning)\n",
        "data_with_missing['Score'] = data_with_missing['Score'].fillna(data_with_missing['Score'].median())\n",
        "print(\"\\nAfter filling missing Score values:\\n\", data_with_missing)\n",
        "\n",
        "# Similarly fill missing values in 'Grade' with mode [most frequent] (avoid chained assignment warning)\n",
        "data_with_missing['Grade'] = data_with_missing['Grade'].fillna(data_with_missing['Grade'].mode()[0])\n",
        "print(\"\\nAfter filling missing Grade values:\\n\", data_with_missing)"
      ],
      "metadata": {
        "colab": {
          "base_uri": "https://localhost:8080/"
        },
        "id": "azKOtbLPiFFP",
        "outputId": "4f2425d5-7ac0-4005-b7c5-ca94d9458da2"
      },
      "execution_count": null,
      "outputs": [
        {
          "output_type": "stream",
          "name": "stdout",
          "text": [
            "Original DataFrame:\n",
            "      Name   Age Grade  Score\n",
            "0   Aarav  22.0     A     95\n",
            "1   Priya   NaN     B     87\n",
            "2    None  21.0     A     92\n",
            "3  Ananya  24.0  None     91\n",
            "\n",
            "After filling missing Age values:\n",
            "      Name        Age Grade  Score\n",
            "0   Aarav  22.000000     A     95\n",
            "1   Priya  22.333333     B     87\n",
            "2    None  21.000000     A     92\n",
            "3  Ananya  24.000000  None     91\n",
            "\n",
            "After filling missing Score values:\n",
            "      Name        Age Grade  Score\n",
            "0   Aarav  22.000000     A     95\n",
            "1   Priya  22.333333     B     87\n",
            "2    None  21.000000     A     92\n",
            "3  Ananya  24.000000  None     91\n",
            "\n",
            "After filling missing Grade values:\n",
            "      Name        Age Grade  Score\n",
            "0   Aarav  22.000000     A     95\n",
            "1   Priya  22.333333     B     87\n",
            "2    None  21.000000     A     92\n",
            "3  Ananya  24.000000     A     91\n"
          ]
        }
      ]
    },
    {
      "cell_type": "markdown",
      "source": [
        "# **Forward Fill (ffill) **\n",
        "## Definition: Fill missing values with the last known non-missing value seen above (forward in the dataset)."
      ],
      "metadata": {
        "id": "re1jOPWvibOG"
      }
    },
    {
      "cell_type": "code",
      "source": [
        "import pandas as pd\n",
        "import numpy as np\n",
        "\n",
        "df = pd.DataFrame({\n",
        "    \"Day\": [1, 2, 3, 4, 5],\n",
        "    \"Sales\": [200, np.nan, np.nan, 250, 300]\n",
        "})\n",
        "print(df)\n",
        "# Forward fill missing values\n",
        "df_ffill = df.fillna(method=\"ffill\")\n",
        "print(df_ffill)"
      ],
      "metadata": {
        "colab": {
          "base_uri": "https://localhost:8080/"
        },
        "id": "1hI8WCInib9h",
        "outputId": "9bac8f5c-79de-42be-d1dd-1d66ae187667"
      },
      "execution_count": null,
      "outputs": [
        {
          "output_type": "stream",
          "name": "stdout",
          "text": [
            "   Day  Sales\n",
            "0    1  200.0\n",
            "1    2    NaN\n",
            "2    3    NaN\n",
            "3    4  250.0\n",
            "4    5  300.0\n",
            "   Day  Sales\n",
            "0    1  200.0\n",
            "1    2  200.0\n",
            "2    3  200.0\n",
            "3    4  250.0\n",
            "4    5  300.0\n"
          ]
        },
        {
          "output_type": "stream",
          "name": "stderr",
          "text": [
            "/tmp/ipython-input-3761490807.py:10: FutureWarning: DataFrame.fillna with 'method' is deprecated and will raise in a future version. Use obj.ffill() or obj.bfill() instead.\n",
            "  df_ffill = df.fillna(method=\"ffill\")\n"
          ]
        }
      ]
    },
    {
      "cell_type": "markdown",
      "source": [
        "# **Backward Fill (ffill) **\n",
        "## Definition: Fill missing values with the next valid non-missing value (backward in the dataset)."
      ],
      "metadata": {
        "id": "2aRMH291iilg"
      }
    },
    {
      "cell_type": "code",
      "source": [
        "import pandas as pd\n",
        "import numpy as np\n",
        "\n",
        "df = pd.DataFrame({\n",
        "    \"Day\": [1, 2, 3, 4, 5],\n",
        "    \"Sales\": [200, np.nan, np.nan, 250, 300]\n",
        "})\n",
        "print(df)\n",
        "# Backward fill missing values\n",
        "df_bfill = df.fillna(method=\"bfill\")\n",
        "print(df_bfill)"
      ],
      "metadata": {
        "colab": {
          "base_uri": "https://localhost:8080/"
        },
        "id": "8-dudrO3ifIa",
        "outputId": "b62694ae-9991-43c3-9b61-528311cfb69c"
      },
      "execution_count": null,
      "outputs": [
        {
          "output_type": "stream",
          "name": "stdout",
          "text": [
            "   Day  Sales\n",
            "0    1  200.0\n",
            "1    2    NaN\n",
            "2    3    NaN\n",
            "3    4  250.0\n",
            "4    5  300.0\n",
            "   Day  Sales\n",
            "0    1  200.0\n",
            "1    2  250.0\n",
            "2    3  250.0\n",
            "3    4  250.0\n",
            "4    5  300.0\n"
          ]
        },
        {
          "output_type": "stream",
          "name": "stderr",
          "text": [
            "/tmp/ipython-input-4085276017.py:10: FutureWarning: DataFrame.fillna with 'method' is deprecated and will raise in a future version. Use obj.ffill() or obj.bfill() instead.\n",
            "  df_bfill = df.fillna(method=\"bfill\")\n"
          ]
        }
      ]
    },
    {
      "cell_type": "markdown",
      "source": [
        "# **Basic Grouping Operations**\n",
        "# **Aggregation Functions**"
      ],
      "metadata": {
        "id": "1jHw6vzSksk7"
      }
    },
    {
      "cell_type": "code",
      "source": [
        "import pandas as pd\n",
        "# Group By in Action:\n",
        "# Sample sales data\n",
        "sales_data = pd.DataFrame({\n",
        "    'Region': ['North', 'South', 'North', 'East', 'South', 'East'],\n",
        "    'Product': ['A', 'B', 'A', 'C', 'B', 'A'],\n",
        "    'Sales': [100, 150, 200, 80, 120, 90],\n",
        "    'Month': ['Jan', 'Jan', 'Feb', 'Jan', 'Feb', 'Feb']\n",
        "})\n",
        "print(sales_data)"
      ],
      "metadata": {
        "colab": {
          "base_uri": "https://localhost:8080/"
        },
        "id": "xwrK_iARiR_C",
        "outputId": "5637bf53-e499-4888-aa98-44d86361ecc3"
      },
      "execution_count": null,
      "outputs": [
        {
          "output_type": "stream",
          "name": "stdout",
          "text": [
            "  Region Product  Sales Month\n",
            "0  North       A    100   Jan\n",
            "1  South       B    150   Jan\n",
            "2  North       A    200   Feb\n",
            "3   East       C     80   Jan\n",
            "4  South       B    120   Feb\n",
            "5   East       A     90   Feb\n"
          ]
        }
      ]
    },
    {
      "cell_type": "code",
      "source": [
        "# Group by Region and calculate total sales\n",
        "region_sales = sales_data.groupby('Region')['Sales'].sum()\n",
        "print(region_sales)"
      ],
      "metadata": {
        "colab": {
          "base_uri": "https://localhost:8080/"
        },
        "id": "Vt3TDj_Wk4YG",
        "outputId": "f84734c4-fc8f-42c0-f2e6-875137dbe9ae"
      },
      "execution_count": null,
      "outputs": [
        {
          "output_type": "stream",
          "name": "stdout",
          "text": [
            "Region\n",
            "East     170\n",
            "North    300\n",
            "South    270\n",
            "Name: Sales, dtype: int64\n"
          ]
        }
      ]
    },
    {
      "cell_type": "code",
      "source": [
        "# Group by multiple columns\n",
        "monthly_region = sales_data.groupby(['Region', 'Month'])['Sales'].sum()\n",
        "print(monthly_region)"
      ],
      "metadata": {
        "colab": {
          "base_uri": "https://localhost:8080/"
        },
        "id": "MDIiLR80k-_X",
        "outputId": "5ebfa349-88aa-4ff1-b195-ad900007d606"
      },
      "execution_count": null,
      "outputs": [
        {
          "output_type": "stream",
          "name": "stdout",
          "text": [
            "Region  Month\n",
            "East    Feb       90\n",
            "        Jan       80\n",
            "North   Feb      200\n",
            "        Jan      100\n",
            "South   Feb      120\n",
            "        Jan      150\n",
            "Name: Sales, dtype: int64\n"
          ]
        }
      ]
    },
    {
      "cell_type": "code",
      "source": [
        "sales_data.groupby('Region')['Sales'].sum()"
      ],
      "metadata": {
        "colab": {
          "base_uri": "https://localhost:8080/",
          "height": 209
        },
        "id": "p5CtQ9nJe2X3",
        "outputId": "f5ff1fed-caf9-4d92-b4aa-cddff153e783"
      },
      "execution_count": null,
      "outputs": [
        {
          "output_type": "execute_result",
          "data": {
            "text/plain": [
              "Region\n",
              "East     170\n",
              "North    300\n",
              "South    270\n",
              "Name: Sales, dtype: int64"
            ],
            "text/html": [
              "<div>\n",
              "<style scoped>\n",
              "    .dataframe tbody tr th:only-of-type {\n",
              "        vertical-align: middle;\n",
              "    }\n",
              "\n",
              "    .dataframe tbody tr th {\n",
              "        vertical-align: top;\n",
              "    }\n",
              "\n",
              "    .dataframe thead th {\n",
              "        text-align: right;\n",
              "    }\n",
              "</style>\n",
              "<table border=\"1\" class=\"dataframe\">\n",
              "  <thead>\n",
              "    <tr style=\"text-align: right;\">\n",
              "      <th></th>\n",
              "      <th>Sales</th>\n",
              "    </tr>\n",
              "    <tr>\n",
              "      <th>Region</th>\n",
              "      <th></th>\n",
              "    </tr>\n",
              "  </thead>\n",
              "  <tbody>\n",
              "    <tr>\n",
              "      <th>East</th>\n",
              "      <td>170</td>\n",
              "    </tr>\n",
              "    <tr>\n",
              "      <th>North</th>\n",
              "      <td>300</td>\n",
              "    </tr>\n",
              "    <tr>\n",
              "      <th>South</th>\n",
              "      <td>270</td>\n",
              "    </tr>\n",
              "  </tbody>\n",
              "</table>\n",
              "</div><br><label><b>dtype:</b> int64</label>"
            ]
          },
          "metadata": {},
          "execution_count": 13
        }
      ]
    },
    {
      "cell_type": "code",
      "source": [
        "sales_data.groupby('Region')['Sales'].mean()"
      ],
      "metadata": {
        "colab": {
          "base_uri": "https://localhost:8080/",
          "height": 209
        },
        "id": "SihjBG9dfulk",
        "outputId": "9513a1d2-bad1-403c-f8c0-4ca2aae988ea"
      },
      "execution_count": null,
      "outputs": [
        {
          "output_type": "execute_result",
          "data": {
            "text/plain": [
              "Region\n",
              "East      85.0\n",
              "North    150.0\n",
              "South    135.0\n",
              "Name: Sales, dtype: float64"
            ],
            "text/html": [
              "<div>\n",
              "<style scoped>\n",
              "    .dataframe tbody tr th:only-of-type {\n",
              "        vertical-align: middle;\n",
              "    }\n",
              "\n",
              "    .dataframe tbody tr th {\n",
              "        vertical-align: top;\n",
              "    }\n",
              "\n",
              "    .dataframe thead th {\n",
              "        text-align: right;\n",
              "    }\n",
              "</style>\n",
              "<table border=\"1\" class=\"dataframe\">\n",
              "  <thead>\n",
              "    <tr style=\"text-align: right;\">\n",
              "      <th></th>\n",
              "      <th>Sales</th>\n",
              "    </tr>\n",
              "    <tr>\n",
              "      <th>Region</th>\n",
              "      <th></th>\n",
              "    </tr>\n",
              "  </thead>\n",
              "  <tbody>\n",
              "    <tr>\n",
              "      <th>East</th>\n",
              "      <td>85.0</td>\n",
              "    </tr>\n",
              "    <tr>\n",
              "      <th>North</th>\n",
              "      <td>150.0</td>\n",
              "    </tr>\n",
              "    <tr>\n",
              "      <th>South</th>\n",
              "      <td>135.0</td>\n",
              "    </tr>\n",
              "  </tbody>\n",
              "</table>\n",
              "</div><br><label><b>dtype:</b> float64</label>"
            ]
          },
          "metadata": {},
          "execution_count": 14
        }
      ]
    },
    {
      "cell_type": "code",
      "source": [
        "sales_data.groupby('Region')['Sales'].count()"
      ],
      "metadata": {
        "colab": {
          "base_uri": "https://localhost:8080/",
          "height": 209
        },
        "id": "AhZu3QWbfwqR",
        "outputId": "6ab0752c-fe00-4255-b3ee-0229f6168be5"
      },
      "execution_count": null,
      "outputs": [
        {
          "output_type": "execute_result",
          "data": {
            "text/plain": [
              "Region\n",
              "East     2\n",
              "North    2\n",
              "South    2\n",
              "Name: Sales, dtype: int64"
            ],
            "text/html": [
              "<div>\n",
              "<style scoped>\n",
              "    .dataframe tbody tr th:only-of-type {\n",
              "        vertical-align: middle;\n",
              "    }\n",
              "\n",
              "    .dataframe tbody tr th {\n",
              "        vertical-align: top;\n",
              "    }\n",
              "\n",
              "    .dataframe thead th {\n",
              "        text-align: right;\n",
              "    }\n",
              "</style>\n",
              "<table border=\"1\" class=\"dataframe\">\n",
              "  <thead>\n",
              "    <tr style=\"text-align: right;\">\n",
              "      <th></th>\n",
              "      <th>Sales</th>\n",
              "    </tr>\n",
              "    <tr>\n",
              "      <th>Region</th>\n",
              "      <th></th>\n",
              "    </tr>\n",
              "  </thead>\n",
              "  <tbody>\n",
              "    <tr>\n",
              "      <th>East</th>\n",
              "      <td>2</td>\n",
              "    </tr>\n",
              "    <tr>\n",
              "      <th>North</th>\n",
              "      <td>2</td>\n",
              "    </tr>\n",
              "    <tr>\n",
              "      <th>South</th>\n",
              "      <td>2</td>\n",
              "    </tr>\n",
              "  </tbody>\n",
              "</table>\n",
              "</div><br><label><b>dtype:</b> int64</label>"
            ]
          },
          "metadata": {},
          "execution_count": 15
        }
      ]
    },
    {
      "cell_type": "code",
      "source": [
        "sales_data.groupby('Region')['Sales'].min()"
      ],
      "metadata": {
        "colab": {
          "base_uri": "https://localhost:8080/",
          "height": 209
        },
        "id": "s9O8JOW0fzex",
        "outputId": "7feeec2f-6c63-492e-e6e7-0b89212753cc"
      },
      "execution_count": null,
      "outputs": [
        {
          "output_type": "execute_result",
          "data": {
            "text/plain": [
              "Region\n",
              "East      80\n",
              "North    100\n",
              "South    120\n",
              "Name: Sales, dtype: int64"
            ],
            "text/html": [
              "<div>\n",
              "<style scoped>\n",
              "    .dataframe tbody tr th:only-of-type {\n",
              "        vertical-align: middle;\n",
              "    }\n",
              "\n",
              "    .dataframe tbody tr th {\n",
              "        vertical-align: top;\n",
              "    }\n",
              "\n",
              "    .dataframe thead th {\n",
              "        text-align: right;\n",
              "    }\n",
              "</style>\n",
              "<table border=\"1\" class=\"dataframe\">\n",
              "  <thead>\n",
              "    <tr style=\"text-align: right;\">\n",
              "      <th></th>\n",
              "      <th>Sales</th>\n",
              "    </tr>\n",
              "    <tr>\n",
              "      <th>Region</th>\n",
              "      <th></th>\n",
              "    </tr>\n",
              "  </thead>\n",
              "  <tbody>\n",
              "    <tr>\n",
              "      <th>East</th>\n",
              "      <td>80</td>\n",
              "    </tr>\n",
              "    <tr>\n",
              "      <th>North</th>\n",
              "      <td>100</td>\n",
              "    </tr>\n",
              "    <tr>\n",
              "      <th>South</th>\n",
              "      <td>120</td>\n",
              "    </tr>\n",
              "  </tbody>\n",
              "</table>\n",
              "</div><br><label><b>dtype:</b> int64</label>"
            ]
          },
          "metadata": {},
          "execution_count": 16
        }
      ]
    },
    {
      "cell_type": "code",
      "source": [
        "sales_data.groupby('Region')['Sales'].max()"
      ],
      "metadata": {
        "colab": {
          "base_uri": "https://localhost:8080/",
          "height": 209
        },
        "id": "ZgDhg9Jqf3V5",
        "outputId": "5becf1e6-b179-4012-9348-fc72ec9ed5c5"
      },
      "execution_count": null,
      "outputs": [
        {
          "output_type": "execute_result",
          "data": {
            "text/plain": [
              "Region\n",
              "East      90\n",
              "North    200\n",
              "South    150\n",
              "Name: Sales, dtype: int64"
            ],
            "text/html": [
              "<div>\n",
              "<style scoped>\n",
              "    .dataframe tbody tr th:only-of-type {\n",
              "        vertical-align: middle;\n",
              "    }\n",
              "\n",
              "    .dataframe tbody tr th {\n",
              "        vertical-align: top;\n",
              "    }\n",
              "\n",
              "    .dataframe thead th {\n",
              "        text-align: right;\n",
              "    }\n",
              "</style>\n",
              "<table border=\"1\" class=\"dataframe\">\n",
              "  <thead>\n",
              "    <tr style=\"text-align: right;\">\n",
              "      <th></th>\n",
              "      <th>Sales</th>\n",
              "    </tr>\n",
              "    <tr>\n",
              "      <th>Region</th>\n",
              "      <th></th>\n",
              "    </tr>\n",
              "  </thead>\n",
              "  <tbody>\n",
              "    <tr>\n",
              "      <th>East</th>\n",
              "      <td>90</td>\n",
              "    </tr>\n",
              "    <tr>\n",
              "      <th>North</th>\n",
              "      <td>200</td>\n",
              "    </tr>\n",
              "    <tr>\n",
              "      <th>South</th>\n",
              "      <td>150</td>\n",
              "    </tr>\n",
              "  </tbody>\n",
              "</table>\n",
              "</div><br><label><b>dtype:</b> int64</label>"
            ]
          },
          "metadata": {},
          "execution_count": 17
        }
      ]
    },
    {
      "cell_type": "code",
      "source": [
        "sales_data.groupby('Region').agg({\n",
        "    'Sales': ['sum', 'mean'],\n",
        "    'Product': 'count'\n",
        "})"
      ],
      "metadata": {
        "colab": {
          "base_uri": "https://localhost:8080/",
          "height": 206
        },
        "id": "SLLYTTeKl5d0",
        "outputId": "87e19bbe-65ea-47da-fe52-8596d03557fe"
      },
      "execution_count": null,
      "outputs": [
        {
          "output_type": "execute_result",
          "data": {
            "text/plain": [
              "       Sales        Product\n",
              "         sum   mean   count\n",
              "Region                     \n",
              "East     170   85.0       2\n",
              "North    300  150.0       2\n",
              "South    270  135.0       2"
            ],
            "text/html": [
              "\n",
              "  <div id=\"df-4e643082-aa21-4192-9211-bd2b3660c35f\" class=\"colab-df-container\">\n",
              "    <div>\n",
              "<style scoped>\n",
              "    .dataframe tbody tr th:only-of-type {\n",
              "        vertical-align: middle;\n",
              "    }\n",
              "\n",
              "    .dataframe tbody tr th {\n",
              "        vertical-align: top;\n",
              "    }\n",
              "\n",
              "    .dataframe thead tr th {\n",
              "        text-align: left;\n",
              "    }\n",
              "\n",
              "    .dataframe thead tr:last-of-type th {\n",
              "        text-align: right;\n",
              "    }\n",
              "</style>\n",
              "<table border=\"1\" class=\"dataframe\">\n",
              "  <thead>\n",
              "    <tr>\n",
              "      <th></th>\n",
              "      <th colspan=\"2\" halign=\"left\">Sales</th>\n",
              "      <th>Product</th>\n",
              "    </tr>\n",
              "    <tr>\n",
              "      <th></th>\n",
              "      <th>sum</th>\n",
              "      <th>mean</th>\n",
              "      <th>count</th>\n",
              "    </tr>\n",
              "    <tr>\n",
              "      <th>Region</th>\n",
              "      <th></th>\n",
              "      <th></th>\n",
              "      <th></th>\n",
              "    </tr>\n",
              "  </thead>\n",
              "  <tbody>\n",
              "    <tr>\n",
              "      <th>East</th>\n",
              "      <td>170</td>\n",
              "      <td>85.0</td>\n",
              "      <td>2</td>\n",
              "    </tr>\n",
              "    <tr>\n",
              "      <th>North</th>\n",
              "      <td>300</td>\n",
              "      <td>150.0</td>\n",
              "      <td>2</td>\n",
              "    </tr>\n",
              "    <tr>\n",
              "      <th>South</th>\n",
              "      <td>270</td>\n",
              "      <td>135.0</td>\n",
              "      <td>2</td>\n",
              "    </tr>\n",
              "  </tbody>\n",
              "</table>\n",
              "</div>\n",
              "    <div class=\"colab-df-buttons\">\n",
              "\n",
              "  <div class=\"colab-df-container\">\n",
              "    <button class=\"colab-df-convert\" onclick=\"convertToInteractive('df-4e643082-aa21-4192-9211-bd2b3660c35f')\"\n",
              "            title=\"Convert this dataframe to an interactive table.\"\n",
              "            style=\"display:none;\">\n",
              "\n",
              "  <svg xmlns=\"http://www.w3.org/2000/svg\" height=\"24px\" viewBox=\"0 -960 960 960\">\n",
              "    <path d=\"M120-120v-720h720v720H120Zm60-500h600v-160H180v160Zm220 220h160v-160H400v160Zm0 220h160v-160H400v160ZM180-400h160v-160H180v160Zm440 0h160v-160H620v160ZM180-180h160v-160H180v160Zm440 0h160v-160H620v160Z\"/>\n",
              "  </svg>\n",
              "    </button>\n",
              "\n",
              "  <style>\n",
              "    .colab-df-container {\n",
              "      display:flex;\n",
              "      gap: 12px;\n",
              "    }\n",
              "\n",
              "    .colab-df-convert {\n",
              "      background-color: #E8F0FE;\n",
              "      border: none;\n",
              "      border-radius: 50%;\n",
              "      cursor: pointer;\n",
              "      display: none;\n",
              "      fill: #1967D2;\n",
              "      height: 32px;\n",
              "      padding: 0 0 0 0;\n",
              "      width: 32px;\n",
              "    }\n",
              "\n",
              "    .colab-df-convert:hover {\n",
              "      background-color: #E2EBFA;\n",
              "      box-shadow: 0px 1px 2px rgba(60, 64, 67, 0.3), 0px 1px 3px 1px rgba(60, 64, 67, 0.15);\n",
              "      fill: #174EA6;\n",
              "    }\n",
              "\n",
              "    .colab-df-buttons div {\n",
              "      margin-bottom: 4px;\n",
              "    }\n",
              "\n",
              "    [theme=dark] .colab-df-convert {\n",
              "      background-color: #3B4455;\n",
              "      fill: #D2E3FC;\n",
              "    }\n",
              "\n",
              "    [theme=dark] .colab-df-convert:hover {\n",
              "      background-color: #434B5C;\n",
              "      box-shadow: 0px 1px 3px 1px rgba(0, 0, 0, 0.15);\n",
              "      filter: drop-shadow(0px 1px 2px rgba(0, 0, 0, 0.3));\n",
              "      fill: #FFFFFF;\n",
              "    }\n",
              "  </style>\n",
              "\n",
              "    <script>\n",
              "      const buttonEl =\n",
              "        document.querySelector('#df-4e643082-aa21-4192-9211-bd2b3660c35f button.colab-df-convert');\n",
              "      buttonEl.style.display =\n",
              "        google.colab.kernel.accessAllowed ? 'block' : 'none';\n",
              "\n",
              "      async function convertToInteractive(key) {\n",
              "        const element = document.querySelector('#df-4e643082-aa21-4192-9211-bd2b3660c35f');\n",
              "        const dataTable =\n",
              "          await google.colab.kernel.invokeFunction('convertToInteractive',\n",
              "                                                    [key], {});\n",
              "        if (!dataTable) return;\n",
              "\n",
              "        const docLinkHtml = 'Like what you see? Visit the ' +\n",
              "          '<a target=\"_blank\" href=https://colab.research.google.com/notebooks/data_table.ipynb>data table notebook</a>'\n",
              "          + ' to learn more about interactive tables.';\n",
              "        element.innerHTML = '';\n",
              "        dataTable['output_type'] = 'display_data';\n",
              "        await google.colab.output.renderOutput(dataTable, element);\n",
              "        const docLink = document.createElement('div');\n",
              "        docLink.innerHTML = docLinkHtml;\n",
              "        element.appendChild(docLink);\n",
              "      }\n",
              "    </script>\n",
              "  </div>\n",
              "\n",
              "\n",
              "    <div id=\"df-15fb6766-a015-402a-9726-522be473ce29\">\n",
              "      <button class=\"colab-df-quickchart\" onclick=\"quickchart('df-15fb6766-a015-402a-9726-522be473ce29')\"\n",
              "                title=\"Suggest charts\"\n",
              "                style=\"display:none;\">\n",
              "\n",
              "<svg xmlns=\"http://www.w3.org/2000/svg\" height=\"24px\"viewBox=\"0 0 24 24\"\n",
              "     width=\"24px\">\n",
              "    <g>\n",
              "        <path d=\"M19 3H5c-1.1 0-2 .9-2 2v14c0 1.1.9 2 2 2h14c1.1 0 2-.9 2-2V5c0-1.1-.9-2-2-2zM9 17H7v-7h2v7zm4 0h-2V7h2v10zm4 0h-2v-4h2v4z\"/>\n",
              "    </g>\n",
              "</svg>\n",
              "      </button>\n",
              "\n",
              "<style>\n",
              "  .colab-df-quickchart {\n",
              "      --bg-color: #E8F0FE;\n",
              "      --fill-color: #1967D2;\n",
              "      --hover-bg-color: #E2EBFA;\n",
              "      --hover-fill-color: #174EA6;\n",
              "      --disabled-fill-color: #AAA;\n",
              "      --disabled-bg-color: #DDD;\n",
              "  }\n",
              "\n",
              "  [theme=dark] .colab-df-quickchart {\n",
              "      --bg-color: #3B4455;\n",
              "      --fill-color: #D2E3FC;\n",
              "      --hover-bg-color: #434B5C;\n",
              "      --hover-fill-color: #FFFFFF;\n",
              "      --disabled-bg-color: #3B4455;\n",
              "      --disabled-fill-color: #666;\n",
              "  }\n",
              "\n",
              "  .colab-df-quickchart {\n",
              "    background-color: var(--bg-color);\n",
              "    border: none;\n",
              "    border-radius: 50%;\n",
              "    cursor: pointer;\n",
              "    display: none;\n",
              "    fill: var(--fill-color);\n",
              "    height: 32px;\n",
              "    padding: 0;\n",
              "    width: 32px;\n",
              "  }\n",
              "\n",
              "  .colab-df-quickchart:hover {\n",
              "    background-color: var(--hover-bg-color);\n",
              "    box-shadow: 0 1px 2px rgba(60, 64, 67, 0.3), 0 1px 3px 1px rgba(60, 64, 67, 0.15);\n",
              "    fill: var(--button-hover-fill-color);\n",
              "  }\n",
              "\n",
              "  .colab-df-quickchart-complete:disabled,\n",
              "  .colab-df-quickchart-complete:disabled:hover {\n",
              "    background-color: var(--disabled-bg-color);\n",
              "    fill: var(--disabled-fill-color);\n",
              "    box-shadow: none;\n",
              "  }\n",
              "\n",
              "  .colab-df-spinner {\n",
              "    border: 2px solid var(--fill-color);\n",
              "    border-color: transparent;\n",
              "    border-bottom-color: var(--fill-color);\n",
              "    animation:\n",
              "      spin 1s steps(1) infinite;\n",
              "  }\n",
              "\n",
              "  @keyframes spin {\n",
              "    0% {\n",
              "      border-color: transparent;\n",
              "      border-bottom-color: var(--fill-color);\n",
              "      border-left-color: var(--fill-color);\n",
              "    }\n",
              "    20% {\n",
              "      border-color: transparent;\n",
              "      border-left-color: var(--fill-color);\n",
              "      border-top-color: var(--fill-color);\n",
              "    }\n",
              "    30% {\n",
              "      border-color: transparent;\n",
              "      border-left-color: var(--fill-color);\n",
              "      border-top-color: var(--fill-color);\n",
              "      border-right-color: var(--fill-color);\n",
              "    }\n",
              "    40% {\n",
              "      border-color: transparent;\n",
              "      border-right-color: var(--fill-color);\n",
              "      border-top-color: var(--fill-color);\n",
              "    }\n",
              "    60% {\n",
              "      border-color: transparent;\n",
              "      border-right-color: var(--fill-color);\n",
              "    }\n",
              "    80% {\n",
              "      border-color: transparent;\n",
              "      border-right-color: var(--fill-color);\n",
              "      border-bottom-color: var(--fill-color);\n",
              "    }\n",
              "    90% {\n",
              "      border-color: transparent;\n",
              "      border-bottom-color: var(--fill-color);\n",
              "    }\n",
              "  }\n",
              "</style>\n",
              "\n",
              "      <script>\n",
              "        async function quickchart(key) {\n",
              "          const quickchartButtonEl =\n",
              "            document.querySelector('#' + key + ' button');\n",
              "          quickchartButtonEl.disabled = true;  // To prevent multiple clicks.\n",
              "          quickchartButtonEl.classList.add('colab-df-spinner');\n",
              "          try {\n",
              "            const charts = await google.colab.kernel.invokeFunction(\n",
              "                'suggestCharts', [key], {});\n",
              "          } catch (error) {\n",
              "            console.error('Error during call to suggestCharts:', error);\n",
              "          }\n",
              "          quickchartButtonEl.classList.remove('colab-df-spinner');\n",
              "          quickchartButtonEl.classList.add('colab-df-quickchart-complete');\n",
              "        }\n",
              "        (() => {\n",
              "          let quickchartButtonEl =\n",
              "            document.querySelector('#df-15fb6766-a015-402a-9726-522be473ce29 button');\n",
              "          quickchartButtonEl.style.display =\n",
              "            google.colab.kernel.accessAllowed ? 'block' : 'none';\n",
              "        })();\n",
              "      </script>\n",
              "    </div>\n",
              "\n",
              "    </div>\n",
              "  </div>\n"
            ],
            "application/vnd.google.colaboratory.intrinsic+json": {
              "type": "dataframe",
              "summary": "{\n  \"name\": \"})\",\n  \"rows\": 3,\n  \"fields\": [\n    {\n      \"column\": [\n        \"Region\",\n        \"\"\n      ],\n      \"properties\": {\n        \"dtype\": \"string\",\n        \"num_unique_values\": 3,\n        \"samples\": [\n          \"East\",\n          \"North\",\n          \"South\"\n        ],\n        \"semantic_type\": \"\",\n        \"description\": \"\"\n      }\n    },\n    {\n      \"column\": [\n        \"Sales\",\n        \"sum\"\n      ],\n      \"properties\": {\n        \"dtype\": \"number\",\n        \"std\": 68,\n        \"min\": 170,\n        \"max\": 300,\n        \"num_unique_values\": 3,\n        \"samples\": [\n          170,\n          300,\n          270\n        ],\n        \"semantic_type\": \"\",\n        \"description\": \"\"\n      }\n    },\n    {\n      \"column\": [\n        \"Sales\",\n        \"mean\"\n      ],\n      \"properties\": {\n        \"dtype\": \"number\",\n        \"std\": 34.03429642777023,\n        \"min\": 85.0,\n        \"max\": 150.0,\n        \"num_unique_values\": 3,\n        \"samples\": [\n          85.0,\n          150.0,\n          135.0\n        ],\n        \"semantic_type\": \"\",\n        \"description\": \"\"\n      }\n    },\n    {\n      \"column\": [\n        \"Product\",\n        \"count\"\n      ],\n      \"properties\": {\n        \"dtype\": \"number\",\n        \"std\": 0,\n        \"min\": 2,\n        \"max\": 2,\n        \"num_unique_values\": 1,\n        \"samples\": [\n          2\n        ],\n        \"semantic_type\": \"\",\n        \"description\": \"\"\n      }\n    }\n  ]\n}"
            }
          },
          "metadata": {},
          "execution_count": 18
        }
      ]
    },
    {
      "cell_type": "markdown",
      "source": [
        "# **Advanced Grouping**  \n",
        "## **Transform and Apply Operation**"
      ],
      "metadata": {
        "id": "R141eUHBghQ2"
      }
    },
    {
      "cell_type": "code",
      "source": [
        "# Transform operation\n",
        "# Add group statistics as new columns\n",
        "sales_data['Region_Mean'] = sales_data.groupby('Region')['Sales'].transform('mean')\n",
        "sales_data['Sales_vs_Region_Avg'] = sales_data['Sales'] - sales_data['Region_Mean']\n",
        "print(sales_data)"
      ],
      "metadata": {
        "colab": {
          "base_uri": "https://localhost:8080/"
        },
        "id": "YnMRHmFUfrIL",
        "outputId": "e4ef66f5-9a35-45cd-ca77-0ae5387e47d5"
      },
      "execution_count": null,
      "outputs": [
        {
          "output_type": "stream",
          "name": "stdout",
          "text": [
            "  Region Product  Sales Month  Region_Mean  Sales_vs_Region_Avg\n",
            "0  North       A    100   Jan        150.0                -50.0\n",
            "1  South       B    150   Jan        135.0                 15.0\n",
            "2  North       A    200   Feb        150.0                 50.0\n",
            "3   East       C     80   Jan         85.0                 -5.0\n",
            "4  South       B    120   Feb        135.0                -15.0\n",
            "5   East       A     90   Feb         85.0                  5.0\n"
          ]
        }
      ]
    },
    {
      "cell_type": "markdown",
      "source": [
        "# **Apply Custom Functions:**"
      ],
      "metadata": {
        "id": "HKpbPQHkhODN"
      }
    },
    {
      "cell_type": "code",
      "source": [
        "def sales_range(group):\n",
        "    return group.max() - group.min()\n",
        "\n",
        "# Apply custom function\n",
        "region_range = sales_data.groupby('Region')['Sales'].apply(sales_range)\n",
        "print(region_range)"
      ],
      "metadata": {
        "colab": {
          "base_uri": "https://localhost:8080/"
        },
        "id": "aYrHlEU2erH-",
        "outputId": "6db63c6e-a2a2-4346-edcf-b2c99856f36b"
      },
      "execution_count": null,
      "outputs": [
        {
          "output_type": "stream",
          "name": "stdout",
          "text": [
            "Region\n",
            "East      10\n",
            "North    100\n",
            "South     30\n",
            "Name: Sales, dtype: int64\n"
          ]
        }
      ]
    },
    {
      "cell_type": "markdown",
      "source": [
        "# **Filter Groups:**"
      ],
      "metadata": {
        "id": "z6G0364vhZjg"
      }
    },
    {
      "cell_type": "code",
      "source": [
        "# Keep only groups with more than 1 record\n",
        "filtered = sales_data.groupby('Region').filter(lambda x: len(x) > 1)\n",
        "print(filtered)"
      ],
      "metadata": {
        "colab": {
          "base_uri": "https://localhost:8080/"
        },
        "id": "fpCRsiADhLBs",
        "outputId": "d3d01d3f-3b96-4416-94d3-c45a6250b781"
      },
      "execution_count": null,
      "outputs": [
        {
          "output_type": "stream",
          "name": "stdout",
          "text": [
            "  Region Product  Sales Month  Region_Mean  Sales_vs_Region_Avg\n",
            "0  North       A    100   Jan        150.0                -50.0\n",
            "1  South       B    150   Jan        135.0                 15.0\n",
            "2  North       A    200   Feb        150.0                 50.0\n",
            "3   East       C     80   Jan         85.0                 -5.0\n",
            "4  South       B    120   Feb        135.0                -15.0\n",
            "5   East       A     90   Feb         85.0                  5.0\n"
          ]
        }
      ]
    },
    {
      "cell_type": "code",
      "source": [],
      "metadata": {
        "id": "3a9QPwquhe8J"
      },
      "execution_count": null,
      "outputs": []
    }
  ]
}