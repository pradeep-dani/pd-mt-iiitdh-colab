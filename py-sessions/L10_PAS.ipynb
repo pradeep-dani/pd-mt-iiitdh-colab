{
  "nbformat": 4,
  "nbformat_minor": 0,
  "metadata": {
    "colab": {
      "provenance": [],
      "include_colab_link": true
    },
    "kernelspec": {
      "name": "python3",
      "display_name": "Python 3"
    },
    "language_info": {
      "name": "python"
    }
  },
  "cells": [
    {
      "cell_type": "markdown",
      "metadata": {
        "id": "view-in-github",
        "colab_type": "text"
      },
      "source": [
        "<a href=\"https://colab.research.google.com/github/pradeep-dani/pd-mt-iiitdh-colab/blob/main/L10_PAS.ipynb\" target=\"_parent\"><img src=\"https://colab.research.google.com/assets/colab-badge.svg\" alt=\"Open In Colab\"/></a>"
      ]
    },
    {
      "cell_type": "markdown",
      "source": [
        "# **Demo - Loading and Exploring Data**"
      ],
      "metadata": {
        "id": "rQKFZPF7wdu4"
      }
    },
    {
      "cell_type": "code",
      "source": [
        "#Content: Step 1: Load the data\n",
        "import pandas as pd\n",
        "try:\n",
        "    dfs = pd.read_excel('stores_sales.xlsx')\n",
        "    print(\"✓ Dataset loaded successfully!\")\n",
        "except FileNotFoundError:\n",
        "    print(\"❌ File not found. Please check the file path.\")\n",
        "    print(\"Current path:\", file_path)\n",
        "except Exception as e:\n",
        "    print(f\"❌ Error loading file: {e}\")"
      ],
      "metadata": {
        "colab": {
          "base_uri": "https://localhost:8080/"
        },
        "id": "kofVfRZqwZw5",
        "outputId": "4f56afd5-2ad4-422f-f9f8-28dc15ca5e10"
      },
      "execution_count": null,
      "outputs": [
        {
          "output_type": "stream",
          "name": "stdout",
          "text": [
            "✓ Dataset loaded successfully!\n"
          ]
        }
      ]
    },
    {
      "cell_type": "code",
      "source": [
        "print(dfs)"
      ],
      "metadata": {
        "colab": {
          "base_uri": "https://localhost:8080/"
        },
        "id": "YWj95KLGw_hi",
        "outputId": "4a43c61a-b42b-4363-fd10-5076ce8b59db"
      },
      "execution_count": null,
      "outputs": [
        {
          "output_type": "stream",
          "name": "stdout",
          "text": [
            "                     Product  Price  Rating  Quantity     Category\n",
            "0               Modern Socks  25.10     3.7        15     Clothing\n",
            "1             ProTech Mirror  19.62     4.4        14         Home\n",
            "2             Modern Charger  48.43     5.0        11  Electronics\n",
            "3     Standard Vintage Scarf  29.16     4.1         6     Clothing\n",
            "4            ValueMax Gloves  19.93     4.1        14     Clothing\n",
            "..                       ...    ...     ...       ...          ...\n",
            "995  Modern Lightweight Vase  29.33     3.8        14         Home\n",
            "996    Deluxe Compact Candle  22.80     3.8        17         Home\n",
            "997    Classic Wireless Lamp  19.56     4.2        10         Home\n",
            "998   Classic Heavy-Duty Rug  13.00     4.3        17         Home\n",
            "999      Ultra Smart Blanket  13.33     4.2        19         Home\n",
            "\n",
            "[1000 rows x 5 columns]\n"
          ]
        }
      ]
    },
    {
      "cell_type": "code",
      "source": [
        "#Step 2: Explore the structure\n",
        "#head()      # First 5 rows\n",
        "#dfs.shape       # Number of rows and columns\n",
        "dfs.columns     # Column names"
      ],
      "metadata": {
        "colab": {
          "base_uri": "https://localhost:8080/"
        },
        "id": "Gw0k1Q0DxDzN",
        "outputId": "d091aa82-c325-47d7-c534-000ced3dc00f"
      },
      "execution_count": null,
      "outputs": [
        {
          "output_type": "execute_result",
          "data": {
            "text/plain": [
              "Index(['Product', 'Price', 'Rating', 'Quantity', 'Category'], dtype='object')"
            ]
          },
          "metadata": {},
          "execution_count": 27
        }
      ]
    },
    {
      "cell_type": "code",
      "source": [
        "#Content: Calculate means:\n",
        "dfs['Price'].mean()        # Average price: ₹25.176569999999998\n",
        "#dfs['Rating'].mean()       # Average rating: 4.1701999999999995\n",
        "#dfs['Quantity'].mean()     # Average quantity sold: 12.508"
      ],
      "metadata": {
        "colab": {
          "base_uri": "https://localhost:8080/"
        },
        "id": "4Tdp0bRSxGDP",
        "outputId": "d040c9f1-20e7-4573-ae8e-8639d0c8879a"
      },
      "execution_count": null,
      "outputs": [
        {
          "output_type": "execute_result",
          "data": {
            "text/plain": [
              "np.float64(25.176569999999998)"
            ]
          },
          "metadata": {},
          "execution_count": 32
        }
      ]
    },
    {
      "cell_type": "code",
      "source": [
        "#Find medians:\n",
        "dfs['Price'].median()      # Middle price: ₹24.975\n",
        "#dfs['Rating'].median()     # Middle rating: 4.2"
      ],
      "metadata": {
        "colab": {
          "base_uri": "https://localhost:8080/"
        },
        "id": "VJQkWWm3xHyE",
        "outputId": "e1f05eaa-a206-4a56-8e8e-4adab1bd9862"
      },
      "execution_count": null,
      "outputs": [
        {
          "output_type": "execute_result",
          "data": {
            "text/plain": [
              "24.975"
            ]
          },
          "metadata": {},
          "execution_count": 31
        }
      ]
    },
    {
      "cell_type": "code",
      "source": [
        "#Discover modes:\n",
        "dfs['Category'].mode()     # Most common: Electronics"
      ],
      "metadata": {
        "colab": {
          "base_uri": "https://localhost:8080/",
          "height": 115
        },
        "id": "KhOE4TPqxLkc",
        "outputId": "e55a17ae-5d48-4104-adbe-fafbfb96c73f"
      },
      "execution_count": null,
      "outputs": [
        {
          "output_type": "execute_result",
          "data": {
            "text/plain": [
              "0    Electronics\n",
              "Name: Category, dtype: object"
            ],
            "text/html": [
              "<div>\n",
              "<style scoped>\n",
              "    .dataframe tbody tr th:only-of-type {\n",
              "        vertical-align: middle;\n",
              "    }\n",
              "\n",
              "    .dataframe tbody tr th {\n",
              "        vertical-align: top;\n",
              "    }\n",
              "\n",
              "    .dataframe thead th {\n",
              "        text-align: right;\n",
              "    }\n",
              "</style>\n",
              "<table border=\"1\" class=\"dataframe\">\n",
              "  <thead>\n",
              "    <tr style=\"text-align: right;\">\n",
              "      <th></th>\n",
              "      <th>Category</th>\n",
              "    </tr>\n",
              "  </thead>\n",
              "  <tbody>\n",
              "    <tr>\n",
              "      <th>0</th>\n",
              "      <td>Electronics</td>\n",
              "    </tr>\n",
              "  </tbody>\n",
              "</table>\n",
              "</div><br><label><b>dtype:</b> object</label>"
            ]
          },
          "metadata": {},
          "execution_count": 33
        }
      ]
    },
    {
      "cell_type": "code",
      "source": [
        "#Content: Check the spread:\n",
        "dfs['Price'].std()         # Standard deviation: ₹5.926007247464098\n",
        "#dfs['Price'].min()         # Lowest price: ₹5.99\n",
        "#dfs['Price'].max()         # Highest price: ₹49.99\n",
        "#dfs['Price'].quantile(0.25) # 25th percentile: ₹19.9375\n",
        "#dfs['Price'].quantile(0.75) # 75th percentile: ₹30.1525"
      ],
      "metadata": {
        "colab": {
          "base_uri": "https://localhost:8080/"
        },
        "id": "80dMK_cAxPO0",
        "outputId": "73dfd5f3-ef52-464d-fd33-d927a82eaa5b"
      },
      "execution_count": null,
      "outputs": [
        {
          "output_type": "execute_result",
          "data": {
            "text/plain": [
              "5.926007247464098"
            ]
          },
          "metadata": {},
          "execution_count": 34
        }
      ]
    },
    {
      "cell_type": "code",
      "source": [
        "dfs.describe()"
      ],
      "metadata": {
        "colab": {
          "base_uri": "https://localhost:8080/",
          "height": 300
        },
        "id": "aODNAc3mxQzJ",
        "outputId": "ba092720-1295-4593-aa7f-106fc23688c3"
      },
      "execution_count": null,
      "outputs": [
        {
          "output_type": "execute_result",
          "data": {
            "text/plain": [
              "             Price      Rating     Quantity\n",
              "count  1000.000000  1000.00000  1000.000000\n",
              "mean     25.176570     4.17020    12.508000\n",
              "std       5.926007     0.17912     2.444158\n",
              "min       5.990000     3.40000     5.000000\n",
              "25%      19.937500     4.00000    11.000000\n",
              "50%      24.975000     4.20000    12.000000\n",
              "75%      30.152500     4.30000    14.000000\n",
              "max      49.990000     5.00000    20.000000"
            ],
            "text/html": [
              "\n",
              "  <div id=\"df-002078e6-2d81-404e-945c-6c3e95509ff7\" class=\"colab-df-container\">\n",
              "    <div>\n",
              "<style scoped>\n",
              "    .dataframe tbody tr th:only-of-type {\n",
              "        vertical-align: middle;\n",
              "    }\n",
              "\n",
              "    .dataframe tbody tr th {\n",
              "        vertical-align: top;\n",
              "    }\n",
              "\n",
              "    .dataframe thead th {\n",
              "        text-align: right;\n",
              "    }\n",
              "</style>\n",
              "<table border=\"1\" class=\"dataframe\">\n",
              "  <thead>\n",
              "    <tr style=\"text-align: right;\">\n",
              "      <th></th>\n",
              "      <th>Price</th>\n",
              "      <th>Rating</th>\n",
              "      <th>Quantity</th>\n",
              "    </tr>\n",
              "  </thead>\n",
              "  <tbody>\n",
              "    <tr>\n",
              "      <th>count</th>\n",
              "      <td>1000.000000</td>\n",
              "      <td>1000.00000</td>\n",
              "      <td>1000.000000</td>\n",
              "    </tr>\n",
              "    <tr>\n",
              "      <th>mean</th>\n",
              "      <td>25.176570</td>\n",
              "      <td>4.17020</td>\n",
              "      <td>12.508000</td>\n",
              "    </tr>\n",
              "    <tr>\n",
              "      <th>std</th>\n",
              "      <td>5.926007</td>\n",
              "      <td>0.17912</td>\n",
              "      <td>2.444158</td>\n",
              "    </tr>\n",
              "    <tr>\n",
              "      <th>min</th>\n",
              "      <td>5.990000</td>\n",
              "      <td>3.40000</td>\n",
              "      <td>5.000000</td>\n",
              "    </tr>\n",
              "    <tr>\n",
              "      <th>25%</th>\n",
              "      <td>19.937500</td>\n",
              "      <td>4.00000</td>\n",
              "      <td>11.000000</td>\n",
              "    </tr>\n",
              "    <tr>\n",
              "      <th>50%</th>\n",
              "      <td>24.975000</td>\n",
              "      <td>4.20000</td>\n",
              "      <td>12.000000</td>\n",
              "    </tr>\n",
              "    <tr>\n",
              "      <th>75%</th>\n",
              "      <td>30.152500</td>\n",
              "      <td>4.30000</td>\n",
              "      <td>14.000000</td>\n",
              "    </tr>\n",
              "    <tr>\n",
              "      <th>max</th>\n",
              "      <td>49.990000</td>\n",
              "      <td>5.00000</td>\n",
              "      <td>20.000000</td>\n",
              "    </tr>\n",
              "  </tbody>\n",
              "</table>\n",
              "</div>\n",
              "    <div class=\"colab-df-buttons\">\n",
              "\n",
              "  <div class=\"colab-df-container\">\n",
              "    <button class=\"colab-df-convert\" onclick=\"convertToInteractive('df-002078e6-2d81-404e-945c-6c3e95509ff7')\"\n",
              "            title=\"Convert this dataframe to an interactive table.\"\n",
              "            style=\"display:none;\">\n",
              "\n",
              "  <svg xmlns=\"http://www.w3.org/2000/svg\" height=\"24px\" viewBox=\"0 -960 960 960\">\n",
              "    <path d=\"M120-120v-720h720v720H120Zm60-500h600v-160H180v160Zm220 220h160v-160H400v160Zm0 220h160v-160H400v160ZM180-400h160v-160H180v160Zm440 0h160v-160H620v160ZM180-180h160v-160H180v160Zm440 0h160v-160H620v160Z\"/>\n",
              "  </svg>\n",
              "    </button>\n",
              "\n",
              "  <style>\n",
              "    .colab-df-container {\n",
              "      display:flex;\n",
              "      gap: 12px;\n",
              "    }\n",
              "\n",
              "    .colab-df-convert {\n",
              "      background-color: #E8F0FE;\n",
              "      border: none;\n",
              "      border-radius: 50%;\n",
              "      cursor: pointer;\n",
              "      display: none;\n",
              "      fill: #1967D2;\n",
              "      height: 32px;\n",
              "      padding: 0 0 0 0;\n",
              "      width: 32px;\n",
              "    }\n",
              "\n",
              "    .colab-df-convert:hover {\n",
              "      background-color: #E2EBFA;\n",
              "      box-shadow: 0px 1px 2px rgba(60, 64, 67, 0.3), 0px 1px 3px 1px rgba(60, 64, 67, 0.15);\n",
              "      fill: #174EA6;\n",
              "    }\n",
              "\n",
              "    .colab-df-buttons div {\n",
              "      margin-bottom: 4px;\n",
              "    }\n",
              "\n",
              "    [theme=dark] .colab-df-convert {\n",
              "      background-color: #3B4455;\n",
              "      fill: #D2E3FC;\n",
              "    }\n",
              "\n",
              "    [theme=dark] .colab-df-convert:hover {\n",
              "      background-color: #434B5C;\n",
              "      box-shadow: 0px 1px 3px 1px rgba(0, 0, 0, 0.15);\n",
              "      filter: drop-shadow(0px 1px 2px rgba(0, 0, 0, 0.3));\n",
              "      fill: #FFFFFF;\n",
              "    }\n",
              "  </style>\n",
              "\n",
              "    <script>\n",
              "      const buttonEl =\n",
              "        document.querySelector('#df-002078e6-2d81-404e-945c-6c3e95509ff7 button.colab-df-convert');\n",
              "      buttonEl.style.display =\n",
              "        google.colab.kernel.accessAllowed ? 'block' : 'none';\n",
              "\n",
              "      async function convertToInteractive(key) {\n",
              "        const element = document.querySelector('#df-002078e6-2d81-404e-945c-6c3e95509ff7');\n",
              "        const dataTable =\n",
              "          await google.colab.kernel.invokeFunction('convertToInteractive',\n",
              "                                                    [key], {});\n",
              "        if (!dataTable) return;\n",
              "\n",
              "        const docLinkHtml = 'Like what you see? Visit the ' +\n",
              "          '<a target=\"_blank\" href=https://colab.research.google.com/notebooks/data_table.ipynb>data table notebook</a>'\n",
              "          + ' to learn more about interactive tables.';\n",
              "        element.innerHTML = '';\n",
              "        dataTable['output_type'] = 'display_data';\n",
              "        await google.colab.output.renderOutput(dataTable, element);\n",
              "        const docLink = document.createElement('div');\n",
              "        docLink.innerHTML = docLinkHtml;\n",
              "        element.appendChild(docLink);\n",
              "      }\n",
              "    </script>\n",
              "  </div>\n",
              "\n",
              "\n",
              "    <div id=\"df-de79d90f-a172-49df-9c21-6eb5528d617c\">\n",
              "      <button class=\"colab-df-quickchart\" onclick=\"quickchart('df-de79d90f-a172-49df-9c21-6eb5528d617c')\"\n",
              "                title=\"Suggest charts\"\n",
              "                style=\"display:none;\">\n",
              "\n",
              "<svg xmlns=\"http://www.w3.org/2000/svg\" height=\"24px\"viewBox=\"0 0 24 24\"\n",
              "     width=\"24px\">\n",
              "    <g>\n",
              "        <path d=\"M19 3H5c-1.1 0-2 .9-2 2v14c0 1.1.9 2 2 2h14c1.1 0 2-.9 2-2V5c0-1.1-.9-2-2-2zM9 17H7v-7h2v7zm4 0h-2V7h2v10zm4 0h-2v-4h2v4z\"/>\n",
              "    </g>\n",
              "</svg>\n",
              "      </button>\n",
              "\n",
              "<style>\n",
              "  .colab-df-quickchart {\n",
              "      --bg-color: #E8F0FE;\n",
              "      --fill-color: #1967D2;\n",
              "      --hover-bg-color: #E2EBFA;\n",
              "      --hover-fill-color: #174EA6;\n",
              "      --disabled-fill-color: #AAA;\n",
              "      --disabled-bg-color: #DDD;\n",
              "  }\n",
              "\n",
              "  [theme=dark] .colab-df-quickchart {\n",
              "      --bg-color: #3B4455;\n",
              "      --fill-color: #D2E3FC;\n",
              "      --hover-bg-color: #434B5C;\n",
              "      --hover-fill-color: #FFFFFF;\n",
              "      --disabled-bg-color: #3B4455;\n",
              "      --disabled-fill-color: #666;\n",
              "  }\n",
              "\n",
              "  .colab-df-quickchart {\n",
              "    background-color: var(--bg-color);\n",
              "    border: none;\n",
              "    border-radius: 50%;\n",
              "    cursor: pointer;\n",
              "    display: none;\n",
              "    fill: var(--fill-color);\n",
              "    height: 32px;\n",
              "    padding: 0;\n",
              "    width: 32px;\n",
              "  }\n",
              "\n",
              "  .colab-df-quickchart:hover {\n",
              "    background-color: var(--hover-bg-color);\n",
              "    box-shadow: 0 1px 2px rgba(60, 64, 67, 0.3), 0 1px 3px 1px rgba(60, 64, 67, 0.15);\n",
              "    fill: var(--button-hover-fill-color);\n",
              "  }\n",
              "\n",
              "  .colab-df-quickchart-complete:disabled,\n",
              "  .colab-df-quickchart-complete:disabled:hover {\n",
              "    background-color: var(--disabled-bg-color);\n",
              "    fill: var(--disabled-fill-color);\n",
              "    box-shadow: none;\n",
              "  }\n",
              "\n",
              "  .colab-df-spinner {\n",
              "    border: 2px solid var(--fill-color);\n",
              "    border-color: transparent;\n",
              "    border-bottom-color: var(--fill-color);\n",
              "    animation:\n",
              "      spin 1s steps(1) infinite;\n",
              "  }\n",
              "\n",
              "  @keyframes spin {\n",
              "    0% {\n",
              "      border-color: transparent;\n",
              "      border-bottom-color: var(--fill-color);\n",
              "      border-left-color: var(--fill-color);\n",
              "    }\n",
              "    20% {\n",
              "      border-color: transparent;\n",
              "      border-left-color: var(--fill-color);\n",
              "      border-top-color: var(--fill-color);\n",
              "    }\n",
              "    30% {\n",
              "      border-color: transparent;\n",
              "      border-left-color: var(--fill-color);\n",
              "      border-top-color: var(--fill-color);\n",
              "      border-right-color: var(--fill-color);\n",
              "    }\n",
              "    40% {\n",
              "      border-color: transparent;\n",
              "      border-right-color: var(--fill-color);\n",
              "      border-top-color: var(--fill-color);\n",
              "    }\n",
              "    60% {\n",
              "      border-color: transparent;\n",
              "      border-right-color: var(--fill-color);\n",
              "    }\n",
              "    80% {\n",
              "      border-color: transparent;\n",
              "      border-right-color: var(--fill-color);\n",
              "      border-bottom-color: var(--fill-color);\n",
              "    }\n",
              "    90% {\n",
              "      border-color: transparent;\n",
              "      border-bottom-color: var(--fill-color);\n",
              "    }\n",
              "  }\n",
              "</style>\n",
              "\n",
              "      <script>\n",
              "        async function quickchart(key) {\n",
              "          const quickchartButtonEl =\n",
              "            document.querySelector('#' + key + ' button');\n",
              "          quickchartButtonEl.disabled = true;  // To prevent multiple clicks.\n",
              "          quickchartButtonEl.classList.add('colab-df-spinner');\n",
              "          try {\n",
              "            const charts = await google.colab.kernel.invokeFunction(\n",
              "                'suggestCharts', [key], {});\n",
              "          } catch (error) {\n",
              "            console.error('Error during call to suggestCharts:', error);\n",
              "          }\n",
              "          quickchartButtonEl.classList.remove('colab-df-spinner');\n",
              "          quickchartButtonEl.classList.add('colab-df-quickchart-complete');\n",
              "        }\n",
              "        (() => {\n",
              "          let quickchartButtonEl =\n",
              "            document.querySelector('#df-de79d90f-a172-49df-9c21-6eb5528d617c button');\n",
              "          quickchartButtonEl.style.display =\n",
              "            google.colab.kernel.accessAllowed ? 'block' : 'none';\n",
              "        })();\n",
              "      </script>\n",
              "    </div>\n",
              "\n",
              "    </div>\n",
              "  </div>\n"
            ],
            "application/vnd.google.colaboratory.intrinsic+json": {
              "type": "dataframe",
              "summary": "{\n  \"name\": \"dfs\",\n  \"rows\": 8,\n  \"fields\": [\n    {\n      \"column\": \"Price\",\n      \"properties\": {\n        \"dtype\": \"number\",\n        \"std\": 345.6486472279521,\n        \"min\": 5.926007247464098,\n        \"max\": 1000.0,\n        \"num_unique_values\": 8,\n        \"samples\": [\n          25.176569999999998,\n          24.975,\n          1000.0\n        ],\n        \"semantic_type\": \"\",\n        \"description\": \"\"\n      }\n    },\n    {\n      \"column\": \"Rating\",\n      \"properties\": {\n        \"dtype\": \"number\",\n        \"std\": 352.2811562987312,\n        \"min\": 0.17912019440600202,\n        \"max\": 1000.0,\n        \"num_unique_values\": 8,\n        \"samples\": [\n          4.1701999999999995,\n          4.2,\n          1000.0\n        ],\n        \"semantic_type\": \"\",\n        \"description\": \"\"\n      }\n    },\n    {\n      \"column\": \"Quantity\",\n      \"properties\": {\n        \"dtype\": \"number\",\n        \"std\": 349.7080782716652,\n        \"min\": 2.444158323413175,\n        \"max\": 1000.0,\n        \"num_unique_values\": 8,\n        \"samples\": [\n          12.508,\n          12.0,\n          1000.0\n        ],\n        \"semantic_type\": \"\",\n        \"description\": \"\"\n      }\n    }\n  ]\n}"
            }
          },
          "metadata": {},
          "execution_count": 9
        }
      ]
    },
    {
      "cell_type": "code",
      "source": [
        "#Group by categories to compare:\n",
        "dfs.groupby('Category')['Price'].mean()"
      ],
      "metadata": {
        "colab": {
          "base_uri": "https://localhost:8080/",
          "height": 241
        },
        "id": "f8GeQukZxYxv",
        "outputId": "d70438ee-ba26-4aef-b84a-b63857b284ea"
      },
      "execution_count": null,
      "outputs": [
        {
          "output_type": "execute_result",
          "data": {
            "text/plain": [
              "Category\n",
              "Books          18.789683\n",
              "Clothing       25.605102\n",
              "Electronics    31.706424\n",
              "Home           22.850647\n",
              "Name: Price, dtype: float64"
            ],
            "text/html": [
              "<div>\n",
              "<style scoped>\n",
              "    .dataframe tbody tr th:only-of-type {\n",
              "        vertical-align: middle;\n",
              "    }\n",
              "\n",
              "    .dataframe tbody tr th {\n",
              "        vertical-align: top;\n",
              "    }\n",
              "\n",
              "    .dataframe thead th {\n",
              "        text-align: right;\n",
              "    }\n",
              "</style>\n",
              "<table border=\"1\" class=\"dataframe\">\n",
              "  <thead>\n",
              "    <tr style=\"text-align: right;\">\n",
              "      <th></th>\n",
              "      <th>Price</th>\n",
              "    </tr>\n",
              "    <tr>\n",
              "      <th>Category</th>\n",
              "      <th></th>\n",
              "    </tr>\n",
              "  </thead>\n",
              "  <tbody>\n",
              "    <tr>\n",
              "      <th>Books</th>\n",
              "      <td>18.789683</td>\n",
              "    </tr>\n",
              "    <tr>\n",
              "      <th>Clothing</th>\n",
              "      <td>25.605102</td>\n",
              "    </tr>\n",
              "    <tr>\n",
              "      <th>Electronics</th>\n",
              "      <td>31.706424</td>\n",
              "    </tr>\n",
              "    <tr>\n",
              "      <th>Home</th>\n",
              "      <td>22.850647</td>\n",
              "    </tr>\n",
              "  </tbody>\n",
              "</table>\n",
              "</div><br><label><b>dtype:</b> float64</label>"
            ]
          },
          "metadata": {},
          "execution_count": 10
        }
      ]
    },
    {
      "cell_type": "code",
      "source": [
        "#Group by rating levels:\n",
        "dfs.groupby('Rating')['Quantity'].mean()"
      ],
      "metadata": {
        "colab": {
          "base_uri": "https://localhost:8080/",
          "height": 649
        },
        "id": "LSzYAcouxaft",
        "outputId": "4f5b4da4-5dbc-4638-ccfc-6b69ab6b5db7"
      },
      "execution_count": null,
      "outputs": [
        {
          "output_type": "execute_result",
          "data": {
            "text/plain": [
              "Rating\n",
              "3.4    10.000000\n",
              "3.5    13.000000\n",
              "3.6    10.000000\n",
              "3.7    12.333333\n",
              "3.8    14.500000\n",
              "3.9     9.471154\n",
              "4.0    11.033557\n",
              "4.1    11.910112\n",
              "4.2    13.105485\n",
              "4.3    13.583851\n",
              "4.4    14.705357\n",
              "4.5    14.282051\n",
              "4.6    15.333333\n",
              "4.7    12.666667\n",
              "4.8    14.000000\n",
              "4.9    15.000000\n",
              "5.0    11.000000\n",
              "Name: Quantity, dtype: float64"
            ],
            "text/html": [
              "<div>\n",
              "<style scoped>\n",
              "    .dataframe tbody tr th:only-of-type {\n",
              "        vertical-align: middle;\n",
              "    }\n",
              "\n",
              "    .dataframe tbody tr th {\n",
              "        vertical-align: top;\n",
              "    }\n",
              "\n",
              "    .dataframe thead th {\n",
              "        text-align: right;\n",
              "    }\n",
              "</style>\n",
              "<table border=\"1\" class=\"dataframe\">\n",
              "  <thead>\n",
              "    <tr style=\"text-align: right;\">\n",
              "      <th></th>\n",
              "      <th>Quantity</th>\n",
              "    </tr>\n",
              "    <tr>\n",
              "      <th>Rating</th>\n",
              "      <th></th>\n",
              "    </tr>\n",
              "  </thead>\n",
              "  <tbody>\n",
              "    <tr>\n",
              "      <th>3.4</th>\n",
              "      <td>10.000000</td>\n",
              "    </tr>\n",
              "    <tr>\n",
              "      <th>3.5</th>\n",
              "      <td>13.000000</td>\n",
              "    </tr>\n",
              "    <tr>\n",
              "      <th>3.6</th>\n",
              "      <td>10.000000</td>\n",
              "    </tr>\n",
              "    <tr>\n",
              "      <th>3.7</th>\n",
              "      <td>12.333333</td>\n",
              "    </tr>\n",
              "    <tr>\n",
              "      <th>3.8</th>\n",
              "      <td>14.500000</td>\n",
              "    </tr>\n",
              "    <tr>\n",
              "      <th>3.9</th>\n",
              "      <td>9.471154</td>\n",
              "    </tr>\n",
              "    <tr>\n",
              "      <th>4.0</th>\n",
              "      <td>11.033557</td>\n",
              "    </tr>\n",
              "    <tr>\n",
              "      <th>4.1</th>\n",
              "      <td>11.910112</td>\n",
              "    </tr>\n",
              "    <tr>\n",
              "      <th>4.2</th>\n",
              "      <td>13.105485</td>\n",
              "    </tr>\n",
              "    <tr>\n",
              "      <th>4.3</th>\n",
              "      <td>13.583851</td>\n",
              "    </tr>\n",
              "    <tr>\n",
              "      <th>4.4</th>\n",
              "      <td>14.705357</td>\n",
              "    </tr>\n",
              "    <tr>\n",
              "      <th>4.5</th>\n",
              "      <td>14.282051</td>\n",
              "    </tr>\n",
              "    <tr>\n",
              "      <th>4.6</th>\n",
              "      <td>15.333333</td>\n",
              "    </tr>\n",
              "    <tr>\n",
              "      <th>4.7</th>\n",
              "      <td>12.666667</td>\n",
              "    </tr>\n",
              "    <tr>\n",
              "      <th>4.8</th>\n",
              "      <td>14.000000</td>\n",
              "    </tr>\n",
              "    <tr>\n",
              "      <th>4.9</th>\n",
              "      <td>15.000000</td>\n",
              "    </tr>\n",
              "    <tr>\n",
              "      <th>5.0</th>\n",
              "      <td>11.000000</td>\n",
              "    </tr>\n",
              "  </tbody>\n",
              "</table>\n",
              "</div><br><label><b>dtype:</b> float64</label>"
            ]
          },
          "metadata": {},
          "execution_count": 11
        }
      ]
    },
    {
      "cell_type": "markdown",
      "source": [
        "## **Interactive Exercise - Pandas Practice**"
      ],
      "metadata": {
        "id": "JlwffqDCxh3b"
      }
    },
    {
      "cell_type": "code",
      "source": [
        "import pandas as pd\n",
        "import numpy as np\n",
        "\n",
        "# Create the Student DataFrame\n",
        "print(\"📊 Creating Student DataFrame...\")\n",
        "df1 = pd.DataFrame({\n",
        "    'Name': ['Aarav', 'Ananya', 'Vihaan', 'Ishita', 'Rohan'],\n",
        "    'Math_Score': [85, 78, 92, 88, 75],\n",
        "    'English_Score': [90, 82, 88, 85, 79],\n",
        "    'Hours_Studied': [6, 4, 8, 7, 3]\n",
        "})\n",
        "\n",
        "print(\"\\n📋 Student DataFrame:\")\n",
        "print(df1)\n",
        "\n",
        "print(\"\\n\" + \"=\"*60)\n",
        "print(\"🧮 PERFORMING CALCULATIONS...\")\n",
        "print(\"=\"*60)\n",
        "\n",
        "# 1. Average Math Score\n",
        "print(\"\\n1️⃣ AVERAGE MATH SCORE:\")\n",
        "math_avg = df1['Math_Score'].mean()\n",
        "print(f\"df1['Math_Score'].mean() = {math_avg}\")\n",
        "print(f\"Manual calculation: (85+78+92+88+75)/5 = {(85+78+92+88+75)/5}\")\n",
        "\n",
        "# 2. Median English Score\n",
        "print(\"\\n2️⃣ MEDIAN ENGLISH SCORE:\")\n",
        "eng_median = df1['English_Score'].median()\n",
        "print(f\"df1['English_Score'].median() = {eng_median}\")\n",
        "print(f\"Sorted English scores: {sorted(df1['English_Score'])}\")\n",
        "print(f\"Middle value = {eng_median}\")\n",
        "\n",
        "# 3. Compare Subject Averages\n",
        "print(\"\\n3️⃣ WHICH SUBJECT HAS HIGHER AVERAGE?\")\n",
        "subject_means = df1[['Math_Score', 'English_Score']].mean()\n",
        "print(\"df1[['Math_Score', 'English_Score']].mean():\")\n",
        "print(subject_means)\n",
        "print(f\"\\n🏆 English has higher average: {subject_means['English_Score']:.1f} vs {subject_means['Math_Score']:.1f}\")\n",
        "\n",
        "# 4. Who Studies Most Hours\n",
        "print(\"\\n4️⃣ WHO STUDIES THE MOST HOURS?\")\n",
        "max_hours_student = df1.loc[df1['Hours_Studied'].idxmax(), 'Name']\n",
        "max_hours = df1['Hours_Studied'].max()\n",
        "print(f\"df1.loc[df1['Hours_Studied'].idxmax(), 'Name'] = '{max_hours_student}'\")\n",
        "print(f\"df1['Hours_Studied'].max() = {max_hours}\")\n",
        "\n",
        "print(f\"\\n🎯 {max_hours_student} studies the most with {max_hours} hours!\")\n",
        "\n",
        "print(\"\\n\" + \"=\"*60)\n",
        "print(\"📊 COMPLETE STATISTICAL SUMMARY\")\n",
        "print(\"=\"*60)\n",
        "print(\"\\ndf1.describe():\")\n",
        "print(df1.describe())\n",
        "\n",
        "print(\"\\n🎓 ANSWERS SUMMARY:\")\n",
        "print(\"=\"*30)\n",
        "print(f\"✅ 1. Average Math Score: {math_avg}\")\n",
        "print(f\"✅ 2. Median English Score: {eng_median}\")\n",
        "print(f\"✅ 3. Higher Average Subject: English ({subject_means['English_Score']:.1f} vs {subject_means['Math_Score']:.1f})\")\n",
        "print(f\"✅ 4. Most Studious Student: {max_hours_student} ({max_hours} hours)\")\n",
        "\n",
        "# Bonus: Additional insights\n",
        "print(\"\\n🔍 BONUS INSIGHTS:\")\n",
        "print(\"-\"*20)\n",
        "print(f\"📈 Correlation between study hours and Math scores: {df1['Hours_Studied'].corr(df1['Math_Score']):.3f}\")\n",
        "print(f\"📈 Correlation between study hours and English scores: {df1['Hours_Studied'].corr(df1['English_Score']):.3f}\")\n",
        "print(f\"📊 Student with highest Math score: {df1.loc[df1['Math_Score'].idxmax(), 'Name']} ({df1['Math_Score'].max()})\")\n",
        "print(f\"📊 Student with highest English score: {df1.loc[df1['English_Score'].idxmax(), 'Name']} ({df1['English_Score'].max()})\")"
      ],
      "metadata": {
        "colab": {
          "base_uri": "https://localhost:8080/"
        },
        "id": "2HlFexJbxeC8",
        "outputId": "b131a2d9-6135-4c4f-903c-81efa55afc70"
      },
      "execution_count": null,
      "outputs": [
        {
          "output_type": "stream",
          "name": "stdout",
          "text": [
            "📊 Creating Student DataFrame...\n",
            "\n",
            "📋 Student DataFrame:\n",
            "     Name  Math_Score  English_Score  Hours_Studied\n",
            "0   Aarav          85             90              6\n",
            "1  Ananya          78             82              4\n",
            "2  Vihaan          92             88              8\n",
            "3  Ishita          88             85              7\n",
            "4   Rohan          75             79              3\n",
            "\n",
            "============================================================\n",
            "🧮 PERFORMING CALCULATIONS...\n",
            "============================================================\n",
            "\n",
            "1️⃣ AVERAGE MATH SCORE:\n",
            "df1['Math_Score'].mean() = 83.6\n",
            "Manual calculation: (85+78+92+88+75)/5 = 83.6\n",
            "\n",
            "2️⃣ MEDIAN ENGLISH SCORE:\n",
            "df1['English_Score'].median() = 85.0\n",
            "Sorted English scores: [79, 82, 85, 88, 90]\n",
            "Middle value = 85.0\n",
            "\n",
            "3️⃣ WHICH SUBJECT HAS HIGHER AVERAGE?\n",
            "df1[['Math_Score', 'English_Score']].mean():\n",
            "Math_Score       83.6\n",
            "English_Score    84.8\n",
            "dtype: float64\n",
            "\n",
            "🏆 English has higher average: 84.8 vs 83.6\n",
            "\n",
            "4️⃣ WHO STUDIES THE MOST HOURS?\n",
            "df1.loc[df1['Hours_Studied'].idxmax(), 'Name'] = 'Vihaan'\n",
            "df1['Hours_Studied'].max() = 8\n",
            "\n",
            "🎯 Vihaan studies the most with 8 hours!\n",
            "\n",
            "============================================================\n",
            "📊 COMPLETE STATISTICAL SUMMARY\n",
            "============================================================\n",
            "\n",
            "df1.describe():\n",
            "       Math_Score  English_Score  Hours_Studied\n",
            "count    5.000000       5.000000       5.000000\n",
            "mean    83.600000      84.800000       5.600000\n",
            "std      7.021396       4.438468       2.073644\n",
            "min     75.000000      79.000000       3.000000\n",
            "25%     78.000000      82.000000       4.000000\n",
            "50%     85.000000      85.000000       6.000000\n",
            "75%     88.000000      88.000000       7.000000\n",
            "max     92.000000      90.000000       8.000000\n",
            "\n",
            "🎓 ANSWERS SUMMARY:\n",
            "==============================\n",
            "✅ 1. Average Math Score: 83.6\n",
            "✅ 2. Median English Score: 85.0\n",
            "✅ 3. Higher Average Subject: English (84.8 vs 83.6)\n",
            "✅ 4. Most Studious Student: Vihaan (8 hours)\n",
            "\n",
            "🔍 BONUS INSIGHTS:\n",
            "--------------------\n",
            "📈 Correlation between study hours and Math scores: 0.999\n",
            "📈 Correlation between study hours and English scores: 0.804\n",
            "📊 Student with highest Math score: Vihaan (92)\n",
            "📊 Student with highest English score: Aarav (90)\n"
          ]
        }
      ]
    },
    {
      "cell_type": "markdown",
      "source": [
        "# **Quartiles with Pandas**"
      ],
      "metadata": {
        "id": "2lV_I5_Vxuca"
      }
    },
    {
      "cell_type": "code",
      "source": [
        "import pandas as pd\n",
        "\n",
        "# Employee satisfaction data\n",
        "scores = [6, 8, 5, 9, 7, 8, 6, 10, 4, 7, 8, 9]\n",
        "df2 = pd.Series(scores)\n",
        "\n",
        "# Get all quartiles at once!\n",
        "quartiles = df2.quantile([0.25, 0.5, 0.75])\n",
        "print(quartiles)"
      ],
      "metadata": {
        "colab": {
          "base_uri": "https://localhost:8080/"
        },
        "id": "8tRi4IeBxmht",
        "outputId": "99f0e850-b2a0-4afe-c8ca-021e9f0f02f6"
      },
      "execution_count": null,
      "outputs": [
        {
          "output_type": "stream",
          "name": "stdout",
          "text": [
            "0.25    6.00\n",
            "0.50    7.50\n",
            "0.75    8.25\n",
            "dtype: float64\n"
          ]
        }
      ]
    },
    {
      "cell_type": "code",
      "source": [
        "#Even easier - describe() shows quartiles automatically:\n",
        "df2.describe()"
      ],
      "metadata": {
        "colab": {
          "base_uri": "https://localhost:8080/",
          "height": 335
        },
        "id": "LnWbtsGkxxtn",
        "outputId": "3f1fdbb0-f251-4f52-bc02-6e0e319f5f88"
      },
      "execution_count": null,
      "outputs": [
        {
          "output_type": "execute_result",
          "data": {
            "text/plain": [
              "count    12.00000\n",
              "mean      7.25000\n",
              "std       1.76455\n",
              "min       4.00000\n",
              "25%       6.00000\n",
              "50%       7.50000\n",
              "75%       8.25000\n",
              "max      10.00000\n",
              "dtype: float64"
            ],
            "text/html": [
              "<div>\n",
              "<style scoped>\n",
              "    .dataframe tbody tr th:only-of-type {\n",
              "        vertical-align: middle;\n",
              "    }\n",
              "\n",
              "    .dataframe tbody tr th {\n",
              "        vertical-align: top;\n",
              "    }\n",
              "\n",
              "    .dataframe thead th {\n",
              "        text-align: right;\n",
              "    }\n",
              "</style>\n",
              "<table border=\"1\" class=\"dataframe\">\n",
              "  <thead>\n",
              "    <tr style=\"text-align: right;\">\n",
              "      <th></th>\n",
              "      <th>0</th>\n",
              "    </tr>\n",
              "  </thead>\n",
              "  <tbody>\n",
              "    <tr>\n",
              "      <th>count</th>\n",
              "      <td>12.00000</td>\n",
              "    </tr>\n",
              "    <tr>\n",
              "      <th>mean</th>\n",
              "      <td>7.25000</td>\n",
              "    </tr>\n",
              "    <tr>\n",
              "      <th>std</th>\n",
              "      <td>1.76455</td>\n",
              "    </tr>\n",
              "    <tr>\n",
              "      <th>min</th>\n",
              "      <td>4.00000</td>\n",
              "    </tr>\n",
              "    <tr>\n",
              "      <th>25%</th>\n",
              "      <td>6.00000</td>\n",
              "    </tr>\n",
              "    <tr>\n",
              "      <th>50%</th>\n",
              "      <td>7.50000</td>\n",
              "    </tr>\n",
              "    <tr>\n",
              "      <th>75%</th>\n",
              "      <td>8.25000</td>\n",
              "    </tr>\n",
              "    <tr>\n",
              "      <th>max</th>\n",
              "      <td>10.00000</td>\n",
              "    </tr>\n",
              "  </tbody>\n",
              "</table>\n",
              "</div><br><label><b>dtype:</b> float64</label>"
            ]
          },
          "metadata": {},
          "execution_count": 14
        }
      ]
    },
    {
      "cell_type": "markdown",
      "source": [
        "# **Understanding Quartile Output**\n",
        "## **Reading Pandas Quartile Results**"
      ],
      "metadata": {
        "id": "DZ9AA8GCyDOA"
      }
    },
    {
      "cell_type": "code",
      "source": [
        "dfs['Price'].describe()"
      ],
      "metadata": {
        "colab": {
          "base_uri": "https://localhost:8080/",
          "height": 335
        },
        "id": "PgeeGd6Yx0IK",
        "outputId": "794214be-debd-4a77-9bee-0b7628d932bc"
      },
      "execution_count": null,
      "outputs": [
        {
          "output_type": "execute_result",
          "data": {
            "text/plain": [
              "count    1000.000000\n",
              "mean       25.176570\n",
              "std         5.926007\n",
              "min         5.990000\n",
              "25%        19.937500\n",
              "50%        24.975000\n",
              "75%        30.152500\n",
              "max        49.990000\n",
              "Name: Price, dtype: float64"
            ],
            "text/html": [
              "<div>\n",
              "<style scoped>\n",
              "    .dataframe tbody tr th:only-of-type {\n",
              "        vertical-align: middle;\n",
              "    }\n",
              "\n",
              "    .dataframe tbody tr th {\n",
              "        vertical-align: top;\n",
              "    }\n",
              "\n",
              "    .dataframe thead th {\n",
              "        text-align: right;\n",
              "    }\n",
              "</style>\n",
              "<table border=\"1\" class=\"dataframe\">\n",
              "  <thead>\n",
              "    <tr style=\"text-align: right;\">\n",
              "      <th></th>\n",
              "      <th>Price</th>\n",
              "    </tr>\n",
              "  </thead>\n",
              "  <tbody>\n",
              "    <tr>\n",
              "      <th>count</th>\n",
              "      <td>1000.000000</td>\n",
              "    </tr>\n",
              "    <tr>\n",
              "      <th>mean</th>\n",
              "      <td>25.176570</td>\n",
              "    </tr>\n",
              "    <tr>\n",
              "      <th>std</th>\n",
              "      <td>5.926007</td>\n",
              "    </tr>\n",
              "    <tr>\n",
              "      <th>min</th>\n",
              "      <td>5.990000</td>\n",
              "    </tr>\n",
              "    <tr>\n",
              "      <th>25%</th>\n",
              "      <td>19.937500</td>\n",
              "    </tr>\n",
              "    <tr>\n",
              "      <th>50%</th>\n",
              "      <td>24.975000</td>\n",
              "    </tr>\n",
              "    <tr>\n",
              "      <th>75%</th>\n",
              "      <td>30.152500</td>\n",
              "    </tr>\n",
              "    <tr>\n",
              "      <th>max</th>\n",
              "      <td>49.990000</td>\n",
              "    </tr>\n",
              "  </tbody>\n",
              "</table>\n",
              "</div><br><label><b>dtype:</b> float64</label>"
            ]
          },
          "metadata": {},
          "execution_count": 15
        }
      ]
    },
    {
      "cell_type": "code",
      "source": [
        "import matplotlib.pyplot as plt\n",
        "#Box plots show all quartiles visually:\n",
        "dfs['Price'].plot(kind='box')\n",
        "plt.title('Product Price Distribution')\n",
        "plt.ylabel('Price (₹)')"
      ],
      "metadata": {
        "colab": {
          "base_uri": "https://localhost:8080/",
          "height": 469
        },
        "id": "qcEYCfEHyGsA",
        "outputId": "093e3f25-2ed8-48e3-9f17-d1df55646f73"
      },
      "execution_count": null,
      "outputs": [
        {
          "output_type": "execute_result",
          "data": {
            "text/plain": [
              "Text(0, 0.5, 'Price (₹)')"
            ]
          },
          "metadata": {},
          "execution_count": 16
        },
        {
          "output_type": "display_data",
          "data": {
            "text/plain": [
              "<Figure size 640x480 with 1 Axes>"
            ],
            "image/png": "[encoded data removed]"
          },
          "metadata": {}
        }
      ]
    },
    {
      "cell_type": "code",
      "source": [
        "Q1 = dfs['Price'].quantile(0.25)\n",
        "Q3 = dfs['Price'].quantile(0.75)\n",
        "IQR = Q3 - Q1\n",
        "print(f\"IQR: ₹{IQR:.2f}\")"
      ],
      "metadata": {
        "colab": {
          "base_uri": "https://localhost:8080/"
        },
        "id": "Ts-CASG9yIzk",
        "outputId": "553731c5-1912-484e-eb7d-e2790458b510"
      },
      "execution_count": null,
      "outputs": [
        {
          "output_type": "stream",
          "name": "stdout",
          "text": [
            "IQR: ₹10.21\n"
          ]
        }
      ]
    },
    {
      "cell_type": "code",
      "source": [
        "# Detecting Outliers with Quartiles\n",
        "Q1 = dfs['Price'].quantile(0.25)\n",
        "Q3 = dfs['Price'].quantile(0.75)\n",
        "IQR = Q3 - Q1\n",
        "\n",
        "lower_bound = Q1 - 1.5 * IQR\n",
        "upper_bound = Q3 + 1.5 * IQR\n",
        "\n",
        "outliers = dfs[(dfs['Price'] < lower_bound) | (dfs['Price'] > upper_bound)]\n",
        "print(outliers)"
      ],
      "metadata": {
        "colab": {
          "base_uri": "https://localhost:8080/"
        },
        "id": "yVqDUjdCyLbx",
        "outputId": "b95ea2b9-8125-417c-ed82-9ba6a5bccbaf"
      },
      "execution_count": null,
      "outputs": [
        {
          "output_type": "stream",
          "name": "stdout",
          "text": [
            "                      Product  Price  Rating  Quantity     Category\n",
            "2              Modern Charger  48.43     5.0        11  Electronics\n",
            "21           Basic Headphones  49.99     3.9         8  Electronics\n",
            "23  Standard Wireless Speaker  49.40     4.4         9  Electronics\n",
            "38           Basic Headphones  49.99     3.9         8  Electronics\n"
          ]
        }
      ]
    },
    {
      "cell_type": "code",
      "source": [
        "# Compare quartiles across different groups:\n",
        "# Compare prices by category\n",
        "dfs.groupby('Category')['Price'].describe()"
      ],
      "metadata": {
        "colab": {
          "base_uri": "https://localhost:8080/",
          "height": 206
        },
        "id": "7QStbGkJyNWD",
        "outputId": "1e1350b4-ed6c-439b-a587-1ddebe5d882a"
      },
      "execution_count": null,
      "outputs": [
        {
          "output_type": "execute_result",
          "data": {
            "text/plain": [
              "             count       mean       std    min     25%    50%      75%    max\n",
              "Category                                                                     \n",
              "Books        252.0  18.789683  2.436737   5.99  17.450  18.62  20.6325  24.86\n",
              "Clothing     245.0  25.605102  3.644766  18.47  22.950  25.64  27.9300  41.10\n",
              "Electronics  302.0  31.706424  3.371214  13.89  30.155  31.75  33.1825  49.99\n",
              "Home         201.0  22.850647  3.633725  13.00  19.820  22.94  25.8300  29.33"
            ],
            "text/html": [
              "\n",
              "  <div id=\"df-50866134-ce30-400a-abde-9e5d9564af59\" class=\"colab-df-container\">\n",
              "    <div>\n",
              "<style scoped>\n",
              "    .dataframe tbody tr th:only-of-type {\n",
              "        vertical-align: middle;\n",
              "    }\n",
              "\n",
              "    .dataframe tbody tr th {\n",
              "        vertical-align: top;\n",
              "    }\n",
              "\n",
              "    .dataframe thead th {\n",
              "        text-align: right;\n",
              "    }\n",
              "</style>\n",
              "<table border=\"1\" class=\"dataframe\">\n",
              "  <thead>\n",
              "    <tr style=\"text-align: right;\">\n",
              "      <th></th>\n",
              "      <th>count</th>\n",
              "      <th>mean</th>\n",
              "      <th>std</th>\n",
              "      <th>min</th>\n",
              "      <th>25%</th>\n",
              "      <th>50%</th>\n",
              "      <th>75%</th>\n",
              "      <th>max</th>\n",
              "    </tr>\n",
              "    <tr>\n",
              "      <th>Category</th>\n",
              "      <th></th>\n",
              "      <th></th>\n",
              "      <th></th>\n",
              "      <th></th>\n",
              "      <th></th>\n",
              "      <th></th>\n",
              "      <th></th>\n",
              "      <th></th>\n",
              "    </tr>\n",
              "  </thead>\n",
              "  <tbody>\n",
              "    <tr>\n",
              "      <th>Books</th>\n",
              "      <td>252.0</td>\n",
              "      <td>18.789683</td>\n",
              "      <td>2.436737</td>\n",
              "      <td>5.99</td>\n",
              "      <td>17.450</td>\n",
              "      <td>18.62</td>\n",
              "      <td>20.6325</td>\n",
              "      <td>24.86</td>\n",
              "    </tr>\n",
              "    <tr>\n",
              "      <th>Clothing</th>\n",
              "      <td>245.0</td>\n",
              "      <td>25.605102</td>\n",
              "      <td>3.644766</td>\n",
              "      <td>18.47</td>\n",
              "      <td>22.950</td>\n",
              "      <td>25.64</td>\n",
              "      <td>27.9300</td>\n",
              "      <td>41.10</td>\n",
              "    </tr>\n",
              "    <tr>\n",
              "      <th>Electronics</th>\n",
              "      <td>302.0</td>\n",
              "      <td>31.706424</td>\n",
              "      <td>3.371214</td>\n",
              "      <td>13.89</td>\n",
              "      <td>30.155</td>\n",
              "      <td>31.75</td>\n",
              "      <td>33.1825</td>\n",
              "      <td>49.99</td>\n",
              "    </tr>\n",
              "    <tr>\n",
              "      <th>Home</th>\n",
              "      <td>201.0</td>\n",
              "      <td>22.850647</td>\n",
              "      <td>3.633725</td>\n",
              "      <td>13.00</td>\n",
              "      <td>19.820</td>\n",
              "      <td>22.94</td>\n",
              "      <td>25.8300</td>\n",
              "      <td>29.33</td>\n",
              "    </tr>\n",
              "  </tbody>\n",
              "</table>\n",
              "</div>\n",
              "    <div class=\"colab-df-buttons\">\n",
              "\n",
              "  <div class=\"colab-df-container\">\n",
              "    <button class=\"colab-df-convert\" onclick=\"convertToInteractive('df-50866134-ce30-400a-abde-9e5d9564af59')\"\n",
              "            title=\"Convert this dataframe to an interactive table.\"\n",
              "            style=\"display:none;\">\n",
              "\n",
              "  <svg xmlns=\"http://www.w3.org/2000/svg\" height=\"24px\" viewBox=\"0 -960 960 960\">\n",
              "    <path d=\"M120-120v-720h720v720H120Zm60-500h600v-160H180v160Zm220 220h160v-160H400v160Zm0 220h160v-160H400v160ZM180-400h160v-160H180v160Zm440 0h160v-160H620v160ZM180-180h160v-160H180v160Zm440 0h160v-160H620v160Z\"/>\n",
              "  </svg>\n",
              "    </button>\n",
              "\n",
              "  <style>\n",
              "    .colab-df-container {\n",
              "      display:flex;\n",
              "      gap: 12px;\n",
              "    }\n",
              "\n",
              "    .colab-df-convert {\n",
              "      background-color: #E8F0FE;\n",
              "      border: none;\n",
              "      border-radius: 50%;\n",
              "      cursor: pointer;\n",
              "      display: none;\n",
              "      fill: #1967D2;\n",
              "      height: 32px;\n",
              "      padding: 0 0 0 0;\n",
              "      width: 32px;\n",
              "    }\n",
              "\n",
              "    .colab-df-convert:hover {\n",
              "      background-color: #E2EBFA;\n",
              "      box-shadow: 0px 1px 2px rgba(60, 64, 67, 0.3), 0px 1px 3px 1px rgba(60, 64, 67, 0.15);\n",
              "      fill: #174EA6;\n",
              "    }\n",
              "\n",
              "    .colab-df-buttons div {\n",
              "      margin-bottom: 4px;\n",
              "    }\n",
              "\n",
              "    [theme=dark] .colab-df-convert {\n",
              "      background-color: #3B4455;\n",
              "      fill: #D2E3FC;\n",
              "    }\n",
              "\n",
              "    [theme=dark] .colab-df-convert:hover {\n",
              "      background-color: #434B5C;\n",
              "      box-shadow: 0px 1px 3px 1px rgba(0, 0, 0, 0.15);\n",
              "      filter: drop-shadow(0px 1px 2px rgba(0, 0, 0, 0.3));\n",
              "      fill: #FFFFFF;\n",
              "    }\n",
              "  </style>\n",
              "\n",
              "    <script>\n",
              "      const buttonEl =\n",
              "        document.querySelector('#df-50866134-ce30-400a-abde-9e5d9564af59 button.colab-df-convert');\n",
              "      buttonEl.style.display =\n",
              "        google.colab.kernel.accessAllowed ? 'block' : 'none';\n",
              "\n",
              "      async function convertToInteractive(key) {\n",
              "        const element = document.querySelector('#df-50866134-ce30-400a-abde-9e5d9564af59');\n",
              "        const dataTable =\n",
              "          await google.colab.kernel.invokeFunction('convertToInteractive',\n",
              "                                                    [key], {});\n",
              "        if (!dataTable) return;\n",
              "\n",
              "        const docLinkHtml = 'Like what you see? Visit the ' +\n",
              "          '<a target=\"_blank\" href=https://colab.research.google.com/notebooks/data_table.ipynb>data table notebook</a>'\n",
              "          + ' to learn more about interactive tables.';\n",
              "        element.innerHTML = '';\n",
              "        dataTable['output_type'] = 'display_data';\n",
              "        await google.colab.output.renderOutput(dataTable, element);\n",
              "        const docLink = document.createElement('div');\n",
              "        docLink.innerHTML = docLinkHtml;\n",
              "        element.appendChild(docLink);\n",
              "      }\n",
              "    </script>\n",
              "  </div>\n",
              "\n",
              "\n",
              "    <div id=\"df-05e17b5c-97e8-41b1-ade8-26b55a4746fe\">\n",
              "      <button class=\"colab-df-quickchart\" onclick=\"quickchart('df-05e17b5c-97e8-41b1-ade8-26b55a4746fe')\"\n",
              "                title=\"Suggest charts\"\n",
              "                style=\"display:none;\">\n",
              "\n",
              "<svg xmlns=\"http://www.w3.org/2000/svg\" height=\"24px\"viewBox=\"0 0 24 24\"\n",
              "     width=\"24px\">\n",
              "    <g>\n",
              "        <path d=\"M19 3H5c-1.1 0-2 .9-2 2v14c0 1.1.9 2 2 2h14c1.1 0 2-.9 2-2V5c0-1.1-.9-2-2-2zM9 17H7v-7h2v7zm4 0h-2V7h2v10zm4 0h-2v-4h2v4z\"/>\n",
              "    </g>\n",
              "</svg>\n",
              "      </button>\n",
              "\n",
              "<style>\n",
              "  .colab-df-quickchart {\n",
              "      --bg-color: #E8F0FE;\n",
              "      --fill-color: #1967D2;\n",
              "      --hover-bg-color: #E2EBFA;\n",
              "      --hover-fill-color: #174EA6;\n",
              "      --disabled-fill-color: #AAA;\n",
              "      --disabled-bg-color: #DDD;\n",
              "  }\n",
              "\n",
              "  [theme=dark] .colab-df-quickchart {\n",
              "      --bg-color: #3B4455;\n",
              "      --fill-color: #D2E3FC;\n",
              "      --hover-bg-color: #434B5C;\n",
              "      --hover-fill-color: #FFFFFF;\n",
              "      --disabled-bg-color: #3B4455;\n",
              "      --disabled-fill-color: #666;\n",
              "  }\n",
              "\n",
              "  .colab-df-quickchart {\n",
              "    background-color: var(--bg-color);\n",
              "    border: none;\n",
              "    border-radius: 50%;\n",
              "    cursor: pointer;\n",
              "    display: none;\n",
              "    fill: var(--fill-color);\n",
              "    height: 32px;\n",
              "    padding: 0;\n",
              "    width: 32px;\n",
              "  }\n",
              "\n",
              "  .colab-df-quickchart:hover {\n",
              "    background-color: var(--hover-bg-color);\n",
              "    box-shadow: 0 1px 2px rgba(60, 64, 67, 0.3), 0 1px 3px 1px rgba(60, 64, 67, 0.15);\n",
              "    fill: var(--button-hover-fill-color);\n",
              "  }\n",
              "\n",
              "  .colab-df-quickchart-complete:disabled,\n",
              "  .colab-df-quickchart-complete:disabled:hover {\n",
              "    background-color: var(--disabled-bg-color);\n",
              "    fill: var(--disabled-fill-color);\n",
              "    box-shadow: none;\n",
              "  }\n",
              "\n",
              "  .colab-df-spinner {\n",
              "    border: 2px solid var(--fill-color);\n",
              "    border-color: transparent;\n",
              "    border-bottom-color: var(--fill-color);\n",
              "    animation:\n",
              "      spin 1s steps(1) infinite;\n",
              "  }\n",
              "\n",
              "  @keyframes spin {\n",
              "    0% {\n",
              "      border-color: transparent;\n",
              "      border-bottom-color: var(--fill-color);\n",
              "      border-left-color: var(--fill-color);\n",
              "    }\n",
              "    20% {\n",
              "      border-color: transparent;\n",
              "      border-left-color: var(--fill-color);\n",
              "      border-top-color: var(--fill-color);\n",
              "    }\n",
              "    30% {\n",
              "      border-color: transparent;\n",
              "      border-left-color: var(--fill-color);\n",
              "      border-top-color: var(--fill-color);\n",
              "      border-right-color: var(--fill-color);\n",
              "    }\n",
              "    40% {\n",
              "      border-color: transparent;\n",
              "      border-right-color: var(--fill-color);\n",
              "      border-top-color: var(--fill-color);\n",
              "    }\n",
              "    60% {\n",
              "      border-color: transparent;\n",
              "      border-right-color: var(--fill-color);\n",
              "    }\n",
              "    80% {\n",
              "      border-color: transparent;\n",
              "      border-right-color: var(--fill-color);\n",
              "      border-bottom-color: var(--fill-color);\n",
              "    }\n",
              "    90% {\n",
              "      border-color: transparent;\n",
              "      border-bottom-color: var(--fill-color);\n",
              "    }\n",
              "  }\n",
              "</style>\n",
              "\n",
              "      <script>\n",
              "        async function quickchart(key) {\n",
              "          const quickchartButtonEl =\n",
              "            document.querySelector('#' + key + ' button');\n",
              "          quickchartButtonEl.disabled = true;  // To prevent multiple clicks.\n",
              "          quickchartButtonEl.classList.add('colab-df-spinner');\n",
              "          try {\n",
              "            const charts = await google.colab.kernel.invokeFunction(\n",
              "                'suggestCharts', [key], {});\n",
              "          } catch (error) {\n",
              "            console.error('Error during call to suggestCharts:', error);\n",
              "          }\n",
              "          quickchartButtonEl.classList.remove('colab-df-spinner');\n",
              "          quickchartButtonEl.classList.add('colab-df-quickchart-complete');\n",
              "        }\n",
              "        (() => {\n",
              "          let quickchartButtonEl =\n",
              "            document.querySelector('#df-05e17b5c-97e8-41b1-ade8-26b55a4746fe button');\n",
              "          quickchartButtonEl.style.display =\n",
              "            google.colab.kernel.accessAllowed ? 'block' : 'none';\n",
              "        })();\n",
              "      </script>\n",
              "    </div>\n",
              "\n",
              "    </div>\n",
              "  </div>\n"
            ],
            "application/vnd.google.colaboratory.intrinsic+json": {
              "type": "dataframe",
              "summary": "{\n  \"name\": \"dfs\",\n  \"rows\": 4,\n  \"fields\": [\n    {\n      \"column\": \"Category\",\n      \"properties\": {\n        \"dtype\": \"string\",\n        \"num_unique_values\": 4,\n        \"samples\": [\n          \"Clothing\",\n          \"Home\",\n          \"Books\"\n        ],\n        \"semantic_type\": \"\",\n        \"description\": \"\"\n      }\n    },\n    {\n      \"column\": \"count\",\n      \"properties\": {\n        \"dtype\": \"number\",\n        \"std\": 41.368264809311654,\n        \"min\": 201.0,\n        \"max\": 302.0,\n        \"num_unique_values\": 4,\n        \"samples\": [\n          245.0,\n          201.0,\n          252.0\n        ],\n        \"semantic_type\": \"\",\n        \"description\": \"\"\n      }\n    },\n    {\n      \"column\": \"mean\",\n      \"properties\": {\n        \"dtype\": \"number\",\n        \"std\": 5.423878673992207,\n        \"min\": 18.78968253968254,\n        \"max\": 31.706423841059603,\n        \"num_unique_values\": 4,\n        \"samples\": [\n          25.605102040816327,\n          22.850646766169152,\n          18.78968253968254\n        ],\n        \"semantic_type\": \"\",\n        \"description\": \"\"\n      }\n    },\n    {\n      \"column\": \"std\",\n      \"properties\": {\n        \"dtype\": \"number\",\n        \"std\": 0.570761639688309,\n        \"min\": 2.436737069981047,\n        \"max\": 3.644766359221874,\n        \"num_unique_values\": 4,\n        \"samples\": [\n          3.644766359221874,\n          3.6337246840675728,\n          2.436737069981047\n        ],\n        \"semantic_type\": \"\",\n        \"description\": \"\"\n      }\n    },\n    {\n      \"column\": \"min\",\n      \"properties\": {\n        \"dtype\": \"number\",\n        \"std\": 5.155821143781721,\n        \"min\": 5.99,\n        \"max\": 18.47,\n        \"num_unique_values\": 4,\n        \"samples\": [\n          18.47,\n          13.0,\n          5.99\n        ],\n        \"semantic_type\": \"\",\n        \"description\": \"\"\n      }\n    },\n    {\n      \"column\": \"25%\",\n      \"properties\": {\n        \"dtype\": \"number\",\n        \"std\": 5.521209672707604,\n        \"min\": 17.45,\n        \"max\": 30.155,\n        \"num_unique_values\": 4,\n        \"samples\": [\n          22.95,\n          19.82,\n          17.45\n        ],\n        \"semantic_type\": \"\",\n        \"description\": \"\"\n      }\n    },\n    {\n      \"column\": \"50%\",\n      \"properties\": {\n        \"dtype\": \"number\",\n        \"std\": 5.496801342599167,\n        \"min\": 18.619999999999997,\n        \"max\": 31.75,\n        \"num_unique_values\": 4,\n        \"samples\": [\n          25.64,\n          22.94,\n          18.619999999999997\n        ],\n        \"semantic_type\": \"\",\n        \"description\": \"\"\n      }\n    },\n    {\n      \"column\": \"75%\",\n      \"properties\": {\n        \"dtype\": \"number\",\n        \"std\": 5.194773214491658,\n        \"min\": 20.6325,\n        \"max\": 33.1825,\n        \"num_unique_values\": 4,\n        \"samples\": [\n          27.93,\n          25.83,\n          20.6325\n        ],\n        \"semantic_type\": \"\",\n        \"description\": \"\"\n      }\n    },\n    {\n      \"column\": \"max\",\n      \"properties\": {\n        \"dtype\": \"number\",\n        \"std\": 11.40042396872444,\n        \"min\": 24.86,\n        \"max\": 49.99,\n        \"num_unique_values\": 4,\n        \"samples\": [\n          41.1,\n          29.33,\n          24.86\n        ],\n        \"semantic_type\": \"\",\n        \"description\": \"\"\n      }\n    }\n  ]\n}"
            }
          },
          "metadata": {},
          "execution_count": 19
        }
      ]
    },
    {
      "cell_type": "markdown",
      "source": [
        "# **Hands-On Challenge**\n",
        "## **Title: Quartile Detective Challenge!**\n",
        "*Content: You're analyzing customer satisfaction scores for an app: Ratings: 3.2, 4.1, 3.8, 4.5, 2.9, 4.2, 3.9, 4.8, 3.5, 4.0, 4.3, 3.7*\n",
        "**Your detective mission:**\n",
        "1.\tCalculate Q1, Q2, Q3 using pandas\n",
        "2.\tWhat's the IQR?\n",
        "3.\tAre there any outliers?\n",
        "4.\tWhat percentage of customers rate above 4.0?\n",
        "5.\tWrite one recommendation for the product team\n",
        "\n",
        "**Bonus: Create a box plot to visualize the distribution**"
      ],
      "metadata": {
        "id": "lkl0Vk1jyVpy"
      }
    },
    {
      "cell_type": "code",
      "source": [
        "import matplotlib.pyplot as plt  # Note: pyplot, not just matplotlib\n",
        "import pandas as pd\n",
        "\n",
        "# Assuming you have your dataframe ready\n",
        "# dfs = pd.read_csv('store_sales.csv')  # Your store sales data\n",
        "\n",
        "# ✅ FIXED CODE - Box plots show all quartiles visually:\n",
        "dfs['Price'].plot(kind='box')\n",
        "plt.title('Product Price Distribution')\n",
        "plt.ylabel('Price (₹)')\n",
        "plt.show()  # Good practice to explicitly show the plot\n",
        "\n",
        "# Alternative approach using matplotlib directly:\n",
        "plt.figure(figsize=(8, 6))\n",
        "plt.boxplot(dfs['Price'])\n",
        "plt.title('Product Price Distribution')\n",
        "plt.ylabel('Price (₹)')\n",
        "plt.xlabel('Products')\n",
        "plt.grid(True, alpha=0.3)\n",
        "plt.show()\n",
        "\n",
        "# ✅ BONUS: Enhanced box plot with more details\n",
        "plt.figure(figsize=(10, 6))\n",
        "box_plot = plt.boxplot(dfs['Price'], patch_artist=True)\n",
        "\n",
        "# Customize the box plot\n",
        "box_plot['boxes'][0].set_facecolor('lightblue')\n",
        "box_plot['boxes'][0].set_alpha(0.7)\n",
        "\n",
        "plt.title('Product Price Distribution\\nShowing Quartiles and Outliers', fontsize=14, pad=20)\n",
        "plt.ylabel('Price (₹)', fontsize=12)\n",
        "plt.xlabel('All Products', fontsize=12)\n",
        "plt.grid(True, alpha=0.3)\n",
        "\n",
        "# Add quartile labels\n",
        "quartiles = dfs['Price'].quantile([0.25, 0.5, 0.75])\n",
        "plt.text(1.1, quartiles[0.25], f'Q1: ₹{quartiles[0.25]:.0f}', fontsize=10)\n",
        "plt.text(1.1, quartiles[0.5], f'Q2: ₹{quartiles[0.5]:.0f}', fontsize=10, weight='bold')\n",
        "plt.text(1.1, quartiles[0.75], f'Q3: ₹{quartiles[0.75]:.0f}', fontsize=10)\n",
        "\n",
        "plt.tight_layout()\n",
        "plt.show()\n",
        "\n",
        "# ✅ COMPARISON: Box plots by category\n",
        "plt.figure(figsize=(12, 7))\n",
        "dfs.boxplot(column='Price', by='Category', figsize=(12, 7))\n",
        "plt.suptitle('Price Distribution by Product Category', fontsize=16)\n",
        "plt.title('')  # Remove the automatic title\n",
        "plt.ylabel('Price (₹)', fontsize=12)\n",
        "plt.xlabel('Product Category', fontsize=12)\n",
        "plt.xticks(rotation=45)\n",
        "plt.tight_layout()\n",
        "plt.show()\n",
        "\n",
        "print(\"📊 Box Plot Elements Explanation:\")\n",
        "print(\"=\"*40)\n",
        "print(\"🔶 Bottom whisker: Minimum value (or 1.5×IQR below Q1)\")\n",
        "print(\"📦 Bottom of box: Q1 (25th percentile)\")\n",
        "print(\"📍 Line in box: Q2/Median (50th percentile)\")\n",
        "print(\"📦 Top of box: Q3 (75th percentile)\")\n",
        "print(\"🔶 Top whisker: Maximum value (or 1.5×IQR above Q3)\")\n",
        "print(\"⚫ Dots above/below: Outliers\")\n",
        "print(\"📏 Box height = IQR (contains middle 50% of data)\")"
      ],
      "metadata": {
        "colab": {
          "base_uri": "https://localhost:8080/",
          "height": 1000
        },
        "id": "VxRCzxkhyQAY",
        "outputId": "4a322e19-e125-454c-ca8d-f534701b0dd0"
      },
      "execution_count": null,
      "outputs": [
        {
          "output_type": "display_data",
          "data": {
            "text/plain": [
              "<Figure size 640x480 with 1 Axes>"
            ],
            "image/png": "[encoded data removed]"
          },
          "metadata": {}
        },
        {
          "output_type": "display_data",
          "data": {
            "text/plain": [
              "<Figure size 800x600 with 1 Axes>"
            ],
            "image/png": "[encoded data removed]"
          },
          "metadata": {}
        },
        {
          "output_type": "display_data",
          "data": {
            "text/plain": [
              "<Figure size 1000x600 with 1 Axes>"
            ],
            "image/png": "[encoded data removed]"
          },
          "metadata": {}
        },
        {
          "output_type": "display_data",
          "data": {
            "text/plain": [
              "<Figure size 1200x700 with 0 Axes>"
            ]
          },
          "metadata": {}
        },
        {
          "output_type": "display_data",
          "data": {
            "text/plain": [
              "<Figure size 1200x700 with 1 Axes>"
            ],
            "image/png": "[encoded data removed]"
          },
          "metadata": {}
        },
        {
          "output_type": "stream",
          "name": "stdout",
          "text": [
            "📊 Box Plot Elements Explanation:\n",
            "========================================\n",
            "🔶 Bottom whisker: Minimum value (or 1.5×IQR below Q1)\n",
            "📦 Bottom of box: Q1 (25th percentile)\n",
            "📍 Line in box: Q2/Median (50th percentile)\n",
            "📦 Top of box: Q3 (75th percentile)\n",
            "🔶 Top whisker: Maximum value (or 1.5×IQR above Q3)\n",
            "⚫ Dots above/below: Outliers\n",
            "📏 Box height = IQR (contains middle 50% of data)\n"
          ]
        }
      ]
    },
    {
      "cell_type": "code",
      "source": [
        "# Bonus: Box Plot Visualization, using co-pilot\n",
        "import pandas as pd\n",
        "import matplotlib.pyplot as plt\n",
        "\n",
        "# Data\n",
        "ratings = [3.2, 4.1, 3.8, 4.5, 2.9, 4.2, 3.9, 4.8, 3.5, 4.0, 4.3, 3.7]\n",
        "df = pd.DataFrame({'ratings': ratings})\n",
        "\n",
        "# Calculate quartiles\n",
        "Q1 = df['ratings'].quantile(0.25)\n",
        "Q2 = df['ratings'].quantile(0.5)\n",
        "Q3 = df['ratings'].quantile(0.75)\n",
        "\n",
        "# Create box plot\n",
        "plt.figure(figsize=(10, 6))\n",
        "box_plot = plt.boxplot(df['ratings'], vert=False, patch_artist=True,\n",
        "                       boxprops=dict(facecolor='lightblue', alpha=0.7),\n",
        "                       medianprops=dict(color='red', linewidth=2))\n",
        "\n",
        "plt.title('Customer Satisfaction Ratings Distribution\\n(No Outliers Detected)',\n",
        "          fontsize=14, fontweight='bold')\n",
        "plt.xlabel('Rating (1-5 scale)', fontsize=12)\n",
        "plt.grid(True, alpha=0.3)\n",
        "\n",
        "# Add quartile annotations\n",
        "plt.annotate(f'Q1: {Q1:.1f}', xy=(Q1, 1.1), xytext=(Q1, 1.3),\n",
        "             arrowprops=dict(arrowstyle='->', color='blue'),\n",
        "             ha='center', fontsize=10, color='blue')\n",
        "plt.annotate(f'Q2: {Q2:.1f}', xy=(Q2, 1.1), xytext=(Q2, 1.3),\n",
        "             arrowprops=dict(arrowstyle='->', color='red'),\n",
        "             ha='center', fontsize=10, color='red')\n",
        "plt.annotate(f'Q3: {Q3:.1f}', xy=(Q3, 1.1), xytext=(Q3, 1.3),\n",
        "             arrowprops=dict(arrowstyle='->', color='blue'),\n",
        "             ha='center', fontsize=10, color='blue')\n",
        "\n",
        "# Add text box with key insights\n",
        "textstr = f'IQR: {Q3-Q1:.2f}\\n41.7% rate >4.0\\nNo outliers'\n",
        "props = dict(boxstyle='round', facecolor='wheat', alpha=0.8)\n",
        "plt.text(0.02, 0.7, textstr, transform=plt.gca().transAxes, fontsize=10,\n",
        "         verticalalignment='top', bbox=props)\n",
        "\n",
        "plt.tight_layout()\n",
        "plt.savefig('customer_satisfaction_boxplot.png', dpi=300, bbox_inches='tight')\n",
        "plt.show()\n",
        "\n",
        "print(\"📊 Box plot saved as 'customer_satisfaction_boxplot.png'\")\n",
        "print(\"✅ Visualization confirms: Clean dataset with no outliers!\")"
      ],
      "metadata": {
        "colab": {
          "base_uri": "https://localhost:8080/",
          "height": 590
        },
        "id": "UmqhBKuAyTPR",
        "outputId": "0d93baf8-6e58-437c-c66f-d0d1e7764b65"
      },
      "execution_count": null,
      "outputs": [
        {
          "output_type": "display_data",
          "data": {
            "text/plain": [
              "<Figure size 1000x600 with 1 Axes>"
            ],
            "image/png": "[encoded data removed]"
          },
          "metadata": {}
        },
        {
          "output_type": "stream",
          "name": "stdout",
          "text": [
            "📊 Box plot saved as 'customer_satisfaction_boxplot.png'\n",
            "✅ Visualization confirms: Clean dataset with no outliers!\n"
          ]
        }
      ]
    },
    {
      "cell_type": "code",
      "source": [
        "# Co-pilot Generated Code\n",
        "import pandas as pd\n",
        "import numpy as np\n",
        "import matplotlib.pyplot as plt\n",
        "\n",
        "# Customer satisfaction ratings\n",
        "ratings = [3.2, 4.1, 3.8, 4.5, 2.9, 4.2, 3.9, 4.8, 3.5, 4.0, 4.3, 3.7]\n",
        "df = pd.DataFrame({'ratings': ratings})\n",
        "\n",
        "# 1. Calculate Q1, Q2 (median), Q3\n",
        "Q1 = df['ratings'].quantile(0.25)\n",
        "Q2 = df['ratings'].quantile(0.5)\n",
        "Q3 = df['ratings'].quantile(0.75)\n",
        "print(f\"Q1: {Q1:.2f}, Q2 (Median): {Q2:.2f}, Q3: {Q3:.2f}\")\n",
        "\n",
        "# 2. Calculate IQR\n",
        "IQR = Q3 - Q1\n",
        "print(f\"IQR: {IQR:.2f}\")\n",
        "\n",
        "# 3. Detect outliers\n",
        "lower_bound = Q1 - 1.5 * IQR\n",
        "upper_bound = Q3 + 1.5 * IQR\n",
        "outliers = df[(df['ratings'] < lower_bound) | (df['ratings'] > upper_bound)]\n",
        "print(\"Outliers:\", outliers['ratings'].tolist() if not outliers.empty else \"None\")\n",
        "\n",
        "# 4. Percentage of customers rating above 4.0\n",
        "percent_above_4 = (df['ratings'] > 4.0).mean() * 100\n",
        "print(f\"Percentage rating above 4.0: {percent_above_4:.1f}%\")\n",
        "\n",
        "# 5. Recommendation\n",
        "print(\"Recommendation: Focus on features that delight users, as nearly half rate above 4.0, but address feedback from lower ratings to boost overall satisfaction.\")\n",
        "\n",
        "# Bonus: Box plot\n",
        "plt.boxplot(df['ratings'], vert=False)\n",
        "plt.title('Customer Satisfaction Ratings Box Plot')\n",
        "plt.xlabel('Rating')\n",
        "plt.show()"
      ],
      "metadata": {
        "colab": {
          "base_uri": "https://localhost:8080/",
          "height": 579
        },
        "id": "hPBt2l88yniR",
        "outputId": "8668fd0a-a35d-4471-83ae-c177c2d58036"
      },
      "execution_count": null,
      "outputs": [
        {
          "output_type": "stream",
          "name": "stdout",
          "text": [
            "Q1: 3.65, Q2 (Median): 3.95, Q3: 4.22\n",
            "IQR: 0.57\n",
            "Outliers: None\n",
            "Percentage rating above 4.0: 41.7%\n",
            "Recommendation: Focus on features that delight users, as nearly half rate above 4.0, but address feedback from lower ratings to boost overall satisfaction.\n"
          ]
        },
        {
          "output_type": "display_data",
          "data": {
            "text/plain": [
              "<Figure size 640x480 with 1 Axes>"
            ],
            "image/png": "[encoded data removed]"
          },
          "metadata": {}
        }
      ]
    },
    {
      "cell_type": "code",
      "source": [
        "import matplotlib.pyplot as plt\n",
        "import pandas as pd\n",
        "\n",
        "\n",
        "# ✅ FIXED CODE - Box plots show all quartiles visually:\n",
        "dfs['Price'].plot(kind='box')\n",
        "plt.title('Product Price Distribution')\n",
        "plt.ylabel('Price (₹)')\n",
        "plt.show()  # Good practice to explicitly show the plot\n",
        "\n",
        "# Alternative approach using matplotlib directly:\n",
        "plt.figure(figsize=(8, 6))\n",
        "plt.boxplot(dfs['Price'])\n",
        "plt.title('Product Price Distribution')\n",
        "plt.ylabel('Price (₹)')\n",
        "plt.xlabel('Products')\n",
        "plt.grid(True, alpha=0.3)\n",
        "plt.show()\n",
        "\n",
        "# ✅ BONUS: Enhanced box plot with more details\n",
        "plt.figure(figsize=(10, 6))\n",
        "box_plot = plt.boxplot(dfs['Price'], patch_artist=True)\n",
        "\n",
        "# Customize the box plot\n",
        "box_plot['boxes'][0].set_facecolor('lightblue')\n",
        "box_plot['boxes'][0].set_alpha(0.7)\n",
        "\n",
        "plt.title('Product Price Distribution\\nShowing Quartiles and Outliers', fontsize=14, pad=20)\n",
        "plt.ylabel('Price (₹)', fontsize=12)\n",
        "plt.xlabel('All Products', fontsize=12)\n",
        "plt.grid(True, alpha=0.3)\n",
        "\n",
        "# Add quartile labels\n",
        "quartiles = dfs['Price'].quantile([0.25, 0.5, 0.75])\n",
        "plt.text(1.1, quartiles[0.25], f'Q1: ₹{quartiles[0.25]:.0f}', fontsize=10)\n",
        "plt.text(1.1, quartiles[0.5], f'Q2: ₹{quartiles[0.5]:.0f}', fontsize=10, weight='bold')\n",
        "plt.text(1.1, quartiles[0.75], f'Q3: ₹{quartiles[0.75]:.0f}', fontsize=10)\n",
        "\n",
        "plt.tight_layout()\n",
        "plt.show()\n",
        "\n",
        "# ✅ COMPARISON: Box plots by category\n",
        "plt.figure(figsize=(12, 7))\n",
        "dfs.boxplot(column='Price', by='Category', figsize=(12, 7))\n",
        "plt.suptitle('Price Distribution by Product Category', fontsize=16)\n",
        "plt.title('')  # Remove the automatic title\n",
        "plt.ylabel('Price (₹)', fontsize=12)\n",
        "plt.xlabel('Product Category', fontsize=12)\n",
        "plt.xticks(rotation=45)\n",
        "plt.tight_layout()\n",
        "plt.show()\n",
        "\n",
        "print(\"📊 Box Plot Elements Explanation:\")\n",
        "print(\"=\"*40)\n",
        "print(\"🔶 Bottom whisker: Minimum value (or 1.5×IQR below Q1)\")\n",
        "print(\"📦 Bottom of box: Q1 (25th percentile)\")\n",
        "print(\"📍 Line in box: Q2/Median (50th percentile)\")\n",
        "print(\"📦 Top of box: Q3 (75th percentile)\")\n",
        "print(\"🔶 Top whisker: Maximum value (or 1.5×IQR above Q3)\")\n",
        "print(\"⚫ Dots above/below: Outliers\")\n",
        "print(\"📏 Box height = IQR (contains middle 50% of data)\")"
      ],
      "metadata": {
        "colab": {
          "base_uri": "https://localhost:8080/",
          "height": 1000
        },
        "id": "qsXzreLPysjj",
        "outputId": "6d689869-16e4-4ef5-f3c4-9f52977e617c"
      },
      "execution_count": null,
      "outputs": [
        {
          "output_type": "display_data",
          "data": {
            "text/plain": [
              "<Figure size 640x480 with 1 Axes>"
            ],
            "image/png": "[encoded data removed]"
          },
          "metadata": {}
        },
        {
          "output_type": "display_data",
          "data": {
            "text/plain": [
              "<Figure size 800x600 with 1 Axes>"
            ],
            "image/png": "[encoded data removed]"
          },
          "metadata": {}
        },
        {
          "output_type": "display_data",
          "data": {
            "text/plain": [
              "<Figure size 1000x600 with 1 Axes>"
            ],
            "image/png": "[encoded data removed]"
          },
          "metadata": {}
        },
        {
          "output_type": "display_data",
          "data": {
            "text/plain": [
              "<Figure size 1200x700 with 0 Axes>"
            ]
          },
          "metadata": {}
        },
        {
          "output_type": "display_data",
          "data": {
            "text/plain": [
              "<Figure size 1200x700 with 1 Axes>"
            ],
            "image/png": "[encoded data removed]"
          },
          "metadata": {}
        },
        {
          "output_type": "stream",
          "name": "stdout",
          "text": [
            "📊 Box Plot Elements Explanation:\n",
            "========================================\n",
            "🔶 Bottom whisker: Minimum value (or 1.5×IQR below Q1)\n",
            "📦 Bottom of box: Q1 (25th percentile)\n",
            "📍 Line in box: Q2/Median (50th percentile)\n",
            "📦 Top of box: Q3 (75th percentile)\n",
            "🔶 Top whisker: Maximum value (or 1.5×IQR above Q3)\n",
            "⚫ Dots above/below: Outliers\n",
            "📏 Box height = IQR (contains middle 50% of data)\n"
          ]
        }
      ]
    },
    {
      "cell_type": "code",
      "source": [
        "import pandas as pd\n",
        "import matplotlib.pyplot as plt\n",
        "import numpy as np\n",
        "\n",
        "print(\"📚 CLASS COMPARISON: Same Average, Different Stories\")\n",
        "print(\"=\"*55)\n",
        "\n",
        "# Create the data\n",
        "class_a = [70, 72, 75, 78, 80]\n",
        "class_b = [40, 65, 75, 85, 110]\n",
        "\n",
        "# Verify averages\n",
        "avg_a = np.mean(class_a)\n",
        "avg_b = np.mean(class_b)\n",
        "\n",
        "print(f\"Class A scores: {class_a}\")\n",
        "print(f\"Class A average: {avg_a}\")\n",
        "print(f\"\\nClass B scores: {class_b}\")\n",
        "print(f\"Class B average: {avg_b}\")\n",
        "\n",
        "print(f\"\\n✅ Both classes have the same average: {avg_a}\")\n",
        "\n",
        "# Calculate quartiles using pandas\n",
        "df_a = pd.Series(class_a)\n",
        "df_b = pd.Series(class_b)\n",
        "\n",
        "print(\"\\n\" + \"=\"*55)\n",
        "print(\"📊 QUARTILE ANALYSIS\")\n",
        "print(\"=\"*55)\n",
        "\n",
        "# Class A quartiles\n",
        "q1_a = df_a.quantile(0.25)\n",
        "q2_a = df_a.quantile(0.50)  # median\n",
        "q3_a = df_a.quantile(0.75)\n",
        "iqr_a = q3_a - q1_a\n",
        "\n",
        "print(f\"\\n🎯 CLASS A - Consistent Performance:\")\n",
        "print(f\"Q1 (25th percentile): {q1_a}\")\n",
        "print(f\"Q2 (50th percentile/Median): {q2_a}\")\n",
        "print(f\"Q3 (75th percentile): {q3_a}\")\n",
        "print(f\"IQR (Q3-Q1): {iqr_a}\")\n",
        "\n",
        "# Class B quartiles\n",
        "q1_b = df_b.quantile(0.25)\n",
        "q2_b = df_b.quantile(0.50)  # median\n",
        "q3_b = df_b.quantile(0.75)\n",
        "iqr_b = q3_b - q1_b\n",
        "\n",
        "print(f\"\\n📈 CLASS B - Variable Performance:\")\n",
        "print(f\"Q1 (25th percentile): {q1_b}\")\n",
        "print(f\"Q2 (50th percentile/Median): {q2_b}\")\n",
        "print(f\"Q3 (75th percentile): {q3_b}\")\n",
        "print(f\"IQR (Q3-Q1): {iqr_b}\")\n",
        "\n",
        "print(\"\\n\" + \"=\"*55)\n",
        "print(\"🔍 KEY INSIGHTS\")\n",
        "print(\"=\"*55)\n",
        "\n",
        "print(f\"📏 Range Comparison:\")\n",
        "print(f\"   Class A range: {max(class_a) - min(class_a)} points\")\n",
        "print(f\"   Class B range: {max(class_b) - min(class_b)} points\")\n",
        "\n",
        "print(f\"\\n📦 IQR Comparison (Middle 50% spread):\")\n",
        "print(f\"   Class A IQR: {iqr_a} points (tight distribution)\")\n",
        "print(f\"   Class B IQR: {iqr_b} points (wide distribution)\")\n",
        "print(f\"   Class B has {iqr_b/iqr_a:.1f}x more variation!\")\n",
        "\n",
        "print(f\"\\n🎓 Student Distribution:\")\n",
        "print(f\"   Class A: All students within 5 points of average\")\n",
        "print(f\"   Class B: Students range from 35 points below to 35 points above average\")\n",
        "\n",
        "# Create box plots for visualization\n",
        "fig, (ax1, ax2) = plt.subplots(1, 2, figsize=(12, 6))\n",
        "\n",
        "# Class A box plot\n",
        "ax1.boxplot(class_a, labels=['Class A'])\n",
        "ax1.set_title('Class A: Consistent Performance\\n(IQR = 6 points)')\n",
        "ax1.set_ylabel('Test Score')\n",
        "ax1.grid(True, alpha=0.3)\n",
        "\n",
        "# Class B box plot\n",
        "ax2.boxplot(class_b, labels=['Class B'])\n",
        "ax2.set_title('Class B: Variable Performance\\n(IQR = 20 points)')\n",
        "ax2.set_ylabel('Test Score')\n",
        "ax2.grid(True, alpha=0.3)\n",
        "\n",
        "plt.suptitle('Same Average (75), Different Distributions', fontsize=14, fontweight='bold')\n",
        "plt.tight_layout()\n",
        "plt.show()\n",
        "\n",
        "print(\"\\n\" + \"=\"*55)\n",
        "print(\"💡 TEACHING IMPLICATIONS\")\n",
        "print(\"=\"*55)\n",
        "\n",
        "print(\"🎯 Class A (Consistent):\")\n",
        "print(\"   ✅ Curriculum is working well for most students\")\n",
        "print(\"   ✅ Teaching methods are effective across the board\")\n",
        "print(\"   ✅ Students have similar preparation levels\")\n",
        "print(\"   📋 Action: Maintain current approach, minor adjustments\")\n",
        "\n",
        "print(\"\\n📈 Class B (Variable):\")\n",
        "print(\"   ⚠️  Large performance gaps - some students struggling\")\n",
        "print(\"   ⚠️  Teaching methods may not suit all learning styles\")\n",
        "print(\"   ⚠️  Students have very different preparation levels\")\n",
        "print(\"   📋 Action: Differentiated instruction, targeted support\")\n",
        "\n",
        "print(f\"\\n❓ Interactive Question Response:\")\n",
        "print(f\"   Most teachers prefer Class A because:\")\n",
        "print(f\"   • Easier to plan lessons for consistent group\")\n",
        "print(f\"   • Less differentiation required\")\n",
        "print(f\"   • More predictable outcomes\")\n",
        "print(f\"   However, Class B might benefit more from intervention!\")\n",
        "\n",
        "# Detailed statistics comparison\n",
        "print(\"\\n\" + \"=\"*55)\n",
        "print(\"📈 COMPLETE STATISTICAL COMPARISON\")\n",
        "print(\"=\"*55)\n",
        "\n",
        "comparison_df = pd.DataFrame({\n",
        "    'Metric': ['Mean', 'Median', 'Q1', 'Q3', 'IQR', 'Range', 'Std Dev'],\n",
        "    'Class A': [\n",
        "        f\"{avg_a:.1f}\",\n",
        "        f\"{q2_a:.1f}\",\n",
        "        f\"{q1_a:.1f}\",\n",
        "        f\"{q3_a:.1f}\",\n",
        "        f\"{iqr_a:.1f}\",\n",
        "        f\"{max(class_a) - min(class_a):.1f}\",\n",
        "        f\"{np.std(class_a):.1f}\"\n",
        "    ],\n",
        "    'Class B': [\n",
        "        f\"{avg_b:.1f}\",\n",
        "        f\"{q2_b:.1f}\",\n",
        "        f\"{q1_b:.1f}\",\n",
        "        f\"{q3_b:.1f}\",\n",
        "        f\"{iqr_b:.1f}\",\n",
        "        f\"{max(class_b) - min(class_b):.1f}\",\n",
        "        f\"{np.std(class_b):.1f}\"\n",
        "    ]\n",
        "})\n",
        "\n",
        "print(comparison_df.to_string(index=False))\n",
        "\n",
        "print(f\"\\n🏆 Key Takeaway: Quartiles reveal distribution patterns that averages hide!\")"
      ],
      "metadata": {
        "colab": {
          "base_uri": "https://localhost:8080/",
          "height": 1000
        },
        "id": "Uo-3w8INyxQH",
        "outputId": "40f22f6e-bb27-4948-c169-82473c52ea7a"
      },
      "execution_count": null,
      "outputs": [
        {
          "output_type": "stream",
          "name": "stdout",
          "text": [
            "📚 CLASS COMPARISON: Same Average, Different Stories\n",
            "=======================================================\n",
            "Class A scores: [70, 72, 75, 78, 80]\n",
            "Class A average: 75.0\n",
            "\n",
            "Class B scores: [40, 65, 75, 85, 110]\n",
            "Class B average: 75.0\n",
            "\n",
            "✅ Both classes have the same average: 75.0\n",
            "\n",
            "=======================================================\n",
            "📊 QUARTILE ANALYSIS\n",
            "=======================================================\n",
            "\n",
            "🎯 CLASS A - Consistent Performance:\n",
            "Q1 (25th percentile): 72.0\n",
            "Q2 (50th percentile/Median): 75.0\n",
            "Q3 (75th percentile): 78.0\n",
            "IQR (Q3-Q1): 6.0\n",
            "\n",
            "📈 CLASS B - Variable Performance:\n",
            "Q1 (25th percentile): 65.0\n",
            "Q2 (50th percentile/Median): 75.0\n",
            "Q3 (75th percentile): 85.0\n",
            "IQR (Q3-Q1): 20.0\n",
            "\n",
            "=======================================================\n",
            "🔍 KEY INSIGHTS\n",
            "=======================================================\n",
            "📏 Range Comparison:\n",
            "   Class A range: 10 points\n",
            "   Class B range: 70 points\n",
            "\n",
            "📦 IQR Comparison (Middle 50% spread):\n",
            "   Class A IQR: 6.0 points (tight distribution)\n",
            "   Class B IQR: 20.0 points (wide distribution)\n",
            "   Class B has 3.3x more variation!\n",
            "\n",
            "🎓 Student Distribution:\n",
            "   Class A: All students within 5 points of average\n",
            "   Class B: Students range from 35 points below to 35 points above average\n"
          ]
        },
        {
          "output_type": "stream",
          "name": "stderr",
          "text": [
            "/tmp/ipython-input-559966662.py:76: MatplotlibDeprecationWarning: The 'labels' parameter of boxplot() has been renamed 'tick_labels' since Matplotlib 3.9; support for the old name will be dropped in 3.11.\n",
            "  ax1.boxplot(class_a, labels=['Class A'])\n",
            "/tmp/ipython-input-559966662.py:82: MatplotlibDeprecationWarning: The 'labels' parameter of boxplot() has been renamed 'tick_labels' since Matplotlib 3.9; support for the old name will be dropped in 3.11.\n",
            "  ax2.boxplot(class_b, labels=['Class B'])\n"
          ]
        },
        {
          "output_type": "display_data",
          "data": {
            "text/plain": [
              "<Figure size 1200x600 with 2 Axes>"
            ],
            "image/png": "[encoded data removed]"
          },
          "metadata": {}
        },
        {
          "output_type": "stream",
          "name": "stdout",
          "text": [
            "\n",
            "=======================================================\n",
            "💡 TEACHING IMPLICATIONS\n",
            "=======================================================\n",
            "🎯 Class A (Consistent):\n",
            "   ✅ Curriculum is working well for most students\n",
            "   ✅ Teaching methods are effective across the board\n",
            "   ✅ Students have similar preparation levels\n",
            "   📋 Action: Maintain current approach, minor adjustments\n",
            "\n",
            "📈 Class B (Variable):\n",
            "   ⚠️  Large performance gaps - some students struggling\n",
            "   ⚠️  Teaching methods may not suit all learning styles\n",
            "   ⚠️  Students have very different preparation levels\n",
            "   📋 Action: Differentiated instruction, targeted support\n",
            "\n",
            "❓ Interactive Question Response:\n",
            "   Most teachers prefer Class A because:\n",
            "   • Easier to plan lessons for consistent group\n",
            "   • Less differentiation required\n",
            "   • More predictable outcomes\n",
            "   However, Class B might benefit more from intervention!\n",
            "\n",
            "=======================================================\n",
            "📈 COMPLETE STATISTICAL COMPARISON\n",
            "=======================================================\n",
            " Metric Class A Class B\n",
            "   Mean    75.0    75.0\n",
            " Median    75.0    75.0\n",
            "     Q1    72.0    65.0\n",
            "     Q3    78.0    85.0\n",
            "    IQR     6.0    20.0\n",
            "  Range    10.0    70.0\n",
            "Std Dev     3.7    23.0\n",
            "\n",
            "🏆 Key Takeaway: Quartiles reveal distribution patterns that averages hide!\n"
          ]
        }
      ]
    },
    {
      "cell_type": "code",
      "source": [],
      "metadata": {
        "id": "xgRYk1WBy1Sg"
      },
      "execution_count": null,
      "outputs": []
    }
  ]
}