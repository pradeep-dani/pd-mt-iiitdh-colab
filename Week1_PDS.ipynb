{
  "nbformat": 4,
  "nbformat_minor": 0,
  "metadata": {
    "colab": {
      "provenance": [],
      "include_colab_link": true
    },
    "kernelspec": {
      "name": "python3",
      "display_name": "Python 3"
    },
    "language_info": {
      "name": "python"
    }
  },
  "cells": [
    {
      "cell_type": "markdown",
      "metadata": {
        "id": "view-in-github",
        "colab_type": "text"
      },
      "source": [
        "<a href=\"https://colab.research.google.com/github/pradeep-dani/pd-mt-iiitdh-colab/blob/main/Week1_PDS.ipynb\" target=\"_parent\"><img src=\"https://colab.research.google.com/assets/colab-badge.svg\" alt=\"Open In Colab\"/></a>"
      ]
    },
    {
      "cell_type": "markdown",
      "source": [
        "**Course: Python for Data Science, IIIT Dharwad - Week 1 Class Demo**"
      ],
      "metadata": {
        "id": "yCSoGaj0iHq4"
      }
    },
    {
      "cell_type": "code",
      "source": [
        "print(\"Hello world!\")"
      ],
      "metadata": {
        "colab": {
          "base_uri": "https://localhost:8080/"
        },
        "id": "z212OUhNiWWo",
        "outputId": "3b7fcfb3-4480-427b-8621-422b4b9a79a8"
      },
      "execution_count": null,
      "outputs": [
        {
          "output_type": "stream",
          "name": "stdout",
          "text": [
            "Hello world!\n"
          ]
        }
      ]
    },
    {
      "cell_type": "code",
      "source": [
        "# This is Comment"
      ],
      "metadata": {
        "id": "FM2Nvu2fizRp"
      },
      "execution_count": null,
      "outputs": []
    },
    {
      "cell_type": "code",
      "source": [
        "\"\"\"This would be a multiline comment\n",
        "in Python that\n",
        "spans several lines,\n",
        "yes\n",
        "\"\"\""
      ],
      "metadata": {
        "colab": {
          "base_uri": "https://localhost:8080/",
          "height": 35
        },
        "id": "o2m01LG2i7Aw",
        "outputId": "01cf7cbf-aaed-459e-c35a-6b0b4003e3bf"
      },
      "execution_count": null,
      "outputs": [
        {
          "output_type": "execute_result",
          "data": {
            "text/plain": [
              "'This would be a multiline comment\\nin Python that\\nspans several lines,\\nyes\\n'"
            ],
            "application/vnd.google.colaboratory.intrinsic+json": {
              "type": "string"
            }
          },
          "metadata": {},
          "execution_count": 30
        }
      ]
    },
    {
      "cell_type": "code",
      "source": [
        "print(\"Hello\")"
      ],
      "metadata": {
        "colab": {
          "base_uri": "https://localhost:8080/"
        },
        "id": "wNbSFY8_jBvq",
        "outputId": "5a1644db-8fa8-46b6-e614-08833a91ff6e"
      },
      "execution_count": null,
      "outputs": [
        {
          "output_type": "stream",
          "name": "stdout",
          "text": [
            "Hello\n"
          ]
        }
      ]
    },
    {
      "cell_type": "code",
      "source": [
        "print('Hello')"
      ],
      "metadata": {
        "colab": {
          "base_uri": "https://localhost:8080/"
        },
        "id": "NCAKqzIljYJQ",
        "outputId": "c2b2bdb7-d228-4003-e1c8-48b870ea3c51"
      },
      "execution_count": null,
      "outputs": [
        {
          "output_type": "stream",
          "name": "stdout",
          "text": [
            "Hello\n"
          ]
        }
      ]
    },
    {
      "cell_type": "code",
      "source": [
        "# define variable count\n",
        "count = 0\n",
        "print(count)"
      ],
      "metadata": {
        "colab": {
          "base_uri": "https://localhost:8080/"
        },
        "id": "K5sRTgR4jaQz",
        "outputId": "5de5811c-74e1-427c-e76c-957567d0bdfd"
      },
      "execution_count": null,
      "outputs": [
        {
          "output_type": "stream",
          "name": "stdout",
          "text": [
            "0\n"
          ]
        }
      ]
    },
    {
      "cell_type": "code",
      "source": [
        "# redefine variable count\n",
        "count = 2\n",
        "print(count)"
      ],
      "metadata": {
        "colab": {
          "base_uri": "https://localhost:8080/"
        },
        "id": "Yl9_p29tjhv1",
        "outputId": "c17e0a8e-a3bb-4892-cb65-8051c7b8540a"
      },
      "execution_count": null,
      "outputs": [
        {
          "output_type": "stream",
          "name": "stdout",
          "text": [
            "2\n"
          ]
        }
      ]
    },
    {
      "cell_type": "code",
      "source": [
        "# An integer assignment\n",
        "age = 45\n",
        "\n",
        "# A floating point\n",
        "salary = 1456.8\n",
        "\n",
        "# A string\n",
        "name = \"Subhash\"\n",
        "\n",
        "print(age)\n",
        "print(salary)\n",
        "print(name)\n"
      ],
      "metadata": {
        "colab": {
          "base_uri": "https://localhost:8080/"
        },
        "id": "NC-itrTGjjtz",
        "outputId": "08c074d3-7e43-46b5-98ec-80a64683fe0c"
      },
      "execution_count": null,
      "outputs": [
        {
          "output_type": "stream",
          "name": "stdout",
          "text": [
            "45\n",
            "1456.8\n",
            "Subhash\n"
          ]
        }
      ]
    },
    {
      "cell_type": "code",
      "source": [
        "# Examples of Arithmetic Operator\n",
        "a = 9\n",
        "b = 4\n",
        "\n",
        "# Addition of numbers\n",
        "add = a + b\n",
        "# Subtraction of numbers\n",
        "sub = a - b\n",
        "# Multiplication of number\n",
        "mul = a * b\n",
        "# Division(float) of number\n",
        "div1 = a / b\n",
        "# Division(floor) of number\n",
        "div2 = a // b\n",
        "# Modulus (remainder)\n",
        "mod = a % b\n",
        "# Exponent (power)\n",
        "pwr = a ** b\n",
        "\n",
        "print(\"Addition =\",add)\n",
        "print(\"Subtraction = \",sub)\n",
        "print(\"Multiplication = \",mul)\n",
        "print(\"Division = \",div1)\n",
        "print(\"Floor division = \",div2)\n",
        "print(\"Modulo = \",mod)\n",
        "print(\"Exponent = \",pwr)"
      ],
      "metadata": {
        "colab": {
          "base_uri": "https://localhost:8080/"
        },
        "id": "-kTAhncrjo8v",
        "outputId": "3e7d2c66-835e-47d0-cbfb-d7c3f361040d"
      },
      "execution_count": null,
      "outputs": [
        {
          "output_type": "stream",
          "name": "stdout",
          "text": [
            "Addition = 13\n",
            "Subtraction =  5\n",
            "Multiplication =  36\n",
            "Division =  2.25\n",
            "Floor division =  2\n",
            "Modulo =  1\n",
            "Exponent =  6561\n"
          ]
        }
      ]
    },
    {
      "cell_type": "code",
      "source": [
        "# Examples of Relational Operators\n",
        "a = 13\n",
        "b = 33\n",
        "\n",
        "# a > b is False\n",
        "print(a > b)\n",
        "\n",
        "# a < b is True\n",
        "print(a < b)\n",
        "\n",
        "# a == b is False\n",
        "print(a == b)\n",
        "\n",
        "# a != b is True\n",
        "print(a != b)\n",
        "\n",
        "# a >= b is False\n",
        "print(a >= b)\n",
        "\n",
        "# a <= b is True\n",
        "print(a <= b)"
      ],
      "metadata": {
        "colab": {
          "base_uri": "https://localhost:8080/"
        },
        "id": "Kn6xr5_FkGSP",
        "outputId": "3efe980f-5547-42e4-a018-ae4114372a20"
      },
      "execution_count": null,
      "outputs": [
        {
          "output_type": "stream",
          "name": "stdout",
          "text": [
            "False\n",
            "True\n",
            "False\n",
            "True\n",
            "False\n",
            "True\n"
          ]
        }
      ]
    },
    {
      "cell_type": "code",
      "source": [
        "# Examples of Logical Operator\n",
        "a = True\n",
        "b = False\n",
        "\n",
        "# Print a and b is False\n",
        "print(a and b)\n",
        "\n",
        "# Print a or b is True\n",
        "print(a or b)\n",
        "\n",
        "# Print not a is False\n",
        "print(not a)"
      ],
      "metadata": {
        "colab": {
          "base_uri": "https://localhost:8080/"
        },
        "id": "OfEPEfj-kpYy",
        "outputId": "d3b78f26-5c3c-4e4d-e79b-916afc6a042d"
      },
      "execution_count": null,
      "outputs": [
        {
          "output_type": "stream",
          "name": "stdout",
          "text": [
            "False\n",
            "True\n",
            "False\n"
          ]
        }
      ]
    },
    {
      "cell_type": "code",
      "source": [
        "print(15 + 20 * 3)"
      ],
      "metadata": {
        "colab": {
          "base_uri": "https://localhost:8080/"
        },
        "id": "qkBneg81kxQa",
        "outputId": "e0c89766-fa04-4c27-a3d5-2a2a2ac8f7fd"
      },
      "execution_count": null,
      "outputs": [
        {
          "output_type": "stream",
          "name": "stdout",
          "text": [
            "75\n"
          ]
        }
      ]
    },
    {
      "cell_type": "code",
      "source": [
        "print(13 // 2 + 3)"
      ],
      "metadata": {
        "colab": {
          "base_uri": "https://localhost:8080/"
        },
        "id": "7MIECsnqk439",
        "outputId": "719a17fd-8679-4a6d-96f1-4c5fc5ad43fe"
      },
      "execution_count": null,
      "outputs": [
        {
          "output_type": "stream",
          "name": "stdout",
          "text": [
            "9\n"
          ]
        }
      ]
    },
    {
      "cell_type": "code",
      "source": [
        "print(31 + 10 // 3)"
      ],
      "metadata": {
        "colab": {
          "base_uri": "https://localhost:8080/"
        },
        "id": "O2p20-eRk-4e",
        "outputId": "8c0a46d6-e23b-4ea0-c24c-6d232cb96fc4"
      },
      "execution_count": null,
      "outputs": [
        {
          "output_type": "stream",
          "name": "stdout",
          "text": [
            "34\n"
          ]
        }
      ]
    },
    {
      "cell_type": "code",
      "source": [
        "print(20 % 7 // 3)"
      ],
      "metadata": {
        "colab": {
          "base_uri": "https://localhost:8080/"
        },
        "id": "pFszhPVElEF4",
        "outputId": "a5612282-77bb-46aa-e27f-2ec5e74182a5"
      },
      "execution_count": null,
      "outputs": [
        {
          "output_type": "stream",
          "name": "stdout",
          "text": [
            "2\n"
          ]
        }
      ]
    },
    {
      "cell_type": "code",
      "source": [
        "# input() example\n",
        "name = \"ravi\"\n",
        "name = input(\"Enter your name:\")\n",
        "print(\"Hello\",name)"
      ],
      "metadata": {
        "colab": {
          "base_uri": "https://localhost:8080/"
        },
        "id": "KFGe8AxzlHQO",
        "outputId": "9de23d98-9ec6-470c-b90a-67d8666bb96e"
      },
      "execution_count": null,
      "outputs": [
        {
          "output_type": "stream",
          "name": "stdout",
          "text": [
            "Enter your name:ravi\n",
            "Hello ravi\n"
          ]
        }
      ]
    },
    {
      "cell_type": "code",
      "source": [
        "# Python program showing\n",
        "# indentation\n",
        "\n",
        "institute = 'IIITD'\n",
        "\n",
        "if institute == 'IIITD':\n",
        "   ('Hi, IIITD student!')\n",
        "else:\n",
        "  print('The university is not IIITD')\n",
        "print('All set !')"
      ],
      "metadata": {
        "colab": {
          "base_uri": "https://localhost:8080/"
        },
        "id": "LqbRv5MElghS",
        "outputId": "6a45213d-26de-4333-af82-c633b092127b"
      },
      "execution_count": null,
      "outputs": [
        {
          "output_type": "stream",
          "name": "stdout",
          "text": [
            "All set !\n"
          ]
        }
      ]
    },
    {
      "cell_type": "code",
      "source": [],
      "metadata": {
        "id": "VE5IkV6tmf7J"
      },
      "execution_count": null,
      "outputs": []
    }
  ]
}